{
 "cells": [
  {
   "cell_type": "markdown",
   "id": "2d1e746a",
   "metadata": {},
   "source": [
    "# 기본 자료형\n",
    "\n",
    "|구분|자료형|변환 함수|의미|\n",
    "|:--|:--|:--|:--|\n",
    "|int|정수|int(n)|n을 정수로 변환|\n",
    "|float|실수|float(n)|n을 실수로 변환|\n",
    "|boll|논리|boll(n)|n을 논리로 변환|\n",
    "|str|문자열|str(n)|n을 문자열로 변환|"
   ]
  },
  {
   "cell_type": "markdown",
   "id": "271ed120",
   "metadata": {},
   "source": [
    "## 정수(int)"
   ]
  },
  {
   "cell_type": "code",
   "execution_count": 1,
   "id": "1c85cac2",
   "metadata": {},
   "outputs": [
    {
     "name": "stdout",
     "output_type": "stream",
     "text": [
      "<class 'int'>\n"
     ]
    }
   ],
   "source": [
    "age= 25\n",
    "print(type(age))"
   ]
  },
  {
   "cell_type": "markdown",
   "id": "1eff52ab",
   "metadata": {},
   "source": [
    "### 다른 자료형의 값을 정수형 데이터로 변환"
   ]
  },
  {
   "cell_type": "code",
   "execution_count": 3,
   "id": "6bc6048a",
   "metadata": {},
   "outputs": [
    {
     "name": "stdout",
     "output_type": "stream",
     "text": [
      "1\n",
      "1\n",
      "0\n",
      "100\n"
     ]
    }
   ],
   "source": [
    "print(int(1.9))\n",
    "print(int(True))\n",
    "print(int(False))\n",
    "print(int(\"100\"))"
   ]
  },
  {
   "cell_type": "markdown",
   "id": "93df4320",
   "metadata": {},
   "source": [
    "## 실수(FLOAT)"
   ]
  },
  {
   "cell_type": "code",
   "execution_count": 4,
   "id": "f6625196",
   "metadata": {},
   "outputs": [
    {
     "name": "stdout",
     "output_type": "stream",
     "text": [
      "<class 'float'>\n"
     ]
    }
   ],
   "source": [
    "height=168.5\n",
    "print(type(height))"
   ]
  },
  {
   "cell_type": "markdown",
   "id": "665ebf38",
   "metadata": {},
   "source": [
    "### 다른 자료형의 값을 실수형 데이터로 변환"
   ]
  },
  {
   "cell_type": "code",
   "execution_count": 5,
   "id": "7b53b25a",
   "metadata": {},
   "outputs": [
    {
     "name": "stdout",
     "output_type": "stream",
     "text": [
      "1.0\n",
      "1.0\n",
      "0.0\n",
      "3.14\n",
      "100.0\n"
     ]
    }
   ],
   "source": [
    "print(float(1))\n",
    "print(float(True))\n",
    "print(float(False))\n",
    "print(float(\"3.14\"))\n",
    "print(float(\"100\"))"
   ]
  },
  {
   "cell_type": "markdown",
   "id": "8f57bda6",
   "metadata": {},
   "source": [
    "## 논리(bool)\n",
    "\n",
    "\n",
    "- 참과 거짓을 표현하는  True, False 값을 가짐\n"
   ]
  },
  {
   "cell_type": "code",
   "execution_count": 6,
   "id": "37077c1f",
   "metadata": {},
   "outputs": [
    {
     "name": "stdout",
     "output_type": "stream",
     "text": [
      "False\n",
      "False\n"
     ]
    }
   ],
   "source": [
    "print(bool(0))    # 0이면 False\n",
    "print(bool(\"\"))   # 공백이면 False"
   ]
  },
  {
   "cell_type": "code",
   "execution_count": 10,
   "id": "23f9404a",
   "metadata": {},
   "outputs": [
    {
     "name": "stdout",
     "output_type": "stream",
     "text": [
      "True\n",
      "True\n",
      "True\n",
      "True\n"
     ]
    }
   ],
   "source": [
    "print(bool(1))\n",
    "print(bool(22))\n",
    "print(bool(-3))\n",
    "print(bool(\"hello\"))"
   ]
  },
  {
   "cell_type": "markdown",
   "id": "45867327",
   "metadata": {},
   "source": [
    "### 비교 연산자의 판단 결과"
   ]
  },
  {
   "cell_type": "code",
   "execution_count": 11,
   "id": "fb6781e5",
   "metadata": {},
   "outputs": [
    {
     "name": "stdout",
     "output_type": "stream",
     "text": [
      "True\n",
      "False\n"
     ]
    }
   ],
   "source": [
    "print(3 > 1)\n",
    "print(3 < 1)"
   ]
  },
  {
   "cell_type": "markdown",
   "id": "b61945e8",
   "metadata": {},
   "source": [
    "### 같은지 다른지 비교"
   ]
  },
  {
   "cell_type": "code",
   "execution_count": 14,
   "id": "162f5ef2",
   "metadata": {},
   "outputs": [
    {
     "name": "stdout",
     "output_type": "stream",
     "text": [
      "True\n",
      "False\n"
     ]
    }
   ],
   "source": [
    "# 같은지 비교\n",
    "print(10 == 10) # ==는 동등비교\n",
    "print(10 == 12)"
   ]
  },
  {
   "cell_type": "code",
   "execution_count": 16,
   "id": "fab8abd3",
   "metadata": {},
   "outputs": [
    {
     "name": "stdout",
     "output_type": "stream",
     "text": [
      "False\n",
      "True\n"
     ]
    }
   ],
   "source": [
    "# 다른지 비교\n",
    "print(10 != 10) # != 다르냐고 물어 보는 거\n",
    "print(10 != 15)"
   ]
  },
  {
   "cell_type": "code",
   "execution_count": 17,
   "id": "5ab14011",
   "metadata": {},
   "outputs": [
    {
     "name": "stdout",
     "output_type": "stream",
     "text": [
      "True\n",
      "False\n"
     ]
    }
   ],
   "source": [
    "print(\"Python\" == \"Python\")\n",
    "print(\"Python\" == \"python\")    # 대소문자 구분 함 "
   ]
  },
  {
   "cell_type": "markdown",
   "id": "e61f6563",
   "metadata": {},
   "source": [
    "## 문자열(str)\n",
    "\n",
    "- 기본적으로 따옴표로 묶어서 표현\n",
    "- 작은 따옴표와 큰 따옴표 모두 사용 가능\n",
    "- 삼중 따옴표(''' ''',\"\"\" \"\"\" )도 사용 가능"
   ]
  },
  {
   "cell_type": "code",
   "execution_count": 18,
   "id": "8c049539",
   "metadata": {},
   "outputs": [
    {
     "name": "stdout",
     "output_type": "stream",
     "text": [
      "<class 'str'>\n"
     ]
    }
   ],
   "source": [
    "name =  \"Alice\"\n",
    "print(type(name))"
   ]
  },
  {
   "cell_type": "markdown",
   "id": "8670f06e",
   "metadata": {},
   "source": [
    "### 문자열 변환"
   ]
  },
  {
   "cell_type": "code",
   "execution_count": 20,
   "id": "9ee4c6ab",
   "metadata": {},
   "outputs": [
    {
     "name": "stdout",
     "output_type": "stream",
     "text": [
      "100\n",
      "True\n",
      "False\n",
      "3.14\n"
     ]
    }
   ],
   "source": [
    "print(str(100))\n",
    "print(str(True))\n",
    "print(str(False))\n",
    "print(str(3.14))      # 숫자로 보여도 다 문자열임"
   ]
  },
  {
   "cell_type": "markdown",
   "id": "d9030e3f",
   "metadata": {},
   "source": [
    "### 문자열 인덱싱(indexing)\n",
    "\n",
    "- 문자열 인덱스 : 문자열을 구성하는 모든 문자에 부여한 고유 번호\n",
    "- 인덱스 시작 번호는 0임"
   ]
  },
  {
   "cell_type": "code",
   "execution_count": 21,
   "id": "9b225478",
   "metadata": {},
   "outputs": [],
   "source": [
    "s= \"hello\""
   ]
  },
  {
   "cell_type": "code",
   "execution_count": 22,
   "id": "d092167e",
   "metadata": {},
   "outputs": [
    {
     "name": "stdout",
     "output_type": "stream",
     "text": [
      "h\n"
     ]
    }
   ],
   "source": [
    "print(s[0])   # hello  \n",
    "                01234\n",
    "                (-5)(-4)(-3)(-2)(-1) 순서"
   ]
  },
  {
   "cell_type": "code",
   "execution_count": 23,
   "id": "c36d61a0",
   "metadata": {},
   "outputs": [
    {
     "name": "stdout",
     "output_type": "stream",
     "text": [
      "o\n"
     ]
    }
   ],
   "source": [
    "print(s[-1])"
   ]
  },
  {
   "cell_type": "code",
   "execution_count": 24,
   "id": "23686f5d",
   "metadata": {},
   "outputs": [
    {
     "name": "stdout",
     "output_type": "stream",
     "text": [
      "True\n"
     ]
    }
   ],
   "source": [
    "print(s[4] == s[-1]) "
   ]
  },
  {
   "cell_type": "markdown",
   "id": "19ed849c",
   "metadata": {},
   "source": [
    "### 문자열 슬라이싱(slicing)\n",
    "\n",
    "- 표현법 : 데이터[시작인덱스 : 종료 인덱스 : 증감값]\n",
    "    - 대부분 증감값은 생략하고 [시작 인덱스 : 종료 인덱스] 의 형태로 사용"
   ]
  },
  {
   "cell_type": "code",
   "execution_count": 31,
   "id": "b8d70fba",
   "metadata": {},
   "outputs": [
    {
     "data": {
      "text/plain": [
       "'ban'"
      ]
     },
     "execution_count": 31,
     "metadata": {},
     "output_type": "execute_result"
    }
   ],
   "source": [
    "s = \"banana\"  \n",
    "s[0:3]  # 슬라이싱에서 종료 인덱스 값은 포함하지 않음"
   ]
  },
  {
   "cell_type": "code",
   "execution_count": 32,
   "id": "279535b6",
   "metadata": {},
   "outputs": [
    {
     "data": {
      "text/plain": [
       "'bn'"
      ]
     },
     "execution_count": 32,
     "metadata": {},
     "output_type": "execute_result"
    }
   ],
   "source": [
    "s[0:3:2]"
   ]
  },
  {
   "cell_type": "markdown",
   "id": "efbf2012",
   "metadata": {},
   "source": [
    "# 실습 \n",
    "\n",
    "1. 휴대폰 번호 가운데 4자리를 추출\n",
    "2. 31025 를 학년 반 번호로 나누어 출력"
   ]
  },
  {
   "cell_type": "code",
   "execution_count": null,
   "id": "4464a1c2",
   "metadata": {},
   "outputs": [],
   "source": [
    "# 1. \n",
    "number = \"010-1234-5678\"\n"
   ]
  },
  {
   "cell_type": "code",
   "execution_count": 48,
   "id": "a14516e2",
   "metadata": {},
   "outputs": [
    {
     "data": {
      "text/plain": [
       "'1234'"
      ]
     },
     "execution_count": 48,
     "metadata": {},
     "output_type": "execute_result"
    }
   ],
   "source": [
    "s = \"010-1234-5678\"\n",
    "s[4:8]"
   ]
  },
  {
   "cell_type": "code",
   "execution_count": 52,
   "id": "0610dda5",
   "metadata": {},
   "outputs": [],
   "source": [
    "# 2. \n",
    "q2 =  \"31025\""
   ]
  },
  {
   "cell_type": "code",
   "execution_count": 55,
   "id": "08587f27",
   "metadata": {},
   "outputs": [],
   "source": [
    "grade = q2[0]\n",
    "group = q2[1:3]\n",
    "no = q2[3:5]"
   ]
  },
  {
   "cell_type": "code",
   "execution_count": 56,
   "id": "386a6d5c",
   "metadata": {},
   "outputs": [
    {
     "name": "stdout",
     "output_type": "stream",
     "text": [
      "3 학년 10 반 25 번\n"
     ]
    }
   ],
   "source": [
    " print(grade, \"학년\", group, \"반\", no, \"번\")"
   ]
  },
  {
   "cell_type": "code",
   "execution_count": null,
   "id": "85cf33da",
   "metadata": {},
   "outputs": [],
   "source": []
  },
  {
   "cell_type": "code",
   "execution_count": null,
   "id": "755ebb88",
   "metadata": {},
   "outputs": [],
   "source": []
  },
  {
   "cell_type": "code",
   "execution_count": null,
   "id": "c7a1fe29",
   "metadata": {},
   "outputs": [],
   "source": []
  }
 ],
 "metadata": {
  "kernelspec": {
   "display_name": "Python 3 (ipykernel)",
   "language": "python",
   "name": "python3"
  },
  "language_info": {
   "codemirror_mode": {
    "name": "ipython",
    "version": 3
   },
   "file_extension": ".py",
   "mimetype": "text/x-python",
   "name": "python",
   "nbconvert_exporter": "python",
   "pygments_lexer": "ipython3",
   "version": "3.11.5"
  }
 },
 "nbformat": 4,
 "nbformat_minor": 5
}
