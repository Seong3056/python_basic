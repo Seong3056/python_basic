{
 "cells": [
  {
   "cell_type": "markdown",
   "id": "1d6b54b6",
   "metadata": {},
   "source": [
    "# 주석\n",
    "\n",
    "- 주석의 의의\n",
    "\n",
    "    - 사람만 알아 볼 수 있도록 작성하는 부분\n",
    "    \n",
    "    - 주석은 파이썬이 실행하지 않고 코드에 영향을 주지 않음\n",
    "    - 일반적으로 코드에 대한 자세한 설명을 작성하거나, 특정코드를 임시로 사용하지 않도록 처리할 때 사용"
   ]
  },
  {
   "cell_type": "markdown",
   "id": "3435663f",
   "metadata": {},
   "source": [
    "## 한줄 주석"
   ]
  },
  {
   "cell_type": "code",
   "execution_count": 3,
   "id": "8ba48fd8",
   "metadata": {},
   "outputs": [
    {
     "name": "stdout",
     "output_type": "stream",
     "text": [
      "Hello World!\n"
     ]
    }
   ],
   "source": [
    "# Hello World! 출력\n",
    "print(\"Hello World!\")"
   ]
  },
  {
   "cell_type": "markdown",
   "id": "6c255f04",
   "metadata": {},
   "source": [
    "### 코드 뒤 주석"
   ]
  },
  {
   "cell_type": "code",
   "execution_count": 4,
   "id": "7529af98",
   "metadata": {},
   "outputs": [
    {
     "name": "stdout",
     "output_type": "stream",
     "text": [
      "hello world!\n"
     ]
    }
   ],
   "source": [
    "print(\"hello world!\") # Hello, word! 출력"
   ]
  },
  {
   "cell_type": "markdown",
   "id": "a08fc562",
   "metadata": {},
   "source": [
    "## 블록 주석"
   ]
  },
  {
   "cell_type": "code",
   "execution_count": 7,
   "id": "1fdf517b",
   "metadata": {},
   "outputs": [],
   "source": [
    "#  CTRL + / 로 여러줄 주석\n",
    "# print(\"Hello World!\")\n",
    "# print(\"123456\")"
   ]
  },
  {
   "cell_type": "markdown",
   "id": "e019e4e4",
   "metadata": {},
   "source": [
    "# 변수\n",
    "\n",
    "- 데이터를 저장하고 나중에 재사용하기위해서 사용\n",
    "    \n",
    "- 표현법\n",
    "    - 변수이름 = 값\n",
    "        \n",
    "- 변수명 규칙\n",
    "    - 반드시 문자로 시작해야함\n",
    "    - 언더바(_)로는 시작 할 수 있음\n",
    "    - 영문 문자와 숫자를 사용할 수 있음\n",
    "    - 대소문자를 구분\n",
    "    - 특수문자 사용 불가\n",
    "    - 파이썬 키워드 (if, for, while, and, or 등)은 사용 불가\n",
    "    "
   ]
  },
  {
   "cell_type": "code",
   "execution_count": 11,
   "id": "4cbbd57e",
   "metadata": {},
   "outputs": [],
   "source": [
    "# 변수 생성\n",
    "name = \"Alice\"         # 한 줄 문자열\n",
    "age = 25              # 정수\n",
    "address = '''우편번호 12345 \n",
    "서울 마포구'''        # 여러 줄 문자열\n",
    "boyfriend = None     # 아무 값도 아님\n",
    "height = 168.5       # 실수\n"
   ]
  },
  {
   "cell_type": "code",
   "execution_count": 12,
   "id": "09af4032",
   "metadata": {},
   "outputs": [
    {
     "name": "stdout",
     "output_type": "stream",
     "text": [
      "Alice\n",
      "25\n",
      "우편번호 12345 \n",
      "서울 마포구\n",
      "None\n",
      "168.5\n"
     ]
    }
   ],
   "source": [
    "print(name)\n",
    "print(age)\n",
    "print(address)\n",
    "print(boyfriend)\n",
    "print(height)"
   ]
  },
  {
   "cell_type": "markdown",
   "id": "20415de6",
   "metadata": {},
   "source": [
    "## 변수 여러개를 한번에 만들기"
   ]
  },
  {
   "cell_type": "code",
   "execution_count": 13,
   "id": "6b779560",
   "metadata": {},
   "outputs": [],
   "source": [
    "x, y, z = 10, 20, 30"
   ]
  },
  {
   "cell_type": "code",
   "execution_count": 14,
   "id": "db3b12e4",
   "metadata": {},
   "outputs": [
    {
     "name": "stdout",
     "output_type": "stream",
     "text": [
      "10\n",
      "20\n",
      "30\n"
     ]
    }
   ],
   "source": [
    "print(x)\n",
    "print(y)\n",
    "print(z)"
   ]
  },
  {
   "cell_type": "code",
   "execution_count": 17,
   "id": "10f01c06",
   "metadata": {},
   "outputs": [],
   "source": [
    "x = y = z = 10"
   ]
  },
  {
   "cell_type": "code",
   "execution_count": 18,
   "id": "88fecae0",
   "metadata": {},
   "outputs": [
    {
     "name": "stdout",
     "output_type": "stream",
     "text": [
      "10\n",
      "10\n",
      "10\n"
     ]
    }
   ],
   "source": [
    "print(x)\n",
    "print(y)\n",
    "print(z)"
   ]
  },
  {
   "cell_type": "markdown",
   "id": "1af8272f",
   "metadata": {},
   "source": [
    "## 사칙연산"
   ]
  },
  {
   "cell_type": "code",
   "execution_count": 19,
   "id": "0bfdc50c",
   "metadata": {},
   "outputs": [
    {
     "name": "stdout",
     "output_type": "stream",
     "text": [
      "2\n",
      "-1\n",
      "4\n",
      "2.5\n"
     ]
    }
   ],
   "source": [
    "# 덧셈\n",
    "print(1+1)\n",
    "\n",
    "#뺄셈\n",
    "print(1-2)\n",
    "\n",
    "# 곱셈\n",
    "print(2*2)\n",
    "\n",
    "#나눗셈\n",
    "print(5/2)"
   ]
  },
  {
   "cell_type": "code",
   "execution_count": 20,
   "id": "5581ab08",
   "metadata": {},
   "outputs": [
    {
     "name": "stdout",
     "output_type": "stream",
     "text": [
      "2\n"
     ]
    }
   ],
   "source": [
    "# 나눗셈의 몫\n",
    "print(5//2)"
   ]
  },
  {
   "cell_type": "code",
   "execution_count": 21,
   "id": "4d713768",
   "metadata": {},
   "outputs": [
    {
     "name": "stdout",
     "output_type": "stream",
     "text": [
      "1\n"
     ]
    }
   ],
   "source": [
    "# 나눗셈의 나머지\n",
    "print(5%2)"
   ]
  },
  {
   "cell_type": "code",
   "execution_count": 23,
   "id": "5a9b7e53",
   "metadata": {},
   "outputs": [
    {
     "name": "stdout",
     "output_type": "stream",
     "text": [
      "1024\n"
     ]
    }
   ],
   "source": [
    "# 거듭제곱\n",
    "print(2 ** 10)"
   ]
  },
  {
   "cell_type": "markdown",
   "id": "390ed840",
   "metadata": {},
   "source": [
    "## 변수 계산"
   ]
  },
  {
   "cell_type": "code",
   "execution_count": 24,
   "id": "da2d871c",
   "metadata": {},
   "outputs": [
    {
     "name": "stdout",
     "output_type": "stream",
     "text": [
      "30\n"
     ]
    }
   ],
   "source": [
    "a = 10\n",
    "b = 20\n",
    "print(a+b)"
   ]
  },
  {
   "cell_type": "code",
   "execution_count": 26,
   "id": "3eed6873",
   "metadata": {},
   "outputs": [
    {
     "name": "stdout",
     "output_type": "stream",
     "text": [
      "30\n"
     ]
    }
   ],
   "source": [
    "c = a+b # 우변항부터 계산됨\n",
    "print(c)"
   ]
  },
  {
   "cell_type": "markdown",
   "id": "8479e9ca",
   "metadata": {},
   "source": [
    "## 연산 후 할당"
   ]
  },
  {
   "cell_type": "code",
   "execution_count": 31,
   "id": "c9292ae2",
   "metadata": {},
   "outputs": [
    {
     "name": "stdout",
     "output_type": "stream",
     "text": [
      "30\n",
      "10\n"
     ]
    }
   ],
   "source": [
    "# 할당 연산자를 사용하지 않으면 계산 결과를 유지하지 않음\n",
    "a = 10\n",
    "print(a+20)\n",
    "print(a)"
   ]
  },
  {
   "cell_type": "code",
   "execution_count": 32,
   "id": "2a4f37e3",
   "metadata": {},
   "outputs": [
    {
     "name": "stdout",
     "output_type": "stream",
     "text": [
      "30\n"
     ]
    }
   ],
   "source": [
    "a = a+20 \n",
    "print(a)"
   ]
  },
  {
   "cell_type": "code",
   "execution_count": 33,
   "id": "ba9735c6",
   "metadata": {},
   "outputs": [
    {
     "name": "stdout",
     "output_type": "stream",
     "text": [
      "30\n"
     ]
    }
   ],
   "source": [
    "# 연산 후 할당은 += 로도 표현가능\n",
    "a = 10\n",
    "a += 20 # a= a + 20 과 같은 코드\n",
    "print(a)"
   ]
  },
  {
   "cell_type": "code",
   "execution_count": null,
   "id": "560ffc04",
   "metadata": {},
   "outputs": [],
   "source": []
  },
  {
   "cell_type": "code",
   "execution_count": null,
   "id": "303d5d1d",
   "metadata": {},
   "outputs": [],
   "source": []
  },
  {
   "cell_type": "code",
   "execution_count": null,
   "id": "884967a4",
   "metadata": {},
   "outputs": [],
   "source": []
  },
  {
   "cell_type": "code",
   "execution_count": null,
   "id": "2dbfc14f",
   "metadata": {},
   "outputs": [],
   "source": []
  },
  {
   "cell_type": "code",
   "execution_count": null,
   "id": "d4836e5d",
   "metadata": {},
   "outputs": [],
   "source": []
  }
 ],
 "metadata": {
  "kernelspec": {
   "display_name": "Python 3 (ipykernel)",
   "language": "python",
   "name": "python3"
  },
  "language_info": {
   "codemirror_mode": {
    "name": "ipython",
    "version": 3
   },
   "file_extension": ".py",
   "mimetype": "text/x-python",
   "name": "python",
   "nbconvert_exporter": "python",
   "pygments_lexer": "ipython3",
   "version": "3.11.5"
  }
 },
 "nbformat": 4,
 "nbformat_minor": 5
}
