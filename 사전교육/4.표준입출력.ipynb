{
 "cells": [
  {
   "cell_type": "code",
   "execution_count": null,
   "id": "69de95ee",
   "metadata": {},
   "outputs": [],
   "source": []
  },
  {
   "cell_type": "code",
   "execution_count": null,
   "id": "91c57b54",
   "metadata": {},
   "outputs": [],
   "source": []
  },
  {
   "cell_type": "code",
   "execution_count": null,
   "id": "c1068c39",
   "metadata": {},
   "outputs": [],
   "source": []
  },
  {
   "cell_type": "code",
   "execution_count": 3,
   "id": "7f8a8677",
   "metadata": {},
   "outputs": [],
   "source": [
    "who = \"you\"\n",
    "how = \"happy\""
   ]
  },
  {
   "cell_type": "code",
   "execution_count": 5,
   "id": "327b06d8",
   "metadata": {},
   "outputs": [
    {
     "name": "stdout",
     "output_type": "stream",
     "text": [
      "you make me happy\n"
     ]
    }
   ],
   "source": [
    "print(f\"{who} make me {how}\")"
   ]
  },
  {
   "cell_type": "code",
   "execution_count": 6,
   "id": "757ef84a",
   "metadata": {},
   "outputs": [
    {
     "name": "stdout",
     "output_type": "stream",
     "text": [
      "올해는 25살입니다. 내년엔 26살이 됩니다.\n"
     ]
    }
   ],
   "source": [
    "age =  25\n",
    "print(f\"올해는 {age}살입니다. 내년엔 {age+1}살이 됩니다.\")"
   ]
  },
  {
   "cell_type": "markdown",
   "id": "7224d0de",
   "metadata": {},
   "source": [
    "# 표준입력"
   ]
  },
  {
   "cell_type": "markdown",
   "id": "80cd9af1",
   "metadata": {},
   "source": [
    "## input() 함수\n",
    "\n",
    "-키보드로부터 값을 입력 받을 때 사용\n",
    "-모든 입력을 문자열로 저장함"
   ]
  },
  {
   "cell_type": "code",
   "execution_count": 9,
   "id": "033eaca2",
   "metadata": {},
   "outputs": [
    {
     "name": "stdout",
     "output_type": "stream",
     "text": [
      "20\n"
     ]
    }
   ],
   "source": [
    "n = input(\"\")     "
   ]
  },
  {
   "cell_type": "code",
   "execution_count": 10,
   "id": "9831c3a2",
   "metadata": {},
   "outputs": [
    {
     "name": "stdout",
     "output_type": "stream",
     "text": [
      "20\n"
     ]
    }
   ],
   "source": [
    "print(n)"
   ]
  },
  {
   "cell_type": "code",
   "execution_count": 11,
   "id": "553a089e",
   "metadata": {},
   "outputs": [
    {
     "name": "stdout",
     "output_type": "stream",
     "text": [
      "정수를 입력하세요 :20\n"
     ]
    }
   ],
   "source": [
    "# 안내 메시지 입력 \n",
    "n = input(\"정수를 입력하세요 :\")"
   ]
  },
  {
   "cell_type": "code",
   "execution_count": 12,
   "id": "bb81defa",
   "metadata": {},
   "outputs": [
    {
     "name": "stdout",
     "output_type": "stream",
     "text": [
      "20\n"
     ]
    }
   ],
   "source": [
    "print(n)"
   ]
  },
  {
   "cell_type": "code",
   "execution_count": 13,
   "id": "89460a7c",
   "metadata": {},
   "outputs": [
    {
     "name": "stdout",
     "output_type": "stream",
     "text": [
      "이름을 입력하세요 : 홍길동\n",
      "나이를 입력하세요30\n"
     ]
    }
   ],
   "source": [
    "name =  input(\"이름을 입력하세요 : \")\n",
    "age = input(\"나이를 입력하세요\")"
   ]
  },
  {
   "cell_type": "code",
   "execution_count": 15,
   "id": "f14c7d3f",
   "metadata": {},
   "outputs": [
    {
     "name": "stdout",
     "output_type": "stream",
     "text": [
      "입력된 이름은 홍길동입니다. |n 입력된 나이는 30살 입니다\n"
     ]
    }
   ],
   "source": [
    "print(f\"입력된 이름은 {name}입니다. |n 입력된 나이는 {age}살 입니다\")"
   ]
  },
  {
   "cell_type": "markdown",
   "id": "e04b8a1f",
   "metadata": {},
   "source": [
    "## 형 변환"
   ]
  },
  {
   "cell_type": "code",
   "execution_count": 17,
   "id": "0c40950d",
   "metadata": {},
   "outputs": [
    {
     "data": {
      "text/plain": [
       "'20'"
      ]
     },
     "execution_count": 17,
     "metadata": {},
     "output_type": "execute_result"
    }
   ],
   "source": [
    "n"
   ]
  },
  {
   "cell_type": "code",
   "execution_count": 18,
   "id": "41b345bc",
   "metadata": {},
   "outputs": [
    {
     "name": "stdout",
     "output_type": "stream",
     "text": [
      "<class 'str'>\n"
     ]
    }
   ],
   "source": [
    "print(type(n))"
   ]
  },
  {
   "cell_type": "code",
   "execution_count": 19,
   "id": "83bebfd2",
   "metadata": {},
   "outputs": [
    {
     "data": {
      "text/plain": [
       "20"
      ]
     },
     "execution_count": 19,
     "metadata": {},
     "output_type": "execute_result"
    }
   ],
   "source": [
    "int(n)"
   ]
  },
  {
   "cell_type": "code",
   "execution_count": 20,
   "id": "2e2aaff7",
   "metadata": {},
   "outputs": [
    {
     "name": "stdout",
     "output_type": "stream",
     "text": [
      "정수 입력 : 5\n"
     ]
    }
   ],
   "source": [
    "n = int(input(\"정수 입력 : \"))"
   ]
  },
  {
   "cell_type": "code",
   "execution_count": 22,
   "id": "8705d863",
   "metadata": {},
   "outputs": [
    {
     "name": "stdout",
     "output_type": "stream",
     "text": [
      "<class 'int'>\n"
     ]
    }
   ],
   "source": [
    "print(type(n))"
   ]
  },
  {
   "cell_type": "code",
   "execution_count": 23,
   "id": "c1e08344",
   "metadata": {
    "scrolled": true
   },
   "outputs": [
    {
     "name": "stdout",
     "output_type": "stream",
     "text": [
      "할부 개월 입력 : 10\n",
      "매달 내는 돈은 5000.0원 입니다.\n"
     ]
    }
   ],
   "source": [
    "# 예제\n",
    "price = 50000\n",
    "n = int(input(\"할부 개월 입력 : \"))\n",
    "print(f\"매달 내는 돈은 {price/n}원 입니다.\")"
   ]
  },
  {
   "cell_type": "code",
   "execution_count": null,
   "id": "19b024e3",
   "metadata": {},
   "outputs": [],
   "source": []
  },
  {
   "cell_type": "code",
   "execution_count": null,
   "id": "9267400d",
   "metadata": {},
   "outputs": [],
   "source": []
  },
  {
   "cell_type": "code",
   "execution_count": null,
   "id": "2d6baef8",
   "metadata": {},
   "outputs": [],
   "source": []
  },
  {
   "cell_type": "code",
   "execution_count": null,
   "id": "837a976e",
   "metadata": {},
   "outputs": [],
   "source": []
  },
  {
   "cell_type": "code",
   "execution_count": null,
   "id": "edfbdd29",
   "metadata": {},
   "outputs": [],
   "source": []
  },
  {
   "cell_type": "code",
   "execution_count": null,
   "id": "d7940b67",
   "metadata": {},
   "outputs": [],
   "source": []
  },
  {
   "cell_type": "code",
   "execution_count": null,
   "id": "d52b6507",
   "metadata": {},
   "outputs": [],
   "source": []
  }
 ],
 "metadata": {
  "kernelspec": {
   "display_name": "Python 3 (ipykernel)",
   "language": "python",
   "name": "python3"
  },
  "language_info": {
   "codemirror_mode": {
    "name": "ipython",
    "version": 3
   },
   "file_extension": ".py",
   "mimetype": "text/x-python",
   "name": "python",
   "nbconvert_exporter": "python",
   "pygments_lexer": "ipython3",
   "version": "3.11.5"
  }
 },
 "nbformat": 4,
 "nbformat_minor": 5
}
