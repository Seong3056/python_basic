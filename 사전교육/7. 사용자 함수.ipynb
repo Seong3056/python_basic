{
 "cells": [
  {
   "cell_type": "code",
   "execution_count": null,
   "id": "072fb670",
   "metadata": {},
   "outputs": [],
   "source": []
  },
  {
   "cell_type": "markdown",
   "id": "0339cd7a",
   "metadata": {},
   "source": [
    "# 사용자 함수\n",
    "\n",
    "- 인수 : 사용자 함수에 전달할 입력 ,  argument\n",
    "- 매개변수 ; 인수를 받아서 저장하는 변수 , parameter\n",
    "- 반환값 : 사용자 함수의 출력 , return\n",
    "- 함수 호출 : 만들어진 함수를 실제로 사용하는것"
   ]
  },
  {
   "cell_type": "code",
   "execution_count": null,
   "id": "09708b6a",
   "metadata": {},
   "outputs": [],
   "source": [
    "## 함수 정의\n",
    "\n",
    "```\n",
    "def 함수이름(매개변수) :\n",
    "    실행문\n",
    "    return 반환값\n",
    "```"
   ]
  },
  {
   "cell_type": "code",
   "execution_count": 6,
   "id": "906090d0",
   "metadata": {},
   "outputs": [],
   "source": [
    "# welcome 함수 정의 \n",
    "def welcome():\n",
    "    print(\"Hello!\")\n",
    "    print(\"Nice to meet you\")\n"
   ]
  },
  {
   "cell_type": "code",
   "execution_count": 8,
   "id": "dc074311",
   "metadata": {},
   "outputs": [
    {
     "name": "stdout",
     "output_type": "stream",
     "text": [
      "Hello!\n",
      "Nice to meet you\n"
     ]
    }
   ],
   "source": [
    "welcome()"
   ]
  },
  {
   "cell_type": "markdown",
   "id": "cfbecbae",
   "metadata": {},
   "source": [
    "## 함수 사용의 장점\n",
    "\n",
    "- 코드의 용도를구분\n",
    "- 코드 재사용이 용이\n",
    "- 실수를 방지 (오타 등)"
   ]
  },
  {
   "cell_type": "markdown",
   "id": "52898089",
   "metadata": {},
   "source": [
    "## 인수와 매개변수\n",
    "\n",
    "- 인수와 매개변수는 다른 개념이지만 함수가 호출된 뒤에는 구분이 모호해지므로 구분하지 않는 경우도 많음\n"
   ]
  },
  {
   "cell_type": "markdown",
   "id": "a75782fb",
   "metadata": {},
   "source": [
    "### 인수가 있는 함수"
   ]
  },
  {
   "cell_type": "code",
   "execution_count": 9,
   "id": "4e6fb84a",
   "metadata": {},
   "outputs": [],
   "source": [
    "def introduce(name, age) :   # 매개변수 : name, age\n",
    "    print(f\"내 이름은 {name}이고, 나이는 {age}살 입니다.\")"
   ]
  },
  {
   "cell_type": "code",
   "execution_count": 11,
   "id": "b713d613",
   "metadata": {},
   "outputs": [
    {
     "ename": "TypeError",
     "evalue": "introduce() missing 2 required positional arguments: 'name' and 'age'",
     "output_type": "error",
     "traceback": [
      "\u001b[1;31m---------------------------------------------------------------------------\u001b[0m",
      "\u001b[1;31mTypeError\u001b[0m                                 Traceback (most recent call last)",
      "Cell \u001b[1;32mIn[11], line 1\u001b[0m\n\u001b[1;32m----> 1\u001b[0m introduce()\n",
      "\u001b[1;31mTypeError\u001b[0m: introduce() missing 2 required positional arguments: 'name' and 'age'"
     ]
    }
   ],
   "source": [
    "introduce()  # 2개의 atguments (인수)가 필요하다는 에러"
   ]
  },
  {
   "cell_type": "code",
   "execution_count": 12,
   "id": "a4b42c1f",
   "metadata": {},
   "outputs": [
    {
     "name": "stdout",
     "output_type": "stream",
     "text": [
      "내 이름은 jun이고, 나이는 25살 입니다.\n"
     ]
    }
   ],
   "source": [
    "introduce(\"jun\", 25)"
   ]
  },
  {
   "cell_type": "markdown",
   "id": "a8679d8d",
   "metadata": {},
   "source": [
    "### 가변 매개변수\n",
    "\n",
    "- 함수로 전달해야 하는 인수의 개수가 정해지지 않은 매개변수\n",
    "- 함수 정의시 매개변수 앞에 * 를 붙이면 가변 매개변수가 됨\n",
    "- 전달되는 인수는 하나의 튜플 형태로 전달"
   ]
  },
  {
   "cell_type": "code",
   "execution_count": 13,
   "id": "6c28e9c7",
   "metadata": {},
   "outputs": [],
   "source": [
    "def show(*args) : \n",
    "    print(args)"
   ]
  },
  {
   "cell_type": "code",
   "execution_count": 15,
   "id": "ca04578a",
   "metadata": {},
   "outputs": [
    {
     "name": "stdout",
     "output_type": "stream",
     "text": [
      "('Python',)\n"
     ]
    }
   ],
   "source": [
    "show(\"Python\")"
   ]
  },
  {
   "cell_type": "code",
   "execution_count": 16,
   "id": "0ff4a28f",
   "metadata": {},
   "outputs": [
    {
     "name": "stdout",
     "output_type": "stream",
     "text": [
      "('happy', 'birthday')\n"
     ]
    }
   ],
   "source": [
    "show(\"happy\", \"birthday\")"
   ]
  },
  {
   "cell_type": "markdown",
   "id": "1a85b865",
   "metadata": {},
   "source": [
    "### 디폴트 매개변수\n",
    "\n",
    "-매개변수로 전달되는 인수가 없는 경우에 기본적으로 사용하는값\n"
   ]
  },
  {
   "cell_type": "code",
   "execution_count": 23,
   "id": "dad08469",
   "metadata": {},
   "outputs": [],
   "source": [
    "def greet (message = \"안녕하세요\") :\n",
    "    print(message)\n"
   ]
  },
  {
   "cell_type": "code",
   "execution_count": 24,
   "id": "f0861fda",
   "metadata": {},
   "outputs": [
    {
     "name": "stdout",
     "output_type": "stream",
     "text": [
      "안녕하세요\n"
     ]
    }
   ],
   "source": [
    "greet()"
   ]
  },
  {
   "cell_type": "code",
   "execution_count": 25,
   "id": "cf4675c0",
   "metadata": {},
   "outputs": [
    {
     "name": "stdout",
     "output_type": "stream",
     "text": [
      "반가워\n"
     ]
    }
   ],
   "source": [
    "greet(\"반가워\")"
   ]
  },
  {
   "cell_type": "markdown",
   "id": "6e0b417a",
   "metadata": {},
   "source": [
    "#### 디폴트 매개변수의 위치\n",
    "\n",
    "- 초기값이 지정된 매개변수 다음에는 초기값없는 매개변수가 올 수 없음\n",
    "- 함수를 호출할 때 인수가 어디에 배치되어야 할지 알 수가 없기 때문에"
   ]
  },
  {
   "cell_type": "code",
   "execution_count": 28,
   "id": "ddb02ab5",
   "metadata": {},
   "outputs": [
    {
     "ename": "SyntaxError",
     "evalue": "non-default argument follows default argument (3828118846.py, line 1)",
     "output_type": "error",
     "traceback": [
      "\u001b[1;36m  Cell \u001b[1;32mIn[28], line 1\u001b[1;36m\u001b[0m\n\u001b[1;33m    def info(name, address = \"비공개\", age):\u001b[0m\n\u001b[1;37m                                    ^\u001b[0m\n\u001b[1;31mSyntaxError\u001b[0m\u001b[1;31m:\u001b[0m non-default argument follows default argument\n"
     ]
    }
   ],
   "source": [
    "def info(name, address = \"비공개\", age):\n",
    "    print(f\"이름은 {name}나이는{age }주소는{address}\")\n",
    "    \n",
    "info(\"홍길동\", 30)"
   ]
  },
  {
   "cell_type": "code",
   "execution_count": 32,
   "id": "d7c8d98d",
   "metadata": {},
   "outputs": [
    {
     "name": "stdout",
     "output_type": "stream",
     "text": [
      "이름은 홍길동 나이는30 주소는비공개\n"
     ]
    }
   ],
   "source": [
    "def info(name, age, address = \"비공개\"):\n",
    "    print(f\"이름은 {name} 나이는{age } 주소는{address}\")\n",
    "    \n",
    "info(\"홍길동\", 30)"
   ]
  },
  {
   "cell_type": "markdown",
   "id": "f4ac34c5",
   "metadata": {},
   "source": [
    "## 반환값\n",
    "\n",
    "- 함수 호출의 결과\n",
    "- return 문을 통해 반환값 설정 가능"
   ]
  },
  {
   "cell_type": "markdown",
   "id": "76ffa0ab",
   "metadata": {},
   "source": [
    "### 반환값이 있는 함수"
   ]
  },
  {
   "cell_type": "code",
   "execution_count": 35,
   "id": "8bca378f",
   "metadata": {},
   "outputs": [],
   "source": [
    "def address():\n",
    "    str1 = \"우편번호 12345\"\n",
    "    str1 = str1 + \"서울시 마포구\""
   ]
  },
  {
   "cell_type": "code",
   "execution_count": 36,
   "id": "220698b6",
   "metadata": {},
   "outputs": [
    {
     "name": "stdout",
     "output_type": "stream",
     "text": [
      "None\n"
     ]
    }
   ],
   "source": [
    "print(address())"
   ]
  },
  {
   "cell_type": "code",
   "execution_count": 37,
   "id": "76a0eeb7",
   "metadata": {},
   "outputs": [],
   "source": [
    "def address():\n",
    "    str1 = \"우편번호 12345\"\n",
    "    str1 = str1 + \"서울시 마포구\"\n",
    "    return str1"
   ]
  },
  {
   "cell_type": "code",
   "execution_count": 38,
   "id": "fa61800e",
   "metadata": {},
   "outputs": [
    {
     "name": "stdout",
     "output_type": "stream",
     "text": [
      "우편번호 12345서울시 마포구\n"
     ]
    }
   ],
   "source": [
    "print(address())"
   ]
  },
  {
   "cell_type": "code",
   "execution_count": 39,
   "id": "c72d62f2",
   "metadata": {},
   "outputs": [
    {
     "name": "stdout",
     "output_type": "stream",
     "text": [
      "우편번호 12345서울시 마포구\n"
     ]
    }
   ],
   "source": [
    "print(address())"
   ]
  },
  {
   "cell_type": "markdown",
   "id": "6ebe2f56",
   "metadata": {},
   "source": [
    "### 다중반환\n",
    "\n",
    "- 하나의 반환값 뿐만 아니라 여러개의 반환값도 처리 가능"
   ]
  },
  {
   "cell_type": "code",
   "execution_count": 40,
   "id": "e0e6e4df",
   "metadata": {},
   "outputs": [],
   "source": [
    "def calculator(*args):\n",
    "    return sum(args)"
   ]
  },
  {
   "cell_type": "code",
   "execution_count": 41,
   "id": "68037e38",
   "metadata": {},
   "outputs": [
    {
     "data": {
      "text/plain": [
       "15"
      ]
     },
     "execution_count": 41,
     "metadata": {},
     "output_type": "execute_result"
    }
   ],
   "source": [
    "calculator(1,2,3,4,5)"
   ]
  },
  {
   "cell_type": "code",
   "execution_count": 42,
   "id": "364a36ca",
   "metadata": {},
   "outputs": [],
   "source": [
    "def calculator(*args):\n",
    "    return sum(args), sum(args)/len(args), max(args), min(args)"
   ]
  },
  {
   "cell_type": "code",
   "execution_count": 43,
   "id": "cd8df030",
   "metadata": {},
   "outputs": [
    {
     "data": {
      "text/plain": [
       "(15, 3.0, 5, 1)"
      ]
     },
     "execution_count": 43,
     "metadata": {},
     "output_type": "execute_result"
    }
   ],
   "source": [
    "calculator(1,2,3,4,5)"
   ]
  },
  {
   "cell_type": "code",
   "execution_count": 44,
   "id": "e12f3f84",
   "metadata": {},
   "outputs": [],
   "source": [
    "result = calculator(1,2,3,4,5)"
   ]
  },
  {
   "cell_type": "code",
   "execution_count": 45,
   "id": "5ce5aaca",
   "metadata": {},
   "outputs": [
    {
     "data": {
      "text/plain": [
       "(15, 3.0, 5, 1)"
      ]
     },
     "execution_count": 45,
     "metadata": {},
     "output_type": "execute_result"
    }
   ],
   "source": [
    "result"
   ]
  },
  {
   "cell_type": "code",
   "execution_count": 47,
   "id": "3d99ee51",
   "metadata": {},
   "outputs": [
    {
     "name": "stdout",
     "output_type": "stream",
     "text": [
      "합계 :  15\n",
      "평균 :  3.0\n",
      "최대 :  5\n",
      "최소 :  1\n"
     ]
    }
   ],
   "source": [
    "print(\"합계 : \", result[0])\n",
    "print(\"평균 : \", result[1])\n",
    "print(\"최대 : \", result[2])\n",
    "print(\"최소 : \", result[3])"
   ]
  },
  {
   "cell_type": "code",
   "execution_count": 48,
   "id": "c9ad740a",
   "metadata": {},
   "outputs": [
    {
     "name": "stdout",
     "output_type": "stream",
     "text": [
      "합계 :  15\n",
      "평균 :  3.0\n",
      "최대 :  5\n",
      "최소 :  1\n"
     ]
    }
   ],
   "source": [
    "plus, mean, maximum, minimum = calculator(1, 2, 3, 4, 5)\n",
    "print(\"합계 : \", plus)\n",
    "print(\"평균 : \", mean)\n",
    "print(\"최대 : \", maximum)\n",
    "print(\"최소 : \", minimum)"
   ]
  },
  {
   "cell_type": "markdown",
   "id": "9dbe10b7",
   "metadata": {},
   "source": [
    "# 지역변수와 전역변수\n",
    "\n",
    "## 지역변수\n",
    "- 함수 내부에서 선언한 변수는 함수 내분에서만 사용 할 수 있는 변수가 됨\n",
    "- 함수 외부에서는 지역변수에서 접근 할 수 없음"
   ]
  },
  {
   "cell_type": "code",
   "execution_count": 49,
   "id": "f03fc94d",
   "metadata": {},
   "outputs": [],
   "source": [
    "def f():\n",
    "    a = 10\n",
    "    print(a)\n",
    "    "
   ]
  },
  {
   "cell_type": "code",
   "execution_count": 50,
   "id": "974fdcaf",
   "metadata": {},
   "outputs": [
    {
     "name": "stdout",
     "output_type": "stream",
     "text": [
      "10\n"
     ]
    }
   ],
   "source": [
    "f()"
   ]
  },
  {
   "cell_type": "code",
   "execution_count": 51,
   "id": "7ef6acc3",
   "metadata": {},
   "outputs": [
    {
     "ename": "NameError",
     "evalue": "name 'a' is not defined",
     "output_type": "error",
     "traceback": [
      "\u001b[1;31m---------------------------------------------------------------------------\u001b[0m",
      "\u001b[1;31mNameError\u001b[0m                                 Traceback (most recent call last)",
      "Cell \u001b[1;32mIn[51], line 1\u001b[0m\n\u001b[1;32m----> 1\u001b[0m \u001b[38;5;28mprint\u001b[39m(a)\n",
      "\u001b[1;31mNameError\u001b[0m: name 'a' is not defined"
     ]
    }
   ],
   "source": [
    "print(a)"
   ]
  },
  {
   "cell_type": "markdown",
   "id": "01e1105c",
   "metadata": {},
   "source": [
    "## 전역변수\n",
    "\n",
    "- 함수 외부에서 선언한 변수\n",
    "- 전역변수는 함수 내부에서도 사용 가능"
   ]
  },
  {
   "cell_type": "code",
   "execution_count": 52,
   "id": "011077e9",
   "metadata": {},
   "outputs": [],
   "source": [
    "b = 10"
   ]
  },
  {
   "cell_type": "code",
   "execution_count": 53,
   "id": "fe4f981d",
   "metadata": {},
   "outputs": [],
   "source": [
    "def f():\n",
    "    print(b)"
   ]
  },
  {
   "cell_type": "code",
   "execution_count": 55,
   "id": "0091eb72",
   "metadata": {},
   "outputs": [
    {
     "name": "stdout",
     "output_type": "stream",
     "text": [
      "10\n"
     ]
    }
   ],
   "source": [
    "f()"
   ]
  },
  {
   "cell_type": "markdown",
   "id": "7da2038d",
   "metadata": {},
   "source": [
    "- 전역변수를 함수 내부에서 사용하는 2가지 경우\n",
    "    - 단순 참조\n",
    "    - 전역변수의 값을 변경"
   ]
  },
  {
   "cell_type": "code",
   "execution_count": 56,
   "id": "739ff8fe",
   "metadata": {},
   "outputs": [],
   "source": [
    "# 전역변수의 값을 변경\n",
    "a = 0"
   ]
  },
  {
   "cell_type": "code",
   "execution_count": 57,
   "id": "654a19c7",
   "metadata": {},
   "outputs": [],
   "source": [
    "def f():\n",
    "    a = 10\n",
    "    print(a)"
   ]
  },
  {
   "cell_type": "code",
   "execution_count": 58,
   "id": "5eb57da8",
   "metadata": {},
   "outputs": [
    {
     "name": "stdout",
     "output_type": "stream",
     "text": [
      "10\n"
     ]
    }
   ],
   "source": [
    "f()"
   ]
  },
  {
   "cell_type": "code",
   "execution_count": 59,
   "id": "03f23264",
   "metadata": {},
   "outputs": [
    {
     "data": {
      "text/plain": [
       "0"
      ]
     },
     "execution_count": 59,
     "metadata": {},
     "output_type": "execute_result"
    }
   ],
   "source": [
    "a"
   ]
  },
  {
   "cell_type": "code",
   "execution_count": 60,
   "id": "fef5a6e3",
   "metadata": {},
   "outputs": [],
   "source": [
    "def f():\n",
    "    global a # 전역변수 a를 사용하겠다\n",
    "    a = 10\n",
    "    print(a)"
   ]
  },
  {
   "cell_type": "code",
   "execution_count": 61,
   "id": "bb05fbc0",
   "metadata": {},
   "outputs": [
    {
     "name": "stdout",
     "output_type": "stream",
     "text": [
      "10\n"
     ]
    }
   ],
   "source": [
    "f()"
   ]
  },
  {
   "cell_type": "code",
   "execution_count": 62,
   "id": "48e667d8",
   "metadata": {},
   "outputs": [
    {
     "data": {
      "text/plain": [
       "10"
      ]
     },
     "execution_count": 62,
     "metadata": {},
     "output_type": "execute_result"
    }
   ],
   "source": [
    "a"
   ]
  },
  {
   "cell_type": "markdown",
   "id": "abeca21b",
   "metadata": {},
   "source": [
    "### 딕셔너리 인수"
   ]
  },
  {
   "cell_type": "code",
   "execution_count": 63,
   "id": "2e97e25c",
   "metadata": {},
   "outputs": [],
   "source": [
    "def info(name, age, address):\n",
    "    print(\"name 변수는\", name)\n",
    "    print(\"age 변수는\", age)\n",
    "    print(\"adress 변수는\", address)\n",
    "    print()\n",
    "    print(f\"이름은 {name}, 나이는 {age}, 주소는 {address}\")"
   ]
  },
  {
   "cell_type": "code",
   "execution_count": 65,
   "id": "25862713",
   "metadata": {},
   "outputs": [
    {
     "name": "stdout",
     "output_type": "stream",
     "text": [
      "name 변수는 홍길동\n",
      "age 변수는 30\n",
      "adress 변수는 서울시 마포구\n",
      "\n",
      "이름은 홍길동, 나이는 30, 주소는 서울시 마포구\n"
     ]
    }
   ],
   "source": [
    "info(\"홍길동\", 30, \"서울시 마포구\")"
   ]
  },
  {
   "cell_type": "code",
   "execution_count": 66,
   "id": "7296b032",
   "metadata": {},
   "outputs": [],
   "source": [
    "x = {\"name\" : \"홍길동\",\n",
    "    \"age\" : 30,\n",
    "    \"address\" : \"마포구\"}"
   ]
  },
  {
   "cell_type": "code",
   "execution_count": 67,
   "id": "7e4a26ba",
   "metadata": {},
   "outputs": [
    {
     "name": "stdout",
     "output_type": "stream",
     "text": [
      "name 변수는 홍길동\n",
      "age 변수는 30\n",
      "adress 변수는 마포구\n",
      "\n",
      "이름은 홍길동, 나이는 30, 주소는 마포구\n"
     ]
    }
   ],
   "source": [
    "info(**x)"
   ]
  },
  {
   "cell_type": "code",
   "execution_count": 68,
   "id": "12d404ac",
   "metadata": {},
   "outputs": [],
   "source": [
    "# 매개변수 이름과 딕셔너리의 키가 다르면 에러가 발생\n",
    "def info(name, old, address):\n",
    "    print(\"name 변수는\", name)\n",
    "    print(\"old 변수는\", old)\n",
    "    print(\"adress 변수는\", address)\n",
    "    print()\n",
    "    print(f\"이름은 {name}, 나이는 {old}, 주소는 {address}\")"
   ]
  },
  {
   "cell_type": "code",
   "execution_count": 69,
   "id": "d66099e9",
   "metadata": {},
   "outputs": [
    {
     "ename": "TypeError",
     "evalue": "info() got an unexpected keyword argument 'age'",
     "output_type": "error",
     "traceback": [
      "\u001b[1;31m---------------------------------------------------------------------------\u001b[0m",
      "\u001b[1;31mTypeError\u001b[0m                                 Traceback (most recent call last)",
      "Cell \u001b[1;32mIn[69], line 1\u001b[0m\n\u001b[1;32m----> 1\u001b[0m info(\u001b[38;5;241m*\u001b[39m\u001b[38;5;241m*\u001b[39mx)\n",
      "\u001b[1;31mTypeError\u001b[0m: info() got an unexpected keyword argument 'age'"
     ]
    }
   ],
   "source": [
    "info(**x)"
   ]
  },
  {
   "cell_type": "code",
   "execution_count": 70,
   "id": "769732e0",
   "metadata": {},
   "outputs": [
    {
     "name": "stdout",
     "output_type": "stream",
     "text": [
      "name 변수는 name\n",
      "old 변수는 age\n",
      "adress 변수는 address\n",
      "\n",
      "이름은 name, 나이는 age, 주소는 address\n"
     ]
    }
   ],
   "source": [
    "# *을 하나만 쓰면 x 딕셔너리의 키가 출력됨\n",
    "info(*x)"
   ]
  },
  {
   "cell_type": "markdown",
   "id": "512a49b4",
   "metadata": {},
   "source": [
    "### 키워드 인수를 사용하는 가변 인수 함수"
   ]
  },
  {
   "cell_type": "code",
   "execution_count": 71,
   "id": "6e48a9a1",
   "metadata": {},
   "outputs": [],
   "source": [
    "def info(**kwargs):\n",
    "    for kw, arg in kwargs.items():\n",
    "        print(kw, \":\",arg)"
   ]
  },
  {
   "cell_type": "code",
   "execution_count": 72,
   "id": "06d87523",
   "metadata": {},
   "outputs": [
    {
     "ename": "TypeError",
     "evalue": "info() takes 0 positional arguments but 1 was given",
     "output_type": "error",
     "traceback": [
      "\u001b[1;31m---------------------------------------------------------------------------\u001b[0m",
      "\u001b[1;31mTypeError\u001b[0m                                 Traceback (most recent call last)",
      "Cell \u001b[1;32mIn[72], line 1\u001b[0m\n\u001b[1;32m----> 1\u001b[0m info(\u001b[38;5;124m\"\u001b[39m\u001b[38;5;124m홍길동\u001b[39m\u001b[38;5;124m\"\u001b[39m)\n",
      "\u001b[1;31mTypeError\u001b[0m: info() takes 0 positional arguments but 1 was given"
     ]
    }
   ],
   "source": [
    "info(\"홍길동\")"
   ]
  },
  {
   "cell_type": "code",
   "execution_count": 74,
   "id": "a90c551b",
   "metadata": {},
   "outputs": [
    {
     "name": "stdout",
     "output_type": "stream",
     "text": [
      "name : 홍길동\n",
      "age : 30\n",
      "address : 부산시\n"
     ]
    }
   ],
   "source": [
    "info(name = \"홍길동\", age = 30, address = \"부산시\")"
   ]
  },
  {
   "cell_type": "code",
   "execution_count": null,
   "id": "7a56831f",
   "metadata": {},
   "outputs": [],
   "source": []
  }
 ],
 "metadata": {
  "kernelspec": {
   "display_name": "Python 3 (ipykernel)",
   "language": "python",
   "name": "python3"
  },
  "language_info": {
   "codemirror_mode": {
    "name": "ipython",
    "version": 3
   },
   "file_extension": ".py",
   "mimetype": "text/x-python",
   "name": "python",
   "nbconvert_exporter": "python",
   "pygments_lexer": "ipython3",
   "version": "3.11.5"
  }
 },
 "nbformat": 4,
 "nbformat_minor": 5
}
