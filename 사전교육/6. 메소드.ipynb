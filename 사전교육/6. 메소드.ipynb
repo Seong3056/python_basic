{
 "cells": [
  {
   "cell_type": "markdown",
   "id": "8db61e0d",
   "metadata": {},
   "source": [
    "# 메소드\n",
    "\n",
    "- 특정 객체가 가지고 있는 함수\n",
    "    - 특정 자료형에 포함된 함수\n",
    "    \n",
    "- 일반 함수와의 차이점은 호출 방식\n",
    "    - 함수는 독립적, 메소드는 특정 객체를 통해서만 호출"
   ]
  },
  {
   "cell_type": "code",
   "execution_count": 1,
   "id": "938692d7",
   "metadata": {},
   "outputs": [
    {
     "name": "stdout",
     "output_type": "stream",
     "text": [
      "이름은 James 입니다\n"
     ]
    }
   ],
   "source": [
    "# print()함수\n",
    "name = \"James\"\n",
    "print(\"이름은\", name, \"입니다\")"
   ]
  },
  {
   "cell_type": "code",
   "execution_count": 2,
   "id": "c36719d4",
   "metadata": {},
   "outputs": [],
   "source": [
    "# append(), pop( ) 메소드\n",
    "my_list = []\n",
    "my_list.append(\"apple\")"
   ]
  },
  {
   "cell_type": "code",
   "execution_count": 4,
   "id": "2c79aad0",
   "metadata": {},
   "outputs": [
    {
     "data": {
      "text/plain": [
       "['apple']"
      ]
     },
     "execution_count": 4,
     "metadata": {},
     "output_type": "execute_result"
    }
   ],
   "source": [
    "my_list"
   ]
  },
  {
   "cell_type": "code",
   "execution_count": 5,
   "id": "6fac0d90",
   "metadata": {},
   "outputs": [
    {
     "data": {
      "text/plain": [
       "'apple'"
      ]
     },
     "execution_count": 5,
     "metadata": {},
     "output_type": "execute_result"
    }
   ],
   "source": [
    "my_list.pop()"
   ]
  },
  {
   "cell_type": "code",
   "execution_count": 6,
   "id": "346e01f5",
   "metadata": {},
   "outputs": [
    {
     "data": {
      "text/plain": [
       "[]"
      ]
     },
     "execution_count": 6,
     "metadata": {},
     "output_type": "execute_result"
    }
   ],
   "source": [
    "my_list"
   ]
  },
  {
   "cell_type": "markdown",
   "id": "50c7ada2",
   "metadata": {},
   "source": [
    "## 문자열 메소드\n"
   ]
  },
  {
   "cell_type": "markdown",
   "id": "21254c4d",
   "metadata": {},
   "source": [
    "### 1.count()\n",
    "\n",
    "- 문자열 내부에 포함된 특정 문자열의 개수를 반환"
   ]
  },
  {
   "cell_type": "code",
   "execution_count": 7,
   "id": "4a420646",
   "metadata": {},
   "outputs": [
    {
     "data": {
      "text/plain": [
       "4"
      ]
     },
     "execution_count": 7,
     "metadata": {},
     "output_type": "execute_result"
    }
   ],
   "source": [
    "s = \"내가 그린 기린 그림은 목 긴 기린 그림이고, 네가 그린 기린 그림은 목 짧은 기린 그림이다.\"\n",
    "s.count(\"기린\")"
   ]
  },
  {
   "cell_type": "code",
   "execution_count": 9,
   "id": "adeb39fa",
   "metadata": {},
   "outputs": [
    {
     "data": {
      "text/plain": [
       "1"
      ]
     },
     "execution_count": 9,
     "metadata": {},
     "output_type": "execute_result"
    }
   ],
   "source": [
    "s = \"best of best\"\n",
    "s.count(\"best\", 5)   # 5번째 부터 검색"
   ]
  },
  {
   "cell_type": "code",
   "execution_count": 11,
   "id": "67e4cf1b",
   "metadata": {},
   "outputs": [
    {
     "data": {
      "text/plain": [
       "1"
      ]
     },
     "execution_count": 11,
     "metadata": {},
     "output_type": "execute_result"
    }
   ],
   "source": [
    "s.count(\"best\", -7)  # -인덱스도 사용 가능"
   ]
  },
  {
   "cell_type": "markdown",
   "id": "c9e8c1fc",
   "metadata": {},
   "source": [
    "### 2.find()\n",
    "\n",
    "- 문자열 내부에 포함 된 특정 문자열을 찾을 때 사용\n",
    "- 찾는 문자열이 있으면 그 문자열이 처은으로 나온 위치를 반환\n",
    "- 찾는 문자열이 없을 경우에는 -1 을 반환"
   ]
  },
  {
   "cell_type": "code",
   "execution_count": 12,
   "id": "201c1298",
   "metadata": {},
   "outputs": [
    {
     "data": {
      "text/plain": [
       "1"
      ]
     },
     "execution_count": 12,
     "metadata": {},
     "output_type": "execute_result"
    }
   ],
   "source": [
    "s = \"apple\"\n",
    "s.find(\"p\")"
   ]
  },
  {
   "cell_type": "code",
   "execution_count": 13,
   "id": "a63098ae",
   "metadata": {},
   "outputs": [
    {
     "data": {
      "text/plain": [
       "-1"
      ]
     },
     "execution_count": 13,
     "metadata": {},
     "output_type": "execute_result"
    }
   ],
   "source": [
    "s.find(\"z\")"
   ]
  },
  {
   "cell_type": "code",
   "execution_count": 14,
   "id": "46b1ecab",
   "metadata": {},
   "outputs": [
    {
     "data": {
      "text/plain": [
       "0"
      ]
     },
     "execution_count": 14,
     "metadata": {},
     "output_type": "execute_result"
    }
   ],
   "source": [
    "s =  \"best of best\"\n",
    "s.find(\"best\")"
   ]
  },
  {
   "cell_type": "code",
   "execution_count": 15,
   "id": "260d1267",
   "metadata": {},
   "outputs": [
    {
     "data": {
      "text/plain": [
       "8"
      ]
     },
     "execution_count": 15,
     "metadata": {},
     "output_type": "execute_result"
    }
   ],
   "source": [
    "s.find(\"best\",5)"
   ]
  },
  {
   "cell_type": "code",
   "execution_count": 16,
   "id": "1988cda8",
   "metadata": {},
   "outputs": [
    {
     "data": {
      "text/plain": [
       "8"
      ]
     },
     "execution_count": 16,
     "metadata": {},
     "output_type": "execute_result"
    }
   ],
   "source": [
    "s.rfind(\"best\")"
   ]
  },
  {
   "cell_type": "markdown",
   "id": "9e8b10fc",
   "metadata": {},
   "source": [
    "### 3.Index()\n",
    "\n",
    "- find() 메소드와 같은 역할을 수행\n",
    "    - 차이점 : 찾는 문자열이 없는 경우 오류가 발생"
   ]
  },
  {
   "cell_type": "code",
   "execution_count": 17,
   "id": "adde53b8",
   "metadata": {},
   "outputs": [
    {
     "data": {
      "text/plain": [
       "1"
      ]
     },
     "execution_count": 17,
     "metadata": {},
     "output_type": "execute_result"
    }
   ],
   "source": [
    "s = \"apple\"\n",
    "s.index(\"p\")"
   ]
  },
  {
   "cell_type": "code",
   "execution_count": 18,
   "id": "40cf568f",
   "metadata": {},
   "outputs": [
    {
     "ename": "ValueError",
     "evalue": "substring not found",
     "output_type": "error",
     "traceback": [
      "\u001b[1;31m---------------------------------------------------------------------------\u001b[0m",
      "\u001b[1;31mValueError\u001b[0m                                Traceback (most recent call last)",
      "Cell \u001b[1;32mIn[18], line 1\u001b[0m\n\u001b[1;32m----> 1\u001b[0m s\u001b[38;5;241m.\u001b[39mindex(\u001b[38;5;124m\"\u001b[39m\u001b[38;5;124mz\u001b[39m\u001b[38;5;124m\"\u001b[39m)\n",
      "\u001b[1;31mValueError\u001b[0m: substring not found"
     ]
    }
   ],
   "source": [
    "s.index(\"z\")"
   ]
  },
  {
   "cell_type": "markdown",
   "id": "43376aec",
   "metadata": {},
   "source": [
    "### 4.대소문자 변환\n",
    "\n",
    "- upper() : 모두 대문자로 변환\n",
    "- lower() : 모두 소문자로 변환\n",
    "- capiralize()  : 첫글자만 대문자로 변환 , 나머지는 소문자로"
   ]
  },
  {
   "cell_type": "code",
   "execution_count": 21,
   "id": "a008a8f2",
   "metadata": {},
   "outputs": [
    {
     "data": {
      "text/plain": [
       "'BEST OF BEST'"
      ]
     },
     "execution_count": 21,
     "metadata": {},
     "output_type": "execute_result"
    }
   ],
   "source": [
    "s = \"BEST of best\"\n",
    "s.upper()            # 원본은 유지됨"
   ]
  },
  {
   "cell_type": "code",
   "execution_count": 22,
   "id": "5dece6b5",
   "metadata": {},
   "outputs": [
    {
     "data": {
      "text/plain": [
       "'BEST of best'"
      ]
     },
     "execution_count": 22,
     "metadata": {},
     "output_type": "execute_result"
    }
   ],
   "source": [
    "s"
   ]
  },
  {
   "cell_type": "markdown",
   "id": "a569b3a6",
   "metadata": {},
   "source": [
    "### 5.join()\n",
    "\n",
    "- 반복가능 객체의 각 요소 사이에 특정 문자열을 포함시킴"
   ]
  },
  {
   "cell_type": "code",
   "execution_count": 23,
   "id": "8ee37251",
   "metadata": {},
   "outputs": [
    {
     "data": {
      "text/plain": [
       "'p-y-t-h-o-n'"
      ]
     },
     "execution_count": 23,
     "metadata": {},
     "output_type": "execute_result"
    }
   ],
   "source": [
    "\"-\".join(\"python\")"
   ]
  },
  {
   "cell_type": "code",
   "execution_count": 24,
   "id": "8553a844",
   "metadata": {},
   "outputs": [
    {
     "data": {
      "text/plain": [
       "'a+b+c+d'"
      ]
     },
     "execution_count": 24,
     "metadata": {},
     "output_type": "execute_result"
    }
   ],
   "source": [
    "\"+\".join([\"a\", \"b\", \"c\", \"d\"])"
   ]
  },
  {
   "cell_type": "code",
   "execution_count": 25,
   "id": "5fc84911",
   "metadata": {},
   "outputs": [
    {
     "data": {
      "text/plain": [
       "'xyz'"
      ]
     },
     "execution_count": 25,
     "metadata": {},
     "output_type": "execute_result"
    }
   ],
   "source": [
    "\"\".join([\"x\", \"y\", \"z\"])"
   ]
  },
  {
   "cell_type": "code",
   "execution_count": 26,
   "id": "07344208",
   "metadata": {},
   "outputs": [
    {
     "data": {
      "text/plain": [
       "'ab'"
      ]
     },
     "execution_count": 26,
     "metadata": {},
     "output_type": "execute_result"
    }
   ],
   "source": [
    "\"\".join({\"a\" : \"apple\", \"b\" : \"banana\"})"
   ]
  },
  {
   "cell_type": "markdown",
   "id": "5198d42a",
   "metadata": {},
   "source": [
    "### 6. split()\n",
    "\n",
    "- 하나의 문자열을 여러 개의 문자열로 분리해서 리스트로 반환\n",
    "- 기본은 공백 문자를 기준으로 분리"
   ]
  },
  {
   "cell_type": "code",
   "execution_count": 27,
   "id": "b70c2741",
   "metadata": {},
   "outputs": [
    {
     "data": {
      "text/plain": [
       "['Life', 'is', 'too', 'short']"
      ]
     },
     "execution_count": 27,
     "metadata": {},
     "output_type": "execute_result"
    }
   ],
   "source": [
    "s = \"Life is too short\"\n",
    "s.split()"
   ]
  },
  {
   "cell_type": "code",
   "execution_count": 29,
   "id": "6a226849",
   "metadata": {},
   "outputs": [
    {
     "data": {
      "text/plain": [
       "['010', '1234', '5678']"
      ]
     },
     "execution_count": 29,
     "metadata": {},
     "output_type": "execute_result"
    }
   ],
   "source": [
    "s = \"010-1234-5678\"\n",
    "s.split(\"-\")"
   ]
  },
  {
   "cell_type": "code",
   "execution_count": null,
   "id": "df408aff",
   "metadata": {},
   "outputs": [],
   "source": []
  }
 ],
 "metadata": {
  "kernelspec": {
   "display_name": "Python 3 (ipykernel)",
   "language": "python",
   "name": "python3"
  },
  "language_info": {
   "codemirror_mode": {
    "name": "ipython",
    "version": 3
   },
   "file_extension": ".py",
   "mimetype": "text/x-python",
   "name": "python",
   "nbconvert_exporter": "python",
   "pygments_lexer": "ipython3",
   "version": "3.11.5"
  }
 },
 "nbformat": 4,
 "nbformat_minor": 5
}
