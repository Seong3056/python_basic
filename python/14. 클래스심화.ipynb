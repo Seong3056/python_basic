{
 "cells": [
  {
   "cell_type": "markdown",
   "id": "80798726",
   "metadata": {},
   "source": [
    "# 소멸자(destructor)\n",
    "\n",
    "- 인스턴스가 소멸될 때 자동으로 호출되는 메서드"
   ]
  },
  {
   "cell_type": "code",
   "execution_count": 1,
   "id": "1fad9b5f",
   "metadata": {},
   "outputs": [],
   "source": [
    "class Sample:\n",
    "    def __del__(self):\n",
    "        print(\"인스턴스가 소멸됩니다\")"
   ]
  },
  {
   "cell_type": "code",
   "execution_count": 6,
   "id": "e482114a",
   "metadata": {},
   "outputs": [],
   "source": [
    "sample = Sample()"
   ]
  },
  {
   "cell_type": "code",
   "execution_count": 7,
   "id": "32b8cec5",
   "metadata": {},
   "outputs": [
    {
     "name": "stdout",
     "output_type": "stream",
     "text": [
      "인스턴스가 소멸됩니다\n"
     ]
    }
   ],
   "source": [
    "del sample"
   ]
  },
  {
   "cell_type": "markdown",
   "id": "c7c1582f",
   "metadata": {},
   "source": [
    "# isinstance()\n",
    "\n",
    "- 객체가 어떤 클래스로부터 만들어졌는지 확인할 수 있는 함수\n",
    "- 첫 번째 매개변수에 객체, 두 번째 매개변수에 클래스를 입력\n",
    "    - isinstance(객체, 클래스)\n",
    "\n",
    "- 객체가 해당 클래스를 기반으로 만들어졌으면 True, 관계 없으면 False를 반환"
   ]
  },
  {
   "cell_type": "code",
   "execution_count": 8,
   "id": "a164b110",
   "metadata": {},
   "outputs": [],
   "source": [
    "class Student:\n",
    "    def __init__(self):\n",
    "        pass"
   ]
  },
  {
   "cell_type": "code",
   "execution_count": 9,
   "id": "077dd596",
   "metadata": {},
   "outputs": [],
   "source": [
    "student = Student()"
   ]
  },
  {
   "cell_type": "code",
   "execution_count": 10,
   "id": "ba70f278",
   "metadata": {},
   "outputs": [
    {
     "data": {
      "text/plain": [
       "True"
      ]
     },
     "execution_count": 10,
     "metadata": {},
     "output_type": "execute_result"
    }
   ],
   "source": [
    "isinstance(student, Student)"
   ]
  },
  {
   "cell_type": "markdown",
   "id": "5539f48b",
   "metadata": {},
   "source": [
    "- 리스트 내부의 여러 종류의 객체가 들어있을 때 인스턴스들을 구분하며 속성과 기능을 사용할 때 사용"
   ]
  },
  {
   "cell_type": "code",
   "execution_count": 15,
   "id": "3940ad9e",
   "metadata": {},
   "outputs": [],
   "source": [
    "class Student:\n",
    "    def study(self):\n",
    "        print(\"공부를 합니다\")\n",
    "    \n",
    "class Teacher:\n",
    "    def teach(self):\n",
    "        print(\"학생을 가르칩니다\")"
   ]
  },
  {
   "cell_type": "code",
   "execution_count": 16,
   "id": "2c8ddcbd",
   "metadata": {},
   "outputs": [],
   "source": [
    "classroom = [Student(), Student(), Teacher(), Student(), Student()]"
   ]
  },
  {
   "cell_type": "code",
   "execution_count": 17,
   "id": "852fc861",
   "metadata": {},
   "outputs": [
    {
     "name": "stdout",
     "output_type": "stream",
     "text": [
      "공부를 합니다\n",
      "공부를 합니다\n",
      "학생을 가르칩니다\n",
      "공부를 합니다\n",
      "공부를 합니다\n"
     ]
    }
   ],
   "source": [
    "# 반복을 적용해서 적절한 함수를 호출\n",
    "for person in classroom:\n",
    "    if isinstance(person, Student):\n",
    "        person.study()\n",
    "    elif isinstance(person, Teacher):\n",
    "        person.teach()"
   ]
  },
  {
   "cell_type": "markdown",
   "id": "d9d4800d",
   "metadata": {},
   "source": [
    "# 특수한 이름의 메서드\n",
    "\n",
    "- \\_\\_<이름>\\_\\_() 형태의 메서드들은 특수한 상황에 자동으로 호출되도록 만들어짐\n",
    "- 파이썬 클래스를 사용할 때 제공해주는 보조 기능"
   ]
  },
  {
   "cell_type": "markdown",
   "id": "d41fe308",
   "metadata": {},
   "source": [
    "## \\_\\_str\\_\\_()\n",
    "\n",
    "- str() 함수의 매개변수로 객체를 넣으면 호출되는 메서드\n",
    "- 객체를 문자열로 변환"
   ]
  },
  {
   "cell_type": "code",
   "execution_count": 18,
   "id": "4277be27",
   "metadata": {},
   "outputs": [
    {
     "ename": "NameError",
     "evalue": "name '__str__' is not defined",
     "output_type": "error",
     "traceback": [
      "\u001b[1;31m---------------------------------------------------------------------------\u001b[0m",
      "\u001b[1;31mNameError\u001b[0m                                 Traceback (most recent call last)",
      "Cell \u001b[1;32mIn[18], line 1\u001b[0m\n\u001b[1;32m----> 1\u001b[0m \u001b[38;5;21m__str__\u001b[39m(student)\n",
      "\u001b[1;31mNameError\u001b[0m: name '__str__' is not defined"
     ]
    }
   ],
   "source": [
    "# __str__()이 없는경우\n",
    "str(student)"
   ]
  },
  {
   "cell_type": "code",
   "execution_count": 19,
   "id": "62301cab",
   "metadata": {},
   "outputs": [],
   "source": [
    "class Student:\n",
    "    def __init__(self, name, korean, math, english, science):\n",
    "        self.name = name\n",
    "        self.korean = korean\n",
    "        self.math = math\n",
    "        self.english = english\n",
    "        self.science = science\n",
    "    \n",
    "    def get_sum(self):\n",
    "        return self.korean + self.math + self.english + self.science\n",
    "    \n",
    "    def get_average(self):\n",
    "        return self.get_sum() / 4\n",
    "    \n",
    "    def __str__(self):\n",
    "        return f\"{self.name}\\t{self.get_sum()}\\t{self.get_average()}\"\n"
   ]
  },
  {
   "cell_type": "code",
   "execution_count": 20,
   "id": "60d69fd8",
   "metadata": {},
   "outputs": [],
   "source": [
    "students = [Student(\"윤인성\", 87, 98, 88, 95),\n",
    "            Student(\"연하진\", 92, 98, 96, 98),\n",
    "            Student(\"구지연\", 76, 96, 94, 90)]"
   ]
  },
  {
   "cell_type": "code",
   "execution_count": 24,
   "id": "6613e543",
   "metadata": {},
   "outputs": [
    {
     "name": "stdout",
     "output_type": "stream",
     "text": [
      "윤인성\t368\t92.0\n"
     ]
    }
   ],
   "source": [
    "# __str__()이 있는경우\n",
    "print(students[0])"
   ]
  },
  {
   "cell_type": "code",
   "execution_count": 25,
   "id": "0da15fcd",
   "metadata": {},
   "outputs": [
    {
     "name": "stdout",
     "output_type": "stream",
     "text": [
      "이름\t총점\t평균\n",
      "윤인성\t368\t92.0\n",
      "연하진\t384\t96.0\n",
      "구지연\t356\t89.0\n"
     ]
    }
   ],
   "source": [
    "print(\"이름\", \"총점\", \"평균\", sep = \"\\t\")\n",
    "for student in students:\n",
    "    print(student)"
   ]
  },
  {
   "cell_type": "markdown",
   "id": "ca70b8a1",
   "metadata": {},
   "source": [
    "## 크기 비교메서드\n",
    "\n",
    "| 이름 | 영어 | 설명|\n",
    "| :--: | :--: | :--: |\n",
    "| eq | equal | 같다 |\n",
    "| ne | not equal | 다르다 |\n",
    "| gt | greater than | 크다 |\n",
    "| ge |graeter than or eqaul | 크거나 같다 |\n",
    "| lt | less than | 작다 |\n",
    "| le | less than or eqaul | 작거나 같다 |\n"
   ]
  },
  {
   "cell_type": "code",
   "execution_count": 26,
   "id": "c9888d4b",
   "metadata": {},
   "outputs": [
    {
     "ename": "TypeError",
     "evalue": "'>' not supported between instances of 'Student' and 'Student'",
     "output_type": "error",
     "traceback": [
      "\u001b[1;31m---------------------------------------------------------------------------\u001b[0m",
      "\u001b[1;31mTypeError\u001b[0m                                 Traceback (most recent call last)",
      "Cell \u001b[1;32mIn[26], line 2\u001b[0m\n\u001b[0;32m      1\u001b[0m \u001b[38;5;66;03m# 크기 비교 메서드 정의 전\u001b[39;00m\n\u001b[1;32m----> 2\u001b[0m students[\u001b[38;5;241m0\u001b[39m] \u001b[38;5;241m>\u001b[39m students[\u001b[38;5;241m1\u001b[39m]\n",
      "\u001b[1;31mTypeError\u001b[0m: '>' not supported between instances of 'Student' and 'Student'"
     ]
    }
   ],
   "source": [
    "# 크기 비교 메서드 정의 전\n",
    "students[0] > students[1]"
   ]
  },
  {
   "cell_type": "code",
   "execution_count": 27,
   "id": "e32eb675",
   "metadata": {},
   "outputs": [],
   "source": [
    "class Student:\n",
    "    def __init__(self, name, korean, math, english, science):\n",
    "        self.name = name\n",
    "        self.korean = korean\n",
    "        self.math = math\n",
    "        self.english = english\n",
    "        self.science = science\n",
    "    \n",
    "    def get_sum(self):\n",
    "        return self.korean + self.math + self.english + self.science\n",
    "    \n",
    "    def get_average(self):\n",
    "        return self.get_sum() / 4\n",
    "    \n",
    "    def __str__(self):\n",
    "        return f\"{self.name}\\t{self.get_sum()}\\t{self.get_average()}\"\n",
    "\n",
    "    def __eq__(self, value):\n",
    "        return self.get_sum() == value.get_sum()\n",
    "    def __ne__(self, value):\n",
    "        return self.get_sum() != value.get_sum()\n",
    "    def __gt__(sefl, value):\n",
    "        return self.get_sum() >= vale.get_sum()\n",
    "    def __ge__(self, value):\n",
    "        return self.get_sum() >= value.get_sum()\n",
    "    def __lt__(self, value):\n",
    "        return self.get_sum() < value.get_sum()\n",
    "    def __le__(self, value):\n",
    "        return self.get_sum() <= value.get_sum()"
   ]
  },
  {
   "cell_type": "code",
   "execution_count": 28,
   "id": "e69f5e24",
   "metadata": {},
   "outputs": [],
   "source": [
    "student_a = Student(\"나선주\", 88, 82, 96, 86)\n",
    "student_b = Student(\"윤아린\", 96, 98, 97, 95)"
   ]
  },
  {
   "cell_type": "code",
   "execution_count": 29,
   "id": "5ef19022",
   "metadata": {},
   "outputs": [
    {
     "data": {
      "text/plain": [
       "False"
      ]
     },
     "execution_count": 29,
     "metadata": {},
     "output_type": "execute_result"
    }
   ],
   "source": [
    "student_a == student_b"
   ]
  },
  {
   "cell_type": "code",
   "execution_count": 30,
   "id": "422fbe72",
   "metadata": {},
   "outputs": [
    {
     "data": {
      "text/plain": [
       "False"
      ]
     },
     "execution_count": 30,
     "metadata": {},
     "output_type": "execute_result"
    }
   ],
   "source": [
    "student_a.__eq__(student_b)"
   ]
  },
  {
   "cell_type": "code",
   "execution_count": 31,
   "id": "95ad2e33",
   "metadata": {},
   "outputs": [
    {
     "data": {
      "text/plain": [
       "True"
      ]
     },
     "execution_count": 31,
     "metadata": {},
     "output_type": "execute_result"
    }
   ],
   "source": [
    "student_a != student_b"
   ]
  },
  {
   "cell_type": "code",
   "execution_count": 32,
   "id": "f52f1f48",
   "metadata": {},
   "outputs": [
    {
     "data": {
      "text/plain": [
       "True"
      ]
     },
     "execution_count": 32,
     "metadata": {},
     "output_type": "execute_result"
    }
   ],
   "source": [
    "student_a <= student_b"
   ]
  },
  {
   "cell_type": "markdown",
   "id": "4973f86e",
   "metadata": {},
   "source": [
    "- 비교할 때 사용하는 자료형을 한정하고 싶다면 예외를 발생할수 있음"
   ]
  },
  {
   "cell_type": "code",
   "execution_count": 46,
   "id": "009b1068",
   "metadata": {},
   "outputs": [],
   "source": [
    "class Student:\n",
    "    def __init__(self, name, korean, math, english, science):\n",
    "        self.name = name\n",
    "        self.korean = korean\n",
    "        self.math = math\n",
    "        self.english = english\n",
    "        self.science = science\n",
    "    \n",
    "    def get_sum(self):\n",
    "        return self.korean + self.math + self.english + self.science\n",
    "    \n",
    "    def get_average(self):\n",
    "        return self.get_sum() / 4\n",
    "    \n",
    "    def __str__(self):\n",
    "        return f\"{self.name}\\t{self.get_sum()}\\t{self.get_average()}\"\n",
    "\n",
    "    def __eq__(self, value):\n",
    "        if not isinstance(value, Student):\n",
    "            raise TypeError(\"student의 클래스의 인스턴스만 비교할 수 잇습니다.\")\n",
    "        return self.get_sum() == value.get_sum()\n",
    "    def __ne__(self, value):\n",
    "        return self.get_sum() != value.get_sum()\n",
    "    def __gt__(sefl, value):\n",
    "        return self.get_sum() >= vale.get_sum()\n",
    "    def __ge__(self, value):\n",
    "        return self.get_sum() >= value.get_sum()\n",
    "    def __lt__(self, value):\n",
    "        return self.get_sum() < value.get_sum()\n",
    "    def __le__(self, value):\n",
    "        return self.get_sum() <= value.get_sum()"
   ]
  },
  {
   "cell_type": "code",
   "execution_count": 47,
   "id": "3600a8e7",
   "metadata": {},
   "outputs": [
    {
     "ename": "TypeError",
     "evalue": "student의 클래스의 인스턴스만 비교할 수 잇습니다.",
     "output_type": "error",
     "traceback": [
      "\u001b[1;31m---------------------------------------------------------------------------\u001b[0m",
      "\u001b[1;31mTypeError\u001b[0m                                 Traceback (most recent call last)",
      "Cell \u001b[1;32mIn[47], line 2\u001b[0m\n\u001b[0;32m      1\u001b[0m student_a \u001b[38;5;241m=\u001b[39m Student(\u001b[38;5;124m\"\u001b[39m\u001b[38;5;124m나선주\u001b[39m\u001b[38;5;124m\"\u001b[39m, \u001b[38;5;241m88\u001b[39m, \u001b[38;5;241m92\u001b[39m, \u001b[38;5;241m96\u001b[39m, \u001b[38;5;241m82\u001b[39m)\n\u001b[1;32m----> 2\u001b[0m student_a \u001b[38;5;241m==\u001b[39m \u001b[38;5;241m10\u001b[39m\n",
      "Cell \u001b[1;32mIn[46], line 20\u001b[0m, in \u001b[0;36mStudent.__eq__\u001b[1;34m(self, value)\u001b[0m\n\u001b[0;32m     18\u001b[0m \u001b[38;5;28;01mdef\u001b[39;00m \u001b[38;5;21m__eq__\u001b[39m(\u001b[38;5;28mself\u001b[39m, value):\n\u001b[0;32m     19\u001b[0m     \u001b[38;5;28;01mif\u001b[39;00m \u001b[38;5;129;01mnot\u001b[39;00m \u001b[38;5;28misinstance\u001b[39m(value, Student):\n\u001b[1;32m---> 20\u001b[0m         \u001b[38;5;28;01mraise\u001b[39;00m \u001b[38;5;167;01mTypeError\u001b[39;00m(\u001b[38;5;124m\"\u001b[39m\u001b[38;5;124mstudent의 클래스의 인스턴스만 비교할 수 잇습니다.\u001b[39m\u001b[38;5;124m\"\u001b[39m)\n\u001b[0;32m     21\u001b[0m     \u001b[38;5;28;01mreturn\u001b[39;00m \u001b[38;5;28mself\u001b[39m\u001b[38;5;241m.\u001b[39mget_sum() \u001b[38;5;241m==\u001b[39m value\u001b[38;5;241m.\u001b[39mget_sum()\n",
      "\u001b[1;31mTypeError\u001b[0m: student의 클래스의 인스턴스만 비교할 수 잇습니다."
     ]
    }
   ],
   "source": [
    "student_a = Student(\"나선주\", 88, 92, 96, 82)\n",
    "student_a == 10"
   ]
  },
  {
   "cell_type": "markdown",
   "id": "a38e1a6e",
   "metadata": {},
   "source": [
    "# 클래스 변수와 클래스 메서드\n",
    "\n",
    "- 객체가 변수와 메서드를 가지는 것 처럼 클래스도 변수와 메서드를 가질 수 있음\n",
    "\n",
    "- 클래스 변수에 접근\n",
    "    - 클래스이름.변수이름\n",
    "    \n",
    "- 클래스 변수 표현법\n",
    "    - 클래스 변수 = 값"
   ]
  },
  {
   "cell_type": "code",
   "execution_count": 50,
   "id": "1f335bf7",
   "metadata": {},
   "outputs": [],
   "source": [
    "class Korean:\n",
    "    country = \"한국\" # 클래스 변수 country\n",
    "    \n",
    "    def __init__(self, name, age, address):\n",
    "        self.name = name # 인스턴스 변수 self.name\n",
    "        self.age = age # 인스턴스 변수 self.age\n",
    "        self.address = address # 인스턴스 변수 self.address"
   ]
  },
  {
   "cell_type": "code",
   "execution_count": 51,
   "id": "11cf5aba",
   "metadata": {},
   "outputs": [],
   "source": [
    "man = Korean(\"홍길동\", 35, \"서울\")"
   ]
  },
  {
   "cell_type": "code",
   "execution_count": 53,
   "id": "5e61d51e",
   "metadata": {},
   "outputs": [
    {
     "data": {
      "text/plain": [
       "'홍길동'"
      ]
     },
     "execution_count": 53,
     "metadata": {},
     "output_type": "execute_result"
    }
   ],
   "source": [
    "man.name"
   ]
  },
  {
   "cell_type": "code",
   "execution_count": 56,
   "id": "6fbf7c7e",
   "metadata": {},
   "outputs": [
    {
     "ename": "AttributeError",
     "evalue": "type object 'Korean' has no attribute 'name'",
     "output_type": "error",
     "traceback": [
      "\u001b[1;31m---------------------------------------------------------------------------\u001b[0m",
      "\u001b[1;31mAttributeError\u001b[0m                            Traceback (most recent call last)",
      "Cell \u001b[1;32mIn[56], line 1\u001b[0m\n\u001b[1;32m----> 1\u001b[0m Korean\u001b[38;5;241m.\u001b[39mname\n",
      "\u001b[1;31mAttributeError\u001b[0m: type object 'Korean' has no attribute 'name'"
     ]
    }
   ],
   "source": [
    "Korean.name"
   ]
  },
  {
   "cell_type": "code",
   "execution_count": 57,
   "id": "d61a4090",
   "metadata": {},
   "outputs": [
    {
     "data": {
      "text/plain": [
       "'한국'"
      ]
     },
     "execution_count": 57,
     "metadata": {},
     "output_type": "execute_result"
    }
   ],
   "source": [
    "man.country"
   ]
  },
  {
   "cell_type": "code",
   "execution_count": 58,
   "id": "f7403932",
   "metadata": {},
   "outputs": [
    {
     "data": {
      "text/plain": [
       "'한국'"
      ]
     },
     "execution_count": 58,
     "metadata": {},
     "output_type": "execute_result"
    }
   ],
   "source": [
    "Korean.country"
   ]
  },
  {
   "cell_type": "code",
   "execution_count": 59,
   "id": "9d1877f6",
   "metadata": {},
   "outputs": [],
   "source": [
    "class Person:\n",
    "    bag = []\n",
    "    \n",
    "    def put_bag(self, stuff):\n",
    "        Person.bag.append(stuff)\n",
    "#         self.bag.append(stuff)\n",
    "        # self.bag을 사용하면 인스턴스 변수와 혼동하기 쉽기 때문에 클래스 이름을 사용하는 것을 권장"
   ]
  },
  {
   "cell_type": "code",
   "execution_count": 60,
   "id": "a509f186",
   "metadata": {},
   "outputs": [],
   "source": [
    "james = Person()\n",
    "james.put_bag(\"책\")"
   ]
  },
  {
   "cell_type": "code",
   "execution_count": 61,
   "id": "633096cd",
   "metadata": {},
   "outputs": [],
   "source": [
    "maria = Person()\n",
    "maria.put_bag(\"열쇠\")"
   ]
  },
  {
   "cell_type": "code",
   "execution_count": 63,
   "id": "303293b4",
   "metadata": {},
   "outputs": [
    {
     "name": "stdout",
     "output_type": "stream",
     "text": [
      "['책', '열쇠']\n",
      "['책', '열쇠']\n",
      "['책', '열쇠']\n"
     ]
    }
   ],
   "source": [
    "print(james.bag)\n",
    "print(maria.bag)\n",
    "print(Person.bag)"
   ]
  },
  {
   "cell_type": "code",
   "execution_count": 66,
   "id": "cf56d1be",
   "metadata": {},
   "outputs": [],
   "source": [
    "class Person:\n",
    "    bag = []\n",
    "    \n",
    "    def __init__(self):\n",
    "        self.bag = []\n",
    "        \n",
    "    def put_bag(self, stuff):\n",
    "        Person.bag.append(stuff)\n",
    "        \n",
    "    def put_mybag(self, stuff):\n",
    "        self.bag.append(stuff)"
   ]
  },
  {
   "cell_type": "code",
   "execution_count": 67,
   "id": "1c7d7c0d",
   "metadata": {},
   "outputs": [],
   "source": [
    "james = Person()\n",
    "james.put_mybag(\"책\")\n",
    "james.put_bag(\"사전\")"
   ]
  },
  {
   "cell_type": "code",
   "execution_count": 68,
   "id": "1d86b15e",
   "metadata": {},
   "outputs": [],
   "source": [
    "maria = Person()\n",
    "maria.put_mybag(\"열쇠\")\n",
    "maria.put_bag(\"자물쇠\")"
   ]
  },
  {
   "cell_type": "code",
   "execution_count": 70,
   "id": "9a7cd165",
   "metadata": {},
   "outputs": [
    {
     "name": "stdout",
     "output_type": "stream",
     "text": [
      "['책']\n",
      "['열쇠']\n",
      "['사전', '자물쇠']\n"
     ]
    }
   ],
   "source": [
    "# 같은 이름의 인스턴스 변수와 클래스 변수가 존재할 때는 인스턴스 변수 우선\n",
    "print(james.bag)\n",
    "print(maria.bag)\n",
    "print(Person.bag)"
   ]
  },
  {
   "cell_type": "code",
   "execution_count": 71,
   "id": "51c560be",
   "metadata": {},
   "outputs": [],
   "source": [
    "class Student:\n",
    "    count = 0\n",
    "    def __init__(self, name, korean, math, english, science):\n",
    "        self.name = name\n",
    "        self.korean = korean\n",
    "        self.math = math\n",
    "        self.english = english\n",
    "        self.science = science\n",
    "        \n",
    "        # 클래스 변수 설정\n",
    "        Student.count += 1\n",
    "        print(f\"{Student.count}번째 학생이 생성되었습니다.\")"
   ]
  },
  {
   "cell_type": "code",
   "execution_count": 72,
   "id": "41625ac8",
   "metadata": {},
   "outputs": [
    {
     "name": "stdout",
     "output_type": "stream",
     "text": [
      "1번째 학생이 생성되었습니다.\n",
      "2번째 학생이 생성되었습니다.\n",
      "3번째 학생이 생성되었습니다.\n"
     ]
    }
   ],
   "source": [
    "students = [Student(\"윤인성\", 87, 98, 88, 95),\n",
    "            Student(\"연하진\", 92, 98, 96, 98),\n",
    "            Student(\"구지연\", 76, 96, 94, 90)]"
   ]
  },
  {
   "cell_type": "code",
   "execution_count": 73,
   "id": "65ccced8",
   "metadata": {},
   "outputs": [
    {
     "name": "stdout",
     "output_type": "stream",
     "text": [
      "현재 생성된 총 학생 수는 3명 입니다\n"
     ]
    }
   ],
   "source": [
    "print(f\"현재 생성된 총 학생 수는 {Student.count}명 입니다\")"
   ]
  },
  {
   "cell_type": "markdown",
   "id": "d0bf95f7",
   "metadata": {},
   "source": [
    "## 클래스 메서드\n",
    "\n",
    "- 인스턴스 또는 클래스로 호출\n",
    "- 생성된 인스턴스가 없어도 호출 가능\n",
    "- @classmethod 데코레이터를 표시하고 작성\n",
    "- 매개변수 cls를 사용\n",
    "- 클래스.메소드() 의 형태로 사용\n",
    "- 인스턴스 변수에 접근할 수 없지만 클래스 변수에는 접근 가능\n",
    "    - 메서드의 실행이 외부상태에 영향을 미치지 않는 순수함수를 만들 때\n",
    "    - 인스턴스의 상태를 변화시키지 않는 메서드를 만들 때\n",
    "- 표현법\n",
    "```\n",
    "class 클래스이름:\n",
    "    @classmethod\n",
    "    def 클래스함수(cls, 매개변수):\n",
    "        pass\n",
    "```\n",
    "\n",
    "- 클래스 메서드 호출\n",
    "    - 클래스이름.함수이름(입력값)"
   ]
  },
  {
   "cell_type": "code",
   "execution_count": 75,
   "id": "4e4441bc",
   "metadata": {},
   "outputs": [],
   "source": [
    "class Korean:\n",
    "    country = \"한국\"\n",
    "    \n",
    "    @classmethod\n",
    "    def trip(cls, country):\n",
    "        if cls.country == country:\n",
    "            print(\"국내여행\")\n",
    "        else:\n",
    "            print(\"해외여행\")"
   ]
  },
  {
   "cell_type": "code",
   "execution_count": 76,
   "id": "42d3d3f7",
   "metadata": {},
   "outputs": [
    {
     "name": "stdout",
     "output_type": "stream",
     "text": [
      "국내여행\n"
     ]
    }
   ],
   "source": [
    "Korean.trip(\"한국\")"
   ]
  },
  {
   "cell_type": "code",
   "execution_count": 77,
   "id": "d3e8afcc",
   "metadata": {},
   "outputs": [
    {
     "name": "stdout",
     "output_type": "stream",
     "text": [
      "해외여행\n"
     ]
    }
   ],
   "source": [
    "Korean.trip(\"미국\")"
   ]
  },
  {
   "cell_type": "code",
   "execution_count": 85,
   "id": "2fdf6b92",
   "metadata": {},
   "outputs": [],
   "source": [
    "class Person:\n",
    "    count = 0 # 클래스 변수\n",
    "    \n",
    "    def __init__(self):\n",
    "        Person.count += 1 # 인스턴스가 만들어질 때 클래스 변수 count에 1 더하기\n",
    "    \n",
    "    @classmethod\n",
    "    def print_count(cls):\n",
    "        print(f\"{cls.count}명 생성됨\") # cls로 클래스 속성에 접근\n",
    "    @classmethod\n",
    "    def create(cls):\n",
    "        p = cls() # cls()는 Person()과 같음\n",
    "        return p"
   ]
  },
  {
   "cell_type": "code",
   "execution_count": 86,
   "id": "6de35642",
   "metadata": {},
   "outputs": [],
   "source": [
    "james = Person()\n",
    "maria = Person()\n"
   ]
  },
  {
   "cell_type": "code",
   "execution_count": 87,
   "id": "6cbcd126",
   "metadata": {},
   "outputs": [
    {
     "name": "stdout",
     "output_type": "stream",
     "text": [
      "2명 생성됨\n"
     ]
    }
   ],
   "source": [
    "Person.print_count()"
   ]
  },
  {
   "cell_type": "code",
   "execution_count": 88,
   "id": "c5324ad9",
   "metadata": {},
   "outputs": [
    {
     "name": "stdout",
     "output_type": "stream",
     "text": [
      "3명 생성됨\n"
     ]
    }
   ],
   "source": [
    "julia = Person.create()\n",
    "Person.print_count()"
   ]
  },
  {
   "cell_type": "code",
   "execution_count": 89,
   "id": "8fb2eba0",
   "metadata": {},
   "outputs": [],
   "source": [
    "class Student:\n",
    "    # 클래스 변수\n",
    "    count = 0\n",
    "    students = []\n",
    "    \n",
    "    @classmethod\n",
    "    def print(cls):\n",
    "        print(\"------ 학생목록 ------\")\n",
    "        print(\"이름\\t총점\\t평균\")\n",
    "        for student in cls.students:\n",
    "            print(student)\n",
    "        print(\"------ -------- ------\")\n",
    "    def __init__(self, name, korean, math, english, science):\n",
    "        self.name = name\n",
    "        self.korean = korean\n",
    "        self.math = math\n",
    "        self.english = english\n",
    "        self.science = science\n",
    "        Student.count += 1\n",
    "        Student.students.append(self)\n",
    "    \n",
    "    def get_sum(self):\n",
    "        return self.korean + self.math + self.english + self.science\n",
    "    \n",
    "    def get_average(self):\n",
    "        return self.get_sum() / 4\n",
    "    \n",
    "    def __str__(self):\n",
    "        return f\"{self.name}\\t{self.get_sum()}\\t{self.get_average()}\"\n"
   ]
  },
  {
   "cell_type": "code",
   "execution_count": 90,
   "id": "a2a33880",
   "metadata": {},
   "outputs": [],
   "source": [
    "students = [Student(\"윤인성\", 87, 98, 88, 95),\n",
    "            Student(\"연하진\", 92, 98, 96, 98),\n",
    "            Student(\"구지연\", 76, 96, 94, 90)]"
   ]
  },
  {
   "cell_type": "code",
   "execution_count": 91,
   "id": "ffb27018",
   "metadata": {},
   "outputs": [
    {
     "name": "stdout",
     "output_type": "stream",
     "text": [
      "------ 학생목록 ------\n",
      "이름\t총점\t평균\n",
      "윤인성\t368\t92.0\n",
      "연하진\t384\t96.0\n",
      "구지연\t356\t89.0\n",
      "------ -------- ------\n"
     ]
    }
   ],
   "source": [
    "# 현재 생성된 학생을 모두 출력\n",
    "Student.print()"
   ]
  },
  {
   "cell_type": "markdown",
   "id": "76b03eac",
   "metadata": {},
   "source": [
    "# 가비지 컬렉터(garbage collector)\n",
    "\n",
    "- 프로그램 내부에서 무언가 생성한다는 것은 메모리에 올린다는 의미\n",
    "    - 메모리 부족해지면 컴퓨터는 하드디스크를 메모리처럼 사용\n",
    "        - 이런 동작을 스왑(swap)이라고함\n",
    "        - 하드디스크는 메모리보다 훨씬 느리기 때문에 스왑을 처리하는 속도도 느림\n",
    "    - 프로그램에서 변수를 만들면 메모리에 데이터가 올라가고, 계속 만들게되면 메모리가 가득 참\n",
    "        - 파이썬에서는 가비지 컬렉터가 더 사용할 가능성이 없는 데이터를 메모리에서 제거해서 메모리를 정리"
   ]
  },
  {
   "cell_type": "markdown",
   "id": "e3f0ab47",
   "metadata": {},
   "source": [
    "## 변수에 저장하지 않은 경우"
   ]
  },
  {
   "cell_type": "code",
   "execution_count": 93,
   "id": "5d1c7483",
   "metadata": {},
   "outputs": [],
   "source": [
    "class Test:\n",
    "    def __init__(self, name):\n",
    "        self.name = name\n",
    "        print(f\"{self.name} - 생성되었습니다.\")\n",
    "    def __del__(self):\n",
    "        print(f\"{self.name} - 파괴되었습니다.\")"
   ]
  },
  {
   "cell_type": "code",
   "execution_count": 94,
   "id": "faf6a764",
   "metadata": {},
   "outputs": [
    {
     "name": "stdout",
     "output_type": "stream",
     "text": [
      "A - 생성되었습니다.\n",
      "A - 파괴되었습니다.\n",
      "B - 생성되었습니다.\n",
      "B - 파괴되었습니다.\n",
      "C - 생성되었습니다.\n"
     ]
    },
    {
     "data": {
      "text/plain": [
       "<__main__.Test at 0x20025af33d0>"
      ]
     },
     "execution_count": 94,
     "metadata": {},
     "output_type": "execute_result"
    }
   ],
   "source": [
    "Test(\"A\")\n",
    "Test(\"B\")\n",
    "Test(\"C\")"
   ]
  },
  {
   "cell_type": "markdown",
   "id": "36ccaea2",
   "metadata": {},
   "source": [
    "## 변수에 저장한 경우"
   ]
  },
  {
   "cell_type": "code",
   "execution_count": 95,
   "id": "ce734ec6",
   "metadata": {},
   "outputs": [
    {
     "name": "stdout",
     "output_type": "stream",
     "text": [
      "A - 생성되었습니다.\n",
      "B - 생성되었습니다.\n",
      "C - 생성되었습니다.\n"
     ]
    }
   ],
   "source": [
    "a = Test(\"A\")\n",
    "b = Test(\"B\")\n",
    "c = Test(\"C\")"
   ]
  },
  {
   "cell_type": "markdown",
   "id": "1c842d97",
   "metadata": {},
   "source": [
    "- 변수에 저장했으면 나중에 활용한다는 의미이므로 프로그램이 종료되는 순간 까지 메모리에서 제거하지 않음"
   ]
  },
  {
   "cell_type": "markdown",
   "id": "529b4eee",
   "metadata": {},
   "source": [
    "# 프라이빗 변수\n",
    "\n",
    "- 클래스 내부의 변수를 외부에서 사용하는 것을 막고 싶을 때 사용\n",
    "- 표현법\n",
    "    - \\_\\_변수이름"
   ]
  },
  {
   "cell_type": "code",
   "execution_count": 96,
   "id": "912eff93",
   "metadata": {},
   "outputs": [],
   "source": [
    "class Person:\n",
    "    def __init__(self, name, age, address):\n",
    "        self.hello = \"안녕하세요\"\n",
    "        self.name = name\n",
    "        self.age = age\n",
    "        self.address = address"
   ]
  },
  {
   "cell_type": "code",
   "execution_count": 97,
   "id": "1029872c",
   "metadata": {},
   "outputs": [],
   "source": [
    "maria = Person(\"마리아\", 20, \"서울 마포구\")"
   ]
  },
  {
   "cell_type": "code",
   "execution_count": 98,
   "id": "6eaa8fd9",
   "metadata": {},
   "outputs": [
    {
     "data": {
      "text/plain": [
       "'마리아'"
      ]
     },
     "execution_count": 98,
     "metadata": {},
     "output_type": "execute_result"
    }
   ],
   "source": [
    "maria.name"
   ]
  },
  {
   "cell_type": "code",
   "execution_count": 100,
   "id": "8c60693f",
   "metadata": {},
   "outputs": [
    {
     "data": {
      "text/plain": [
       "30"
      ]
     },
     "execution_count": 100,
     "metadata": {},
     "output_type": "execute_result"
    }
   ],
   "source": [
    "maria.age = 30\n",
    "maria.age"
   ]
  },
  {
   "cell_type": "code",
   "execution_count": 102,
   "id": "d42d6b8d",
   "metadata": {},
   "outputs": [],
   "source": [
    "class Person:\n",
    "    def __init__(self, name, age, address, wallet):\n",
    "        self.hello = \"안녕하세요\"\n",
    "        self.name = name\n",
    "        self.age = age\n",
    "        self.address = address\n",
    "        self.__wallet = wallet"
   ]
  },
  {
   "cell_type": "code",
   "execution_count": 103,
   "id": "8d4fc71e",
   "metadata": {},
   "outputs": [],
   "source": [
    "maria = Person(\"마리아\", 20, \"서울 마포구\", 10000)"
   ]
  },
  {
   "cell_type": "code",
   "execution_count": 105,
   "id": "fb46cdc2",
   "metadata": {},
   "outputs": [
    {
     "ename": "AttributeError",
     "evalue": "'Person' object has no attribute '__wallet'",
     "output_type": "error",
     "traceback": [
      "\u001b[1;31m---------------------------------------------------------------------------\u001b[0m",
      "\u001b[1;31mAttributeError\u001b[0m                            Traceback (most recent call last)",
      "Cell \u001b[1;32mIn[105], line 1\u001b[0m\n\u001b[1;32m----> 1\u001b[0m maria\u001b[38;5;241m.\u001b[39m__wallet \u001b[38;5;241m-\u001b[39m\u001b[38;5;241m=\u001b[39m \u001b[38;5;241m10000\u001b[39m\n",
      "\u001b[1;31mAttributeError\u001b[0m: 'Person' object has no attribute '__wallet'"
     ]
    }
   ],
   "source": [
    "maria.__wallet -= 10000 # 클래스 바깥에서 비공개 속성(프라이빗)에 접근하면 에러가 발생"
   ]
  },
  {
   "cell_type": "code",
   "execution_count": 108,
   "id": "f53fa465",
   "metadata": {},
   "outputs": [],
   "source": [
    "class Person:\n",
    "    def __init__(self, name, age, address, wallet):\n",
    "        self.hello = \"안녕하세요\"\n",
    "        self.name = name\n",
    "        self.age = age\n",
    "        self.address = address\n",
    "        self.__wallet = wallet\n",
    "        \n",
    "    def pay(self, amount):\n",
    "        self.__wallet -= amount # 비공개 속성은 클래스 안의 메서드에서만 접근할 수 있음\n",
    "        print(f\"{self.__wallet}원 남음\")"
   ]
  },
  {
   "cell_type": "code",
   "execution_count": 110,
   "id": "0146130d",
   "metadata": {},
   "outputs": [],
   "source": [
    "maria = Person(\"마리아\", 20, \"서울시 마포구\", 10000)"
   ]
  },
  {
   "cell_type": "code",
   "execution_count": 111,
   "id": "5e7d5e32",
   "metadata": {},
   "outputs": [
    {
     "name": "stdout",
     "output_type": "stream",
     "text": [
      "8200원 남음\n"
     ]
    }
   ],
   "source": [
    "maria.pay(1800)"
   ]
  },
  {
   "cell_type": "code",
   "execution_count": 112,
   "id": "8d4703cd",
   "metadata": {},
   "outputs": [],
   "source": [
    "import math\n",
    "\n",
    "class Circle:\n",
    "    def __init__(self, radius):\n",
    "        self.__radius = radius\n",
    "        \n",
    "    def get_circumference(self):\n",
    "        return 2 * math.pi * self.__radius\n",
    "    \n",
    "    def get_area(self):\n",
    "        return math.pi * (self.__radius ** 2)"
   ]
  },
  {
   "cell_type": "code",
   "execution_count": 113,
   "id": "add67041",
   "metadata": {
    "scrolled": true
   },
   "outputs": [
    {
     "name": "stdout",
     "output_type": "stream",
     "text": [
      "원의 둘레 62.83185307179586\n",
      "원의 넓이 314.1592653589793\n"
     ]
    },
    {
     "ename": "AttributeError",
     "evalue": "'Circle' object has no attribute '__radius'",
     "output_type": "error",
     "traceback": [
      "\u001b[1;31m---------------------------------------------------------------------------\u001b[0m",
      "\u001b[1;31mAttributeError\u001b[0m                            Traceback (most recent call last)",
      "Cell \u001b[1;32mIn[113], line 5\u001b[0m\n\u001b[0;32m      3\u001b[0m \u001b[38;5;28mprint\u001b[39m(\u001b[38;5;124m\"\u001b[39m\u001b[38;5;124m원의 둘레\u001b[39m\u001b[38;5;124m\"\u001b[39m, circle\u001b[38;5;241m.\u001b[39mget_circumference())\n\u001b[0;32m      4\u001b[0m \u001b[38;5;28mprint\u001b[39m(\u001b[38;5;124m\"\u001b[39m\u001b[38;5;124m원의 넓이\u001b[39m\u001b[38;5;124m\"\u001b[39m, circle\u001b[38;5;241m.\u001b[39mget_area())\n\u001b[1;32m----> 5\u001b[0m \u001b[38;5;28mprint\u001b[39m(\u001b[38;5;124m\"\u001b[39m\u001b[38;5;124m반지름\u001b[39m\u001b[38;5;124m\"\u001b[39m, circle\u001b[38;5;241m.\u001b[39m__radius)\n",
      "\u001b[1;31mAttributeError\u001b[0m: 'Circle' object has no attribute '__radius'"
     ]
    }
   ],
   "source": [
    "# 원의 둘레와 넓이 구하기\n",
    "circle = Circle(10)\n",
    "print(\"원의 둘레\", circle.get_circumference())\n",
    "print(\"원의 넓이\", circle.get_area())\n",
    "print(\"반지름\", circle.__radius)"
   ]
  },
  {
   "cell_type": "markdown",
   "id": "5409b688",
   "metadata": {},
   "source": [
    "# 게터(getter), 세터(setter)\n",
    "\n",
    "- 위와 같은 예제에서 원의 반지름을 변경하고 싶다면 \\_\\_radius 에 직접 접근할 수 없기 때문에 간접적인 방법을 사용해야함\n",
    "- 게터와 세터는 피라이빗 변수의 값을 추출하거나 변경할 목적으로 간접적으로 속성에 접근하도록 해주는 함수"
   ]
  },
  {
   "cell_type": "code",
   "execution_count": 114,
   "id": "3b7eda3b",
   "metadata": {},
   "outputs": [],
   "source": [
    "import math\n",
    "\n",
    "class Circle:\n",
    "    def __init__(self, radius):\n",
    "        self.__radius = radius\n",
    "        \n",
    "    def get_circumference(self):\n",
    "        return 2 * math.pi * self.__radius\n",
    "    \n",
    "    def get_area(self):\n",
    "        return math.pi * (self.__radius ** 2)\n",
    "    \n",
    "    # 게터와 세터를 선언\n",
    "    def get_radius(self):\n",
    "        return self.__radius\n",
    "    def set_radius(self, value):\n",
    "        self.__radius = value"
   ]
  },
  {
   "cell_type": "code",
   "execution_count": 118,
   "id": "76ed0d3e",
   "metadata": {},
   "outputs": [
    {
     "name": "stdout",
     "output_type": "stream",
     "text": [
      "62.83185307179586\n",
      "314.1592653589793\n",
      "10\n"
     ]
    }
   ],
   "source": [
    "circle = Circle(10)\n",
    "print(circle.get_circumference())\n",
    "print(circle.get_area())\n",
    "print(circle.get_radius())"
   ]
  },
  {
   "cell_type": "code",
   "execution_count": 116,
   "id": "4a8060b2",
   "metadata": {},
   "outputs": [
    {
     "ename": "AttributeError",
     "evalue": "'Circle' object has no attribute '__radius'",
     "output_type": "error",
     "traceback": [
      "\u001b[1;31m---------------------------------------------------------------------------\u001b[0m",
      "\u001b[1;31mAttributeError\u001b[0m                            Traceback (most recent call last)",
      "Cell \u001b[1;32mIn[116], line 1\u001b[0m\n\u001b[1;32m----> 1\u001b[0m circle\u001b[38;5;241m.\u001b[39m__radius\n",
      "\u001b[1;31mAttributeError\u001b[0m: 'Circle' object has no attribute '__radius'"
     ]
    }
   ],
   "source": [
    "circle.__radius"
   ]
  },
  {
   "cell_type": "code",
   "execution_count": 119,
   "id": "400dabbe",
   "metadata": {},
   "outputs": [
    {
     "name": "stdout",
     "output_type": "stream",
     "text": [
      "18.84955592153876\n",
      "28.274333882308138\n",
      "3\n"
     ]
    }
   ],
   "source": [
    "circle.set_radius(3)\n",
    "print(circle.get_circumference())\n",
    "print(circle.get_area())\n",
    "print(circle.get_radius())"
   ]
  },
  {
   "cell_type": "markdown",
   "id": "a9429fb6",
   "metadata": {},
   "source": [
    "- 세터를 사용해 값을 변경하게 되면 여러가지 추가 처리를 할 수 있음"
   ]
  },
  {
   "cell_type": "code",
   "execution_count": 121,
   "id": "75c1f6d8",
   "metadata": {},
   "outputs": [],
   "source": [
    "class Circle:\n",
    "    def __init__(self, radius):\n",
    "        self.__radius = radius\n",
    "        \n",
    "    def get_circumference(self):\n",
    "        return 2 * math.pi * self.__radius\n",
    "    \n",
    "    def get_area(self):\n",
    "        return math.pi * (self.__radius ** 2)\n",
    "    \n",
    "    # 게터와 세터를 선언\n",
    "    def get_radius(self):\n",
    "        return self.__radius\n",
    "    def set_radius(self, value):\n",
    "        if value <= 0:\n",
    "            raise TypeError(\"반지름은 양의 숫자여야 합니다.\")\n",
    "        self.__radius = value"
   ]
  },
  {
   "cell_type": "code",
   "execution_count": 122,
   "id": "5315503a",
   "metadata": {},
   "outputs": [
    {
     "ename": "TypeError",
     "evalue": "반지름은 양의 숫자여야 합니다.",
     "output_type": "error",
     "traceback": [
      "\u001b[1;31m---------------------------------------------------------------------------\u001b[0m",
      "\u001b[1;31mTypeError\u001b[0m                                 Traceback (most recent call last)",
      "Cell \u001b[1;32mIn[122], line 2\u001b[0m\n\u001b[0;32m      1\u001b[0m circle \u001b[38;5;241m=\u001b[39m Circle(\u001b[38;5;241m10\u001b[39m)\n\u001b[1;32m----> 2\u001b[0m circle\u001b[38;5;241m.\u001b[39mset_radius(\u001b[38;5;241m-\u001b[39m\u001b[38;5;241m2\u001b[39m)\n",
      "Cell \u001b[1;32mIn[121], line 16\u001b[0m, in \u001b[0;36mCircle.set_radius\u001b[1;34m(self, value)\u001b[0m\n\u001b[0;32m     14\u001b[0m \u001b[38;5;28;01mdef\u001b[39;00m \u001b[38;5;21mset_radius\u001b[39m(\u001b[38;5;28mself\u001b[39m, value):\n\u001b[0;32m     15\u001b[0m     \u001b[38;5;28;01mif\u001b[39;00m value \u001b[38;5;241m<\u001b[39m\u001b[38;5;241m=\u001b[39m \u001b[38;5;241m0\u001b[39m:\n\u001b[1;32m---> 16\u001b[0m         \u001b[38;5;28;01mraise\u001b[39;00m \u001b[38;5;167;01mTypeError\u001b[39;00m(\u001b[38;5;124m\"\u001b[39m\u001b[38;5;124m반지름은 양의 숫자여야 합니다.\u001b[39m\u001b[38;5;124m\"\u001b[39m)\n\u001b[0;32m     17\u001b[0m     \u001b[38;5;28mself\u001b[39m\u001b[38;5;241m.\u001b[39m__radius \u001b[38;5;241m=\u001b[39m value\n",
      "\u001b[1;31mTypeError\u001b[0m: 반지름은 양의 숫자여야 합니다."
     ]
    }
   ],
   "source": [
    "circle = Circle(10)\n",
    "circle.set_radius(-2)"
   ]
  },
  {
   "cell_type": "code",
   "execution_count": null,
   "id": "c9a75a19",
   "metadata": {},
   "outputs": [],
   "source": []
  }
 ],
 "metadata": {
  "kernelspec": {
   "display_name": "Python 3 (ipykernel)",
   "language": "python",
   "name": "python3"
  },
  "language_info": {
   "codemirror_mode": {
    "name": "ipython",
    "version": 3
   },
   "file_extension": ".py",
   "mimetype": "text/x-python",
   "name": "python",
   "nbconvert_exporter": "python",
   "pygments_lexer": "ipython3",
   "version": "3.11.5"
  }
 },
 "nbformat": 4,
 "nbformat_minor": 5
}
