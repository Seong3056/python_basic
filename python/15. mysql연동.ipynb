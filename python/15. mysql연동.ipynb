{
 "cells": [
  {
   "cell_type": "markdown",
   "id": "38afb014",
   "metadata": {},
   "source": [
    "# 파이썬과 MySQL의 연동\n",
    "\n",
    "- pymysql 라이브러리를 이용하면 파이썬과 MySQL을 연동하는 데이터베이스 연동 프로그램을 작성할 수 있음"
   ]
  },
  {
   "cell_type": "markdown",
   "id": "520a08ed",
   "metadata": {},
   "source": [
    "## 파이썬에서 데이터 입력\n",
    "\n",
    "1. mysql 연결하기\n",
    "    - 연결자 = pymysql.connect(연결 옵션)    \n",
    "\n",
    "2. 커서 생성하기\n",
    "    - 커서이름 = 연결자.cursor()\n",
    "    \n",
    "3. 테이블 만들기\n",
    "    - 커서이름.execute(\"CREATE TABLE 문장\")\n",
    "    \n",
    "4. 데이터 입력하기\n",
    "    - 커서이름.execute(\"INSERT 문장\")\n",
    "    \n",
    "5. 입력한 데이터 저장하기\n",
    "    - 연결자.commit()\n",
    "    \n",
    "6. mysql연결 종료하기\n",
    "    - 연결자.close()\n"
   ]
  },
  {
   "cell_type": "markdown",
   "id": "3c99cb37",
   "metadata": {},
   "source": [
    "### mysql연결\n",
    "\n",
    "```\n",
    "pymysql.connect(host = 서버IP주소, user = 사용자, password = 암호, db = 데이터베이스, charset = 문자세트, port = 포트번호)\n",
    "```"
   ]
  },
  {
   "cell_type": "code",
   "execution_count": 1,
   "id": "982d4d82",
   "metadata": {},
   "outputs": [],
   "source": [
    "import pymysql"
   ]
  },
  {
   "cell_type": "code",
   "execution_count": 3,
   "id": "14e850a2",
   "metadata": {
    "scrolled": true
   },
   "outputs": [],
   "source": [
    "conn = pymysql.connect(host ='127.0.0.1', user = \"root\", password = \"0000\", db = \"market_db\")"
   ]
  },
  {
   "cell_type": "markdown",
   "id": "aac28a0f",
   "metadata": {},
   "source": [
    "- conn : 연결자를 의미하는 connection의 약자\n",
    "    - 관급적으로 conn 또는 con 이라는 변수명을 사용함"
   ]
  },
  {
   "cell_type": "markdown",
   "id": "16caaf89",
   "metadata": {},
   "source": [
    "### 커서 생성\n",
    "\n",
    "- 커서(cursor) : 데이터베이스에 sql문을 실행하거나 실행된 결과를 받는 통로\n",
    "- 커서는 앞 단계에서 연결한 연결자에 만들어야 함"
   ]
  },
  {
   "cell_type": "code",
   "execution_count": 4,
   "id": "837be917",
   "metadata": {},
   "outputs": [],
   "source": [
    "cur = conn.cursor()"
   ]
  },
  {
   "cell_type": "markdown",
   "id": "8c41a938",
   "metadata": {},
   "source": [
    "### 테이블 생성\n",
    "\n",
    "- 테이블을 생성하는 sql문을 커서이름.execute() 함수의 매개변수로 전달"
   ]
  },
  {
   "cell_type": "code",
   "execution_count": 5,
   "id": "496f177b",
   "metadata": {},
   "outputs": [
    {
     "data": {
      "text/plain": [
       "0"
      ]
     },
     "execution_count": 5,
     "metadata": {},
     "output_type": "execute_result"
    }
   ],
   "source": [
    "cur.execute(\"\"\"\n",
    "    CREATE TABLE userTable (\n",
    "        ID        CHAR(4),\n",
    "        userNmae  CHAR(15),\n",
    "        email     CHAR(20),\n",
    "        birthYear INT        \n",
    "    )\n",
    "\"\"\")"
   ]
  },
  {
   "cell_type": "markdown",
   "id": "a7647f8d",
   "metadata": {},
   "source": [
    "### 데이터 입력"
   ]
  },
  {
   "cell_type": "code",
   "execution_count": 6,
   "id": "386f6b4c",
   "metadata": {},
   "outputs": [],
   "source": [
    "sql = \"\"\"\n",
    "INSERT INTO userTable VALUES ('hong', '홍지윤', 'hong@naver.com', 1996),\n",
    "('kim', '김태연', 'kim@daum.com', 2011)\n",
    "\"\"\""
   ]
  },
  {
   "cell_type": "code",
   "execution_count": 7,
   "id": "1ea28f65",
   "metadata": {},
   "outputs": [
    {
     "data": {
      "text/plain": [
       "2"
      ]
     },
     "execution_count": 7,
     "metadata": {},
     "output_type": "execute_result"
    }
   ],
   "source": [
    "cur.execute(sql)"
   ]
  },
  {
   "cell_type": "markdown",
   "id": "6502e47d",
   "metadata": {},
   "source": [
    "### 입력한 데이터 저장\n",
    "\n",
    "- 앞 단계에서 입력한 데이터가 아직 데이터베이스에 완전히 반영되지 않았음\n",
    "- 현재까지의 입력데이터를 완전히 데이터베이스에 반영하는 것을 커밋(commit)이라고 함"
   ]
  },
  {
   "cell_type": "code",
   "execution_count": 9,
   "id": "ed95d4ae",
   "metadata": {},
   "outputs": [],
   "source": [
    "conn.commit()"
   ]
  },
  {
   "cell_type": "markdown",
   "id": "86e38cd2",
   "metadata": {},
   "source": [
    "### 연결 종료\n",
    "\n",
    "- 데이터베이스 사용 후에는 연결자를 닫아줘야함"
   ]
  },
  {
   "cell_type": "code",
   "execution_count": 10,
   "id": "d572a765",
   "metadata": {},
   "outputs": [],
   "source": [
    "conn.close()"
   ]
  },
  {
   "cell_type": "markdown",
   "id": "6ce5bacf",
   "metadata": {},
   "source": [
    "# 연동 프로그래밍 활용"
   ]
  },
  {
   "cell_type": "code",
   "execution_count": 11,
   "id": "4c298f78",
   "metadata": {},
   "outputs": [
    {
     "name": "stdout",
     "output_type": "stream",
     "text": [
      "사용자 ID : star\n",
      "사용자 이름 : 별사랑\n",
      "사용자 이메일 : star@naver.com\n",
      "사용자 출생연도 : 1990\n"
     ]
    }
   ],
   "source": [
    "conn = pymysql.connect(host ='127.0.0.1', user = \"root\", password = \"0000\", db = \"market_db\")\n",
    "\n",
    "cur = conn.cursor()\n",
    "\n",
    "user_id = input(\"사용자 ID : \")\n",
    "user_name = input(\"사용자 이름 : \")\n",
    "user_email = input(\"사용자 이메일 : \")\n",
    "user_birth = input(\"사용자 출생연도 : \")\n",
    "\n",
    "sql = f\"\"\"\n",
    "    INSERT INTO userTable VALUES \n",
    "    ('{user_id}', '{user_name}', '{user_email}', {int(user_birth)})\n",
    "\"\"\"\n",
    "\n",
    "cur.execute(sql)\n",
    "\n",
    "conn.commit()\n",
    "conn.close()"
   ]
  },
  {
   "cell_type": "markdown",
   "id": "284d0017",
   "metadata": {},
   "source": [
    "## 데이터 조회\n",
    "\n",
    "1. mysql 연결하기\n",
    "    - 연결자 = pymysql.connect(연결 옵션)    \n",
    "\n",
    "2. 커서 생성하기\n",
    "    - 커서이름 = 연결자.cursor()\n",
    "    \n",
    "3. 테이블 만들기\n",
    "    - 커서이름.execute(\"CREATE TABLE 문장\")\n",
    "\n",
    "4. 조회한 데이터 출력\n",
    "     커서이름.fetchone()\n",
    "     커서이름.fetchall\n",
    "     커서이름.fetchmany()\n",
    "    \n",
    "6. mysql연결 종료하기\n",
    "    - 연결자.close()\n",
    "    \n",
    "- 조회된 데이터를 입력이나 반영하는 것이 아니므로 "
   ]
  },
  {
   "cell_type": "code",
   "execution_count": 24,
   "id": "3d9335fa",
   "metadata": {},
   "outputs": [
    {
     "name": "stdout",
     "output_type": "stream",
     "text": [
      "사용자ID\t사용자이름\t이메일\t출생연도\n",
      "----------------------------------------\n",
      "hong\t홍지윤\thong@naver.com\t1996\n",
      "kim\t김태연\tkim@daum.com\t2011\n",
      "star\t별사랑\tstar@naver.com\t1990\n"
     ]
    }
   ],
   "source": [
    "conn = pymysql.connect(host ='127.0.0.1', user = \"root\", password = \"0000\", db = \"market_db\")\n",
    "cur = conn.cursor()\n",
    "\n",
    "cur.execute(\"SELECT * FROM  userTable\")\n",
    "\n",
    "print(\"사용자ID\\t사용자이름\\t이메일\\t출생연도\")\n",
    "print(\"-\" * 40)\n",
    "\n",
    "while True:\n",
    "    row = cur.fetchone()\n",
    "    \n",
    "    if row == None:\n",
    "        break\n",
    "        \n",
    "    print(f\"{row[0]}\\t{row[1]}\\t{row[2]}\\t{row[3]}\")\n",
    "conn.close()"
   ]
  },
  {
   "cell_type": "code",
   "execution_count": 25,
   "id": "b0bce068",
   "metadata": {},
   "outputs": [
    {
     "name": "stdout",
     "output_type": "stream",
     "text": [
      "사용자ID\t사용자이름\t이메일\t출생연도\n",
      "----------------------------------------\n",
      "hong\t홍지윤\thong@naver.com\t1996\n",
      "kim\t김태연\tkim@daum.com\t2011\n",
      "star\t별사랑\tstar@naver.com\t1990\n"
     ]
    }
   ],
   "source": [
    "conn = pymysql.connect(host ='127.0.0.1', user = \"root\", password = \"0000\", db = \"market_db\")\n",
    "cur = conn.cursor()\n",
    "\n",
    "cur.execute(\"SELECT * FROM  userTable\")\n",
    "\n",
    "print(\"사용자ID\\t사용자이름\\t이메일\\t출생연도\")\n",
    "print(\"-\" * 40)\n",
    "\n",
    "\n",
    "row = cur.fetchall()\n",
    "    \n",
    "for i in row:\n",
    "    print(f\"{i[0]}\\t{i[1]}\\t{i[2]}\\t{i[3]}\")\n",
    "conn.close()"
   ]
  },
  {
   "cell_type": "markdown",
   "id": "f41e0cce",
   "metadata": {},
   "source": [
    "## with문 활용"
   ]
  },
  {
   "cell_type": "code",
   "execution_count": 26,
   "id": "69bb769d",
   "metadata": {},
   "outputs": [
    {
     "name": "stdout",
     "output_type": "stream",
     "text": [
      "사용자ID\t사용자이름\t이메일\t출생연도\n",
      "----------------------------------------\n",
      "hong\t홍지윤\thong@naver.com\t1996\n",
      "kim\t김태연\tkim@daum.com\t2011\n",
      "star\t별사랑\tstar@naver.com\t1990\n"
     ]
    }
   ],
   "source": [
    "with pymysql.connect(host ='127.0.0.1', user = \"root\", \n",
    "                     password = \"0000\", db = \"market_db\") as conn:\n",
    "    with conn.cursor() as cur:\n",
    "        cur.execute(\"select * from userTable\")\n",
    "        print(\"사용자ID\\t사용자이름\\t이메일\\t출생연도\")\n",
    "        print(\"-\" * 40)\n",
    "        \n",
    "        row = cur.fetchall()    \n",
    "        for i in row:\n",
    "            print(f\"{i[0]}\\t{i[1]}\\t{i[2]}\\t{i[3]}\")"
   ]
  },
  {
   "cell_type": "code",
   "execution_count": null,
   "id": "501061b6",
   "metadata": {},
   "outputs": [],
   "source": []
  },
  {
   "cell_type": "code",
   "execution_count": null,
   "id": "8e274bca",
   "metadata": {},
   "outputs": [],
   "source": []
  },
  {
   "cell_type": "code",
   "execution_count": null,
   "id": "86e6dc83",
   "metadata": {},
   "outputs": [],
   "source": []
  },
  {
   "cell_type": "code",
   "execution_count": null,
   "id": "3bc617bd",
   "metadata": {},
   "outputs": [],
   "source": []
  },
  {
   "cell_type": "code",
   "execution_count": null,
   "id": "2ce696bb",
   "metadata": {},
   "outputs": [],
   "source": []
  },
  {
   "cell_type": "code",
   "execution_count": null,
   "id": "7b47d1b2",
   "metadata": {},
   "outputs": [],
   "source": []
  },
  {
   "cell_type": "code",
   "execution_count": null,
   "id": "63e5dd6e",
   "metadata": {},
   "outputs": [],
   "source": []
  },
  {
   "cell_type": "code",
   "execution_count": null,
   "id": "74443c11",
   "metadata": {},
   "outputs": [],
   "source": []
  },
  {
   "cell_type": "code",
   "execution_count": null,
   "id": "8761de13",
   "metadata": {},
   "outputs": [],
   "source": []
  },
  {
   "cell_type": "code",
   "execution_count": null,
   "id": "d085c534",
   "metadata": {},
   "outputs": [],
   "source": []
  },
  {
   "cell_type": "code",
   "execution_count": null,
   "id": "8dff50dd",
   "metadata": {},
   "outputs": [],
   "source": []
  },
  {
   "cell_type": "code",
   "execution_count": null,
   "id": "457364e6",
   "metadata": {},
   "outputs": [],
   "source": []
  },
  {
   "cell_type": "code",
   "execution_count": null,
   "id": "3e721479",
   "metadata": {},
   "outputs": [],
   "source": []
  },
  {
   "cell_type": "code",
   "execution_count": null,
   "id": "4ab53302",
   "metadata": {},
   "outputs": [],
   "source": []
  },
  {
   "cell_type": "code",
   "execution_count": null,
   "id": "e2873e06",
   "metadata": {},
   "outputs": [],
   "source": []
  },
  {
   "cell_type": "code",
   "execution_count": null,
   "id": "b27b274d",
   "metadata": {},
   "outputs": [],
   "source": []
  },
  {
   "cell_type": "code",
   "execution_count": null,
   "id": "aad3efdf",
   "metadata": {},
   "outputs": [],
   "source": []
  },
  {
   "cell_type": "code",
   "execution_count": null,
   "id": "9eb88603",
   "metadata": {},
   "outputs": [],
   "source": []
  },
  {
   "cell_type": "code",
   "execution_count": null,
   "id": "7cebd819",
   "metadata": {},
   "outputs": [],
   "source": []
  },
  {
   "cell_type": "code",
   "execution_count": null,
   "id": "39ecdc41",
   "metadata": {},
   "outputs": [],
   "source": []
  },
  {
   "cell_type": "code",
   "execution_count": null,
   "id": "d2550290",
   "metadata": {},
   "outputs": [],
   "source": []
  },
  {
   "cell_type": "code",
   "execution_count": null,
   "id": "bb97b935",
   "metadata": {},
   "outputs": [],
   "source": []
  },
  {
   "cell_type": "code",
   "execution_count": null,
   "id": "92d632b3",
   "metadata": {},
   "outputs": [],
   "source": []
  }
 ],
 "metadata": {
  "kernelspec": {
   "display_name": "Python 3 (ipykernel)",
   "language": "python",
   "name": "python3"
  },
  "language_info": {
   "codemirror_mode": {
    "name": "ipython",
    "version": 3
   },
   "file_extension": ".py",
   "mimetype": "text/x-python",
   "name": "python",
   "nbconvert_exporter": "python",
   "pygments_lexer": "ipython3",
   "version": "3.11.5"
  }
 },
 "nbformat": 4,
 "nbformat_minor": 5
}
