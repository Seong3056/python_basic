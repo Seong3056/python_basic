{
 "cells": [
  {
   "cell_type": "markdown",
   "id": "fe0f30ea",
   "metadata": {},
   "source": [
    "- mutable : 생성된 후에 변경이 가능한 자료형\n",
    "    - 리스트, 세트, 딕셔너리\n",
    "- immutable : 생성된 후에 변경이 불가능한 자료형\n",
    "     - 정수, 실수, 문자열, 튜플"
   ]
  },
  {
   "cell_type": "markdown",
   "id": "026c7882",
   "metadata": {},
   "source": [
    "# mutable"
   ]
  },
  {
   "cell_type": "code",
   "execution_count": 1,
   "id": "95e02ea5",
   "metadata": {},
   "outputs": [
    {
     "data": {
      "text/plain": [
       "2655284499584"
      ]
     },
     "execution_count": 1,
     "metadata": {},
     "output_type": "execute_result"
    }
   ],
   "source": [
    "# id() : 변수나 자료형의 메모리 주소를 확인\n",
    "me = [1, 2, 3]\n",
    "id(me)"
   ]
  },
  {
   "cell_type": "code",
   "execution_count": 11,
   "id": "fdcd0635",
   "metadata": {},
   "outputs": [
    {
     "data": {
      "text/plain": [
       "2655284499584"
      ]
     },
     "execution_count": 11,
     "metadata": {},
     "output_type": "execute_result"
    }
   ],
   "source": [
    "me.append(4)\n",
    "id(me)"
   ]
  },
  {
   "cell_type": "markdown",
   "id": "fe80822f",
   "metadata": {},
   "source": [
    "# immutable"
   ]
  },
  {
   "cell_type": "code",
   "execution_count": 12,
   "id": "e15ab4e3",
   "metadata": {},
   "outputs": [
    {
     "data": {
      "text/plain": [
       "140709184509000"
      ]
     },
     "execution_count": 12,
     "metadata": {},
     "output_type": "execute_result"
    }
   ],
   "source": [
    "me = 10\n",
    "id(me)"
   ]
  },
  {
   "cell_type": "code",
   "execution_count": 13,
   "id": "d6eef6a9",
   "metadata": {},
   "outputs": [
    {
     "data": {
      "text/plain": [
       "140709184509032"
      ]
     },
     "execution_count": 13,
     "metadata": {},
     "output_type": "execute_result"
    }
   ],
   "source": [
    "me += 1\n",
    "id(me)"
   ]
  },
  {
   "cell_type": "markdown",
   "id": "3f242d32",
   "metadata": {},
   "source": [
    "# mutable의 특징"
   ]
  },
  {
   "cell_type": "code",
   "execution_count": 15,
   "id": "99e1c27e",
   "metadata": {},
   "outputs": [
    {
     "data": {
      "text/plain": [
       "2655284429056"
      ]
     },
     "execution_count": 15,
     "metadata": {},
     "output_type": "execute_result"
    }
   ],
   "source": [
    "me = [1, 2, 3]\n",
    "you = me"
   ]
  },
  {
   "cell_type": "code",
   "execution_count": 16,
   "id": "1bccea66",
   "metadata": {},
   "outputs": [
    {
     "name": "stdout",
     "output_type": "stream",
     "text": [
      "2655284429056\n",
      "2655284429056\n"
     ]
    }
   ],
   "source": [
    "print(id(you))\n",
    "print(id(me))"
   ]
  },
  {
   "cell_type": "code",
   "execution_count": 17,
   "id": "4778b42c",
   "metadata": {},
   "outputs": [],
   "source": [
    "you.append(4)"
   ]
  },
  {
   "cell_type": "code",
   "execution_count": 18,
   "id": "3e18e07b",
   "metadata": {},
   "outputs": [
    {
     "name": "stdout",
     "output_type": "stream",
     "text": [
      "[1, 2, 3, 4]\n"
     ]
    }
   ],
   "source": [
    "print(you)"
   ]
  },
  {
   "cell_type": "code",
   "execution_count": 19,
   "id": "3ceab7a5",
   "metadata": {},
   "outputs": [
    {
     "name": "stdout",
     "output_type": "stream",
     "text": [
      "[1, 2, 3, 4]\n"
     ]
    }
   ],
   "source": [
    "print(me)"
   ]
  },
  {
   "cell_type": "code",
   "execution_count": 22,
   "id": "d1dd12d6",
   "metadata": {},
   "outputs": [],
   "source": [
    "me.append(5)"
   ]
  },
  {
   "cell_type": "code",
   "execution_count": 29,
   "id": "8422ec6d",
   "metadata": {},
   "outputs": [
    {
     "name": "stdout",
     "output_type": "stream",
     "text": [
      "[1, 2, 3, 4, 5, 5]\n",
      "[1, 2, 3, 4, 5, 5, 6]\n"
     ]
    }
   ],
   "source": [
    "print(you)\n",
    "print(me)"
   ]
  },
  {
   "cell_type": "code",
   "execution_count": 24,
   "id": "6e8f2e84",
   "metadata": {},
   "outputs": [],
   "source": [
    "you = me.copy()"
   ]
  },
  {
   "cell_type": "code",
   "execution_count": 25,
   "id": "6db5bea6",
   "metadata": {},
   "outputs": [
    {
     "name": "stdout",
     "output_type": "stream",
     "text": [
      "[1, 2, 3, 4, 5, 5]\n",
      "2655284429056\n",
      "2655284506048\n"
     ]
    }
   ],
   "source": [
    "print(you)\n",
    "print(id(me))\n",
    "print(id(you))"
   ]
  },
  {
   "cell_type": "code",
   "execution_count": 26,
   "id": "577087b6",
   "metadata": {},
   "outputs": [],
   "source": [
    "me.append(6)"
   ]
  },
  {
   "cell_type": "code",
   "execution_count": 28,
   "id": "1a15dbd1",
   "metadata": {},
   "outputs": [
    {
     "name": "stdout",
     "output_type": "stream",
     "text": [
      "[1, 2, 3, 4, 5, 5, 6]\n",
      "[1, 2, 3, 4, 5, 5]\n"
     ]
    }
   ],
   "source": [
    "print(me)\n",
    "print(you)"
   ]
  },
  {
   "cell_type": "code",
   "execution_count": null,
   "id": "4977ba49",
   "metadata": {},
   "outputs": [],
   "source": []
  },
  {
   "cell_type": "code",
   "execution_count": null,
   "id": "603bba42",
   "metadata": {},
   "outputs": [],
   "source": []
  },
  {
   "cell_type": "code",
   "execution_count": null,
   "id": "7feffd8f",
   "metadata": {},
   "outputs": [],
   "source": []
  },
  {
   "cell_type": "code",
   "execution_count": null,
   "id": "6d8c2c76",
   "metadata": {},
   "outputs": [],
   "source": []
  },
  {
   "cell_type": "code",
   "execution_count": null,
   "id": "e0100a52",
   "metadata": {},
   "outputs": [],
   "source": []
  },
  {
   "cell_type": "code",
   "execution_count": null,
   "id": "48bdea4a",
   "metadata": {},
   "outputs": [],
   "source": []
  },
  {
   "cell_type": "code",
   "execution_count": null,
   "id": "b29225a6",
   "metadata": {},
   "outputs": [],
   "source": []
  }
 ],
 "metadata": {
  "kernelspec": {
   "display_name": "Python 3 (ipykernel)",
   "language": "python",
   "name": "python3"
  },
  "language_info": {
   "codemirror_mode": {
    "name": "ipython",
    "version": 3
   },
   "file_extension": ".py",
   "mimetype": "text/x-python",
   "name": "python",
   "nbconvert_exporter": "python",
   "pygments_lexer": "ipython3",
   "version": "3.11.5"
  }
 },
 "nbformat": 4,
 "nbformat_minor": 5
}
