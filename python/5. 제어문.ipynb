{
 "cells": [
  {
   "cell_type": "markdown",
   "id": "18f02a70",
   "metadata": {},
   "source": [
    "<img src = \"./img/control.png\" width = \"500\">"
   ]
  },
  {
   "cell_type": "markdown",
   "id": "0bdd1200",
   "metadata": {},
   "source": [
    "# 조건문\n",
    "\n",
    "- 특정 조건을 만족하는지 여부에 따라 실행하는 코드가 달라야 할 때 사용"
   ]
  },
  {
   "cell_type": "code",
   "execution_count": 1,
   "id": "a6ac8075",
   "metadata": {},
   "outputs": [
    {
     "name": "stdout",
     "output_type": "stream",
     "text": [
      "True 입니다\n"
     ]
    }
   ],
   "source": [
    "if True:\n",
    "    print(\"True 입니다\")"
   ]
  },
  {
   "cell_type": "code",
   "execution_count": null,
   "id": "81a94368",
   "metadata": {},
   "outputs": [],
   "source": [
    "if False:\n",
    "    print(\"False 입니다\")"
   ]
  },
  {
   "cell_type": "markdown",
   "id": "4ad046d8",
   "metadata": {},
   "source": [
    "## if-else 문\n",
    "\n",
    "- 조건시글 만족하는 경우와 만족하지 않는 경우를 구분하여 코드를 작성할 때 사용\n",
    "- 조건문이 두 가지로만구분될 때 if-else문을 사용하면 비교를 한 번만 하기 때문에 if만 사용할 때보다 더 효율적\n",
    "\n",
    "- 조건식 : 참과 거짓을 판단하는 문장"
   ]
  },
  {
   "cell_type": "code",
   "execution_count": 33,
   "id": "0d8fedfc",
   "metadata": {},
   "outputs": [
    {
     "name": "stdout",
     "output_type": "stream",
     "text": [
      "택시를 타고가라\n"
     ]
    }
   ],
   "source": [
    "money = True\n",
    "\n",
    "if money :\n",
    "    print(\"택시를 타고가라\")\n",
    "else :\n",
    "    print(\"걸어 가라\")"
   ]
  },
  {
   "cell_type": "code",
   "execution_count": 34,
   "id": "063b535f",
   "metadata": {},
   "outputs": [
    {
     "name": "stdout",
     "output_type": "stream",
     "text": [
      "False\n",
      "True\n",
      "False\n",
      "True\n"
     ]
    }
   ],
   "source": [
    "# 비교연산자\n",
    "print(3 < 2)\n",
    "print(3 > 2)\n",
    "print(3 == 2)\n",
    "print(3 != 2)"
   ]
  },
  {
   "cell_type": "code",
   "execution_count": 35,
   "id": "57bad905",
   "metadata": {},
   "outputs": [
    {
     "name": "stdout",
     "output_type": "stream",
     "text": [
      "걸어 가라\n"
     ]
    }
   ],
   "source": [
    "money = 20000\n",
    "pay = 30000\n",
    "\n",
    "if money >= pay:\n",
    "    print(\"택시를 타고 가라\")\n",
    "else:\n",
    "    print(\"걸어 가라\")"
   ]
  },
  {
   "cell_type": "markdown",
   "id": "3dd9fd4d",
   "metadata": {},
   "source": [
    "- 논리 연산자\n",
    "    - x or y\n",
    "        - x 와 y 둘 중에 하나만 참이어도 참\n",
    "    - x and y\n",
    "        - x 와 y 모두 참이어야 참\n",
    "    - not x\n",
    "        - x 가 거짓이면 참"
   ]
  },
  {
   "cell_type": "markdown",
   "id": "bc20265b",
   "metadata": {},
   "source": [
    "- in, not in\n",
    "    - x in 반복가능한 객체\n",
    "    - x not in 반복가능한 객체"
   ]
  },
  {
   "cell_type": "code",
   "execution_count": 5,
   "id": "1ff227f0",
   "metadata": {},
   "outputs": [
    {
     "name": "stdout",
     "output_type": "stream",
     "text": [
      "False\n"
     ]
    }
   ],
   "source": [
    "print(1 not in [1, 2, 3])"
   ]
  },
  {
   "cell_type": "code",
   "execution_count": 3,
   "id": "eb944feb",
   "metadata": {},
   "outputs": [
    {
     "name": "stdout",
     "output_type": "stream",
     "text": [
      "True\n"
     ]
    }
   ],
   "source": [
    "print(\"a\" in (\"a\", \"b\", \"c\"))"
   ]
  },
  {
   "cell_type": "code",
   "execution_count": 36,
   "id": "73353713",
   "metadata": {},
   "outputs": [
    {
     "name": "stdout",
     "output_type": "stream",
     "text": [
      "True\n"
     ]
    }
   ],
   "source": [
    "print(\"j\" not in \"python\")"
   ]
  },
  {
   "cell_type": "code",
   "execution_count": 6,
   "id": "47ae91be",
   "metadata": {},
   "outputs": [
    {
     "name": "stdout",
     "output_type": "stream",
     "text": [
      "택시를 타고 가라\n"
     ]
    }
   ],
   "source": [
    "pocket = [\"cellphone\", \"money\"]\n",
    "if \"money\" in pocket:\n",
    "    print(\"택시를 타고 가라\")\n",
    "else:\n",
    "    print(\"걸어 가라\")"
   ]
  },
  {
   "cell_type": "markdown",
   "id": "57426411",
   "metadata": {},
   "source": [
    "## if-elif 문\n",
    "\n",
    "- 특정 조건에 따라 3가지 이상으로 구분해야 할 때 사용\n",
    "\n",
    "```\n",
    "if 조건식1:\n",
    "    조건식1의 결과가 True일 때 실행문\n",
    "elif 조건식2:\n",
    "    조건식1의 결과가 False이고, 조건식2의 결과가 True일 때 실행문\n",
    "elif 조건식3:\n",
    "    조건식1, 2의 결과가 모두 False이고, 조건식3의 결과가 True일 때 실행문\n",
    "else:\n",
    "    조건식1, 2, 3의 결과가 모두 False일 때 실행문\n",
    "```"
   ]
  },
  {
   "cell_type": "code",
   "execution_count": 7,
   "id": "eea03b0d",
   "metadata": {},
   "outputs": [],
   "source": [
    "# 예) 주머니에 돈이 있으면 택시를 타고, \n",
    "# 주머니에 돈은 없지만 카드가 있으면 택시를 타고,\n",
    "# 돈도 없고 카드도 없으면 걸어가라"
   ]
  },
  {
   "cell_type": "code",
   "execution_count": 10,
   "id": "1c4c3f3d",
   "metadata": {},
   "outputs": [
    {
     "name": "stdout",
     "output_type": "stream",
     "text": [
      "카드로 택시를 타고 가라\n"
     ]
    }
   ],
   "source": [
    "pocket = [\"cellphone\"]\n",
    "card = True\n",
    "\n",
    "if \"money\" in pocket:\n",
    "    print(\"돈으로 택시를 타고 가라\")\n",
    "else:\n",
    "    if card:\n",
    "        print(\"카드로 택시를 타고 가라\")\n",
    "    else:\n",
    "        print(\"걸어가라\")"
   ]
  },
  {
   "cell_type": "code",
   "execution_count": 15,
   "id": "0fa9de91",
   "metadata": {},
   "outputs": [
    {
     "name": "stdout",
     "output_type": "stream",
     "text": [
      "카드로 택시를 타고 가라\n"
     ]
    }
   ],
   "source": [
    "pocket = [\"cellphone\"]\n",
    "card = True\n",
    "\n",
    "if \"money\" in pocket:\n",
    "    print(\"돈으로 택시를 타고 가라\")\n",
    "elif card:\n",
    "    print(\"카드로 택시를 타고 가라\")\n",
    "else:\n",
    "    print(\"걸어 가라\")"
   ]
  },
  {
   "cell_type": "markdown",
   "id": "33557156",
   "metadata": {},
   "source": [
    "- if 조건문에 불이 아닌 다른 값이 올 때는 자동으로 불로 변환해서 처리함\n",
    "    - 따라서 어떤 값이 True로 변환되고 어떤 값이 False로 변환되는지 파악하고 있어야 함"
   ]
  },
  {
   "cell_type": "code",
   "execution_count": 16,
   "id": "a68713e3",
   "metadata": {},
   "outputs": [
    {
     "name": "stdout",
     "output_type": "stream",
     "text": [
      "거짓\n"
     ]
    }
   ],
   "source": [
    "if None:\n",
    "    print(\"참\")\n",
    "else:\n",
    "    print(\"거짓\")"
   ]
  },
  {
   "cell_type": "code",
   "execution_count": 17,
   "id": "4a4dfdf3",
   "metadata": {},
   "outputs": [
    {
     "data": {
      "text/plain": [
       "False"
      ]
     },
     "execution_count": 17,
     "metadata": {},
     "output_type": "execute_result"
    }
   ],
   "source": [
    "bool(None)"
   ]
  },
  {
   "cell_type": "code",
   "execution_count": 18,
   "id": "b43da3b4",
   "metadata": {},
   "outputs": [
    {
     "name": "stdout",
     "output_type": "stream",
     "text": [
      "거짓\n"
     ]
    }
   ],
   "source": [
    "if 0:\n",
    "    print(\"참\")\n",
    "else:\n",
    "    print(\"거짓\")"
   ]
  },
  {
   "cell_type": "markdown",
   "id": "c9deaf4f",
   "metadata": {},
   "source": [
    "# pass\n",
    "\n",
    "- 일단 프로그램의 전체 골격을 잡아 놓고 내부에서 처리할 내용은 차근차근 만들어가고 싶은 경우 사용\n",
    "    - \"아무것도 안함\" 또는 \"곧 개발하겠음\"의 의미"
   ]
  },
  {
   "cell_type": "code",
   "execution_count": 24,
   "id": "886783d0",
   "metadata": {},
   "outputs": [
    {
     "name": "stdout",
     "output_type": "stream",
     "text": [
      "hello\n"
     ]
    }
   ],
   "source": [
    "if True:\n",
    "    print(\"hello\")\n",
    "else:\n",
    "    pass"
   ]
  },
  {
   "cell_type": "markdown",
   "id": "63ecec1b",
   "metadata": {},
   "source": [
    "# 조건부 표현식\n",
    " \n",
    " - <조건문이 참인 경우의 값> if <조건문> else <조건문이 거짓인 경우의 값>"
   ]
  },
  {
   "cell_type": "code",
   "execution_count": 26,
   "id": "b5d7a719",
   "metadata": {},
   "outputs": [
    {
     "name": "stdout",
     "output_type": "stream",
     "text": [
      "success\n"
     ]
    }
   ],
   "source": [
    "scores = 60\n",
    "\n",
    "if scores >= 60:\n",
    "    message = \"success\"\n",
    "else:\n",
    "    message = \"faulure\"\n",
    "print(message)"
   ]
  },
  {
   "cell_type": "code",
   "execution_count": 28,
   "id": "d12d5649",
   "metadata": {},
   "outputs": [
    {
     "name": "stdout",
     "output_type": "stream",
     "text": [
      "failure\n"
     ]
    }
   ],
   "source": [
    "scores = 50\n",
    "message = \"success\" if scores >= 60 else \"failure\"\n",
    "print(message)"
   ]
  },
  {
   "cell_type": "markdown",
   "id": "0d17e200",
   "metadata": {},
   "source": [
    "# 확인문제"
   ]
  },
  {
   "cell_type": "code",
   "execution_count": 32,
   "id": "86b70a24",
   "metadata": {},
   "outputs": [
    {
     "name": "stdout",
     "output_type": "stream",
     "text": [
      "일반인\n"
     ]
    }
   ],
   "source": [
    "# 학점을 입력받아 다음의 조건에 따라 적절한 문장을 출력하기\n",
    "# 학점이 4.2 이상이면 \"교수님의 사랑\"\n",
    "# 학점이 2.8 이상이고 4.2 미만이면 \"일반인\"\n",
    "# 학점이 2.8 미만이면 \"오락문화의 선구자\"\n",
    "score = 3.4\n",
    "\n",
    "if score >= 4.2:\n",
    "    print(\"교수님의 사랑\")\n",
    "\n",
    "elif score >= 2.8:\n",
    "    print(\"일반인\")\n",
    "\n",
    "else:\n",
    "    print(\"오락문화의 선구자\")\n",
    "    "
   ]
  },
  {
   "cell_type": "markdown",
   "id": "f665a217",
   "metadata": {},
   "source": [
    "# while문\n",
    "\n",
    "- 특정 조건을 만족하는 동안 반복해서 수행해야 할 때 사용\n",
    "- 조건이 True인 동안 반복해서 실행\n",
    "- 반복해야 하는 횟수나 값의 범위가 명확하지 않은 경우에 주로 사용\n",
    "\n",
    "```\n",
    "while 조건식:\n",
    "    반복 실행문\n",
    "```"
   ]
  },
  {
   "cell_type": "code",
   "execution_count": 1,
   "id": "5fda9d55",
   "metadata": {},
   "outputs": [
    {
     "name": "stdout",
     "output_type": "stream",
     "text": [
      "나무를 1번째 찍었습니다\n",
      "나무를 2번째 찍었습니다\n",
      "나무를 3번째 찍었습니다\n",
      "나무를 4번째 찍었습니다\n",
      "나무를 5번째 찍었습니다\n",
      "나무를 6번째 찍었습니다\n",
      "나무를 7번째 찍었습니다\n",
      "나무를 8번째 찍었습니다\n",
      "나무를 9번째 찍었습니다\n",
      "나무를 10번째 찍었습니다\n",
      "나무가 넘어갑니다\n"
     ]
    }
   ],
   "source": [
    "hits = 0\n",
    "tree_hp = 10\n",
    "\n",
    "while hits < tree_hp:\n",
    "    hits += 1\n",
    "    print(f\"나무를 {hits}번째 찍었습니다\")\n",
    "    \n",
    "    if hits == 10:\n",
    "        print(\"나무가 넘어갑니다\")"
   ]
  },
  {
   "cell_type": "markdown",
   "id": "b17b494d",
   "metadata": {},
   "source": [
    "## while문 중첩"
   ]
  },
  {
   "cell_type": "code",
   "execution_count": 2,
   "id": "8254fece",
   "metadata": {},
   "outputs": [
    {
     "name": "stdout",
     "output_type": "stream",
     "text": [
      "1일차 1교시입니다\n",
      "1일차 2교시입니다\n",
      "1일차 3교시입니다\n",
      "2일차 1교시입니다\n",
      "2일차 2교시입니다\n",
      "2일차 3교시입니다\n",
      "3일차 1교시입니다\n",
      "3일차 2교시입니다\n",
      "3일차 3교시입니다\n",
      "4일차 1교시입니다\n",
      "4일차 2교시입니다\n",
      "4일차 3교시입니다\n",
      "5일차 1교시입니다\n",
      "5일차 2교시입니다\n",
      "5일차 3교시입니다\n"
     ]
    }
   ],
   "source": [
    "day = 1\n",
    "\n",
    "while day <= 5:\n",
    "    hour = 1\n",
    "    \n",
    "    while hour <= 3:\n",
    "        print(f\"{day}일차 {hour}교시입니다\")\n",
    "        hour += 1\n",
    "    \n",
    "    day += 1"
   ]
  },
  {
   "cell_type": "code",
   "execution_count": 3,
   "id": "2267e621",
   "metadata": {},
   "outputs": [
    {
     "data": {
      "text/plain": [
       "(6, 4)"
      ]
     },
     "execution_count": 3,
     "metadata": {},
     "output_type": "execute_result"
    }
   ],
   "source": [
    "day, hour"
   ]
  },
  {
   "cell_type": "markdown",
   "id": "e311a139",
   "metadata": {},
   "source": [
    "## break\n",
    "\n",
    "- 반복문을 강제로 종료시킬 때 사용"
   ]
  },
  {
   "cell_type": "code",
   "execution_count": 4,
   "id": "6122bc6c",
   "metadata": {},
   "outputs": [
    {
     "name": "stdout",
     "output_type": "stream",
     "text": [
      "1\n",
      "2\n",
      "3\n",
      "4\n",
      "5\n",
      "6\n",
      "7\n",
      "8\n",
      "9\n",
      "10\n"
     ]
    }
   ],
   "source": [
    "n = 1\n",
    "\n",
    "while True:\n",
    "    print(n)\n",
    "    \n",
    "    if n == 10:\n",
    "        break\n",
    "    \n",
    "    n += 1"
   ]
  },
  {
   "cell_type": "code",
   "execution_count": 6,
   "id": "89fcaade",
   "metadata": {},
   "outputs": [
    {
     "data": {
      "text/plain": [
       "10"
      ]
     },
     "execution_count": 6,
     "metadata": {},
     "output_type": "execute_result"
    }
   ],
   "source": [
    "n"
   ]
  },
  {
   "cell_type": "markdown",
   "id": "aedb2af5",
   "metadata": {},
   "source": [
    "## continue\n",
    "\n",
    "- 반복문의 시작 지점으로 이동\n",
    "- 반복에서 제외하거나 생략하고 싶은 코드가 있을 때 사용"
   ]
  },
  {
   "cell_type": "code",
   "execution_count": 5,
   "id": "b08d4712",
   "metadata": {},
   "outputs": [
    {
     "name": "stdout",
     "output_type": "stream",
     "text": [
      "1\n",
      "3\n",
      "5\n",
      "7\n",
      "9\n"
     ]
    }
   ],
   "source": [
    "a = 0\n",
    "while a < 10:\n",
    "    a += 1\n",
    "    \n",
    "    if a % 2 == 0:\n",
    "        continue\n",
    "        \n",
    "    print(a)"
   ]
  },
  {
   "cell_type": "code",
   "execution_count": 7,
   "id": "dd70d39c",
   "metadata": {},
   "outputs": [
    {
     "data": {
      "text/plain": [
       "10"
      ]
     },
     "execution_count": 7,
     "metadata": {},
     "output_type": "execute_result"
    }
   ],
   "source": [
    "a"
   ]
  },
  {
   "cell_type": "markdown",
   "id": "7c7139cf",
   "metadata": {},
   "source": [
    "# for문\n",
    "\n",
    "- 값의 범위나 반복 횟수가 정해져 있을 때 주로 사용하는 반복문\n",
    "```\n",
    "for 변수 in 반복가능한객체:\n",
    "    반복 실행문\n",
    "```\n",
    "\n",
    "- 반복 가능 객체 : 문자열, 리스트, 튜플, range, 세트, 딕셔너리"
   ]
  },
  {
   "cell_type": "code",
   "execution_count": 9,
   "id": "7c10ba70",
   "metadata": {},
   "outputs": [
    {
     "name": "stdout",
     "output_type": "stream",
     "text": [
      "one\n",
      "two\n",
      "three\n"
     ]
    }
   ],
   "source": [
    "test = [\"one\", \"two\", \"three\"]\n",
    "\n",
    "for i in test:\n",
    "    print(i)\n",
    "    \n",
    "# 리스트에 있는 요소 하나하나가 i 라는 변수에 들어가며, 차례차례 반복"
   ]
  },
  {
   "cell_type": "code",
   "execution_count": 10,
   "id": "0f20e643",
   "metadata": {},
   "outputs": [
    {
     "name": "stdout",
     "output_type": "stream",
     "text": [
      "안\n",
      "녕\n",
      "하\n",
      "세\n",
      "요\n"
     ]
    }
   ],
   "source": [
    "# for 반복문은 문자열을 함께 사용할 수도 있음\n",
    "for char in \"안녕하세요\":\n",
    "    print(char)"
   ]
  },
  {
   "cell_type": "code",
   "execution_count": 12,
   "id": "97e75dfd",
   "metadata": {},
   "outputs": [
    {
     "name": "stdout",
     "output_type": "stream",
     "text": [
      "1번 학생은 합격입니다\n",
      "2번 학생은 불합격입니다\n",
      "3번 학생은 합격입니다\n",
      "4번 학생은 불합격입니다\n",
      "5번 학생은 합격입니다\n"
     ]
    }
   ],
   "source": [
    "# 5명의 학생이 시험을 보았는데 시험 점수가 60점을 넘으면 합격이고 그렇지 않으면 불합격\n",
    "# 학생들의 시험점수를 차례로 검사해서 합격인지 불합격인지 통보해주는 프로그램 ㅁ나들기\n",
    "\n",
    "scores = [90, 25, 67, 45, 80]\n",
    "number = 0\n",
    "\n",
    "for score in scores:\n",
    "    number += 1\n",
    "    \n",
    "    if score >= 60:\n",
    "        print(f\"{number}번 학생은 합격입니다\")\n",
    "        \n",
    "    else:\n",
    "        print(f\"{number}번 학생은 불합격입니다\")"
   ]
  },
  {
   "cell_type": "markdown",
   "id": "74077009",
   "metadata": {},
   "source": [
    "## for문 중첩\n",
    "\n",
    "- 일반적으로 n차원 처리를 할 때 사용\n",
    "    - 리스트가 한 겹으로 감싸지면 1차원 리스트\n",
    "        - 예) [1, 2, 3]\n",
    "    - 리스트가 두 겹으로 감싸지면 2차원 리스트\n",
    "        - 예) [[1, 2, 3], [4, 5, 6]]\n",
    "    \n",
    "    - 위와 같은 n차원 리스트 요소를 모두 확인하려면 반복문을 n번 중첩해야함"
   ]
  },
  {
   "cell_type": "code",
   "execution_count": 14,
   "id": "45c798c4",
   "metadata": {},
   "outputs": [
    {
     "name": "stdout",
     "output_type": "stream",
     "text": [
      "1\n",
      "2\n",
      "3\n",
      "4\n",
      "5\n",
      "6\n",
      "7\n",
      "8\n",
      "9\n"
     ]
    }
   ],
   "source": [
    "over_list = [\n",
    "    [1, 2, 3],\n",
    "    [4, 5, 6, 7],\n",
    "    [8, 9]\n",
    "]\n",
    "\n",
    "for items in over_list:\n",
    "    for item in items:\n",
    "        print(item)"
   ]
  },
  {
   "cell_type": "markdown",
   "id": "a2b96b4d",
   "metadata": {},
   "source": [
    "## continue"
   ]
  },
  {
   "cell_type": "code",
   "execution_count": 15,
   "id": "c480e8e5",
   "metadata": {},
   "outputs": [
    {
     "name": "stdout",
     "output_type": "stream",
     "text": [
      "1번 학생은 합격입니다\n",
      "3번 학생은 합격입니다\n",
      "5번 학생은 합격입니다\n"
     ]
    }
   ],
   "source": [
    "scores = [90, 25, 67, 45, 80]\n",
    "number = 0\n",
    "\n",
    "for score in scores:\n",
    "    number += 1\n",
    "    \n",
    "    if score < 60:\n",
    "        continue\n",
    "        \n",
    "    print(f\"{number}번 학생은 합격입니다\")"
   ]
  },
  {
   "cell_type": "markdown",
   "id": "21c8b868",
   "metadata": {},
   "source": [
    "## range\n",
    "\n",
    "- 수열을 자동으로 만들어주는 함수\n",
    "- range(시작인덱스, 종료인덱스, 증감값)"
   ]
  },
  {
   "cell_type": "code",
   "execution_count": 16,
   "id": "3df56e28",
   "metadata": {},
   "outputs": [
    {
     "name": "stdout",
     "output_type": "stream",
     "text": [
      "0 1 2 3 4 5 6 7 8 9 "
     ]
    }
   ],
   "source": [
    "for i in range(10): #종료값 10\n",
    "    print(i, end = \" \")"
   ]
  },
  {
   "cell_type": "code",
   "execution_count": 17,
   "id": "84e8a220",
   "metadata": {},
   "outputs": [
    {
     "name": "stdout",
     "output_type": "stream",
     "text": [
      "1 2 3 4 5 6 7 8 9 10 "
     ]
    }
   ],
   "source": [
    "for i in range(1, 11):\n",
    "    print(i, end = \" \")"
   ]
  },
  {
   "cell_type": "code",
   "execution_count": 18,
   "id": "c6fcab56",
   "metadata": {},
   "outputs": [
    {
     "name": "stdout",
     "output_type": "stream",
     "text": [
      "1 3 5 7 9 "
     ]
    }
   ],
   "source": [
    "for i in range(1, 11, 2):\n",
    "    print(i, end = \" \")"
   ]
  },
  {
   "cell_type": "code",
   "execution_count": 24,
   "id": "712bf980",
   "metadata": {},
   "outputs": [
    {
     "data": {
      "text/plain": [
       "55"
      ]
     },
     "execution_count": 24,
     "metadata": {},
     "output_type": "execute_result"
    }
   ],
   "source": [
    "# 1. 1부터 까지의 자연수의 총합 구하기\n",
    "temp = 0\n",
    "for i in range(1,11):\n",
    "    temp += i    \n",
    "temp"
   ]
  },
  {
   "cell_type": "code",
   "execution_count": 49,
   "id": "1b5c090b",
   "metadata": {},
   "outputs": [
    {
     "name": "stdout",
     "output_type": "stream",
     "text": [
      "2 x 1 = 2 │ 3 x 1 = 3 │ 4 x 1 = 4 │ 5 x 1 = 5 │ 6 x 1 = 6 │ 7 x 1 = 7 │ 8 x 1 = 8 │ 9 x 1 = 9 │ \n",
      "2 x 2 = 4 │ 3 x 2 = 6 │ 4 x 2 = 8 │ 5 x 2 = 10│ 6 x 2 = 12│ 7 x 2 = 14│ 8 x 2 = 16│ 9 x 2 = 18│ \n",
      "2 x 3 = 6 │ 3 x 3 = 9 │ 4 x 3 = 12│ 5 x 3 = 15│ 6 x 3 = 18│ 7 x 3 = 21│ 8 x 3 = 24│ 9 x 3 = 27│ \n",
      "2 x 4 = 8 │ 3 x 4 = 12│ 4 x 4 = 16│ 5 x 4 = 20│ 6 x 4 = 24│ 7 x 4 = 28│ 8 x 4 = 32│ 9 x 4 = 36│ \n",
      "2 x 5 = 10│ 3 x 5 = 15│ 4 x 5 = 20│ 5 x 5 = 25│ 6 x 5 = 30│ 7 x 5 = 35│ 8 x 5 = 40│ 9 x 5 = 45│ \n",
      "2 x 6 = 12│ 3 x 6 = 18│ 4 x 6 = 24│ 5 x 6 = 30│ 6 x 6 = 36│ 7 x 6 = 42│ 8 x 6 = 48│ 9 x 6 = 54│ \n",
      "2 x 7 = 14│ 3 x 7 = 21│ 4 x 7 = 28│ 5 x 7 = 35│ 6 x 7 = 42│ 7 x 7 = 49│ 8 x 7 = 56│ 9 x 7 = 63│ \n",
      "2 x 8 = 16│ 3 x 8 = 24│ 4 x 8 = 32│ 5 x 8 = 40│ 6 x 8 = 48│ 7 x 8 = 56│ 8 x 8 = 64│ 9 x 8 = 72│ \n",
      "2 x 9 = 18│ 3 x 9 = 27│ 4 x 9 = 36│ 5 x 9 = 45│ 6 x 9 = 54│ 7 x 9 = 63│ 8 x 9 = 72│ 9 x 9 = 81│ \n"
     ]
    }
   ],
   "source": [
    "# 2. 구구단 출력하기\n",
    "\n",
    "for dan in range(1,10):\n",
    "    for i in range(2,10):\n",
    "        print(f\"{i} x {dan} = {dan*i:<2d}\", end = \"│ \")\n",
    "    print(\"\")"
   ]
  },
  {
   "cell_type": "markdown",
   "id": "95acdf29",
   "metadata": {},
   "source": [
    "##  for 반복문과 딕셔너리 조합\n",
    "\n",
    "- for 반복문과 딕셔너리를 조합하면 딕셔너리의 키가 변수로 들어감"
   ]
  },
  {
   "cell_type": "code",
   "execution_count": 54,
   "id": "3055738c",
   "metadata": {},
   "outputs": [
    {
     "name": "stdout",
     "output_type": "stream",
     "text": [
      "name\n",
      "건조망고\n",
      "----------\n",
      "type\n",
      "당절임\n",
      "----------\n",
      "ingredient\n",
      "['망고', '설탕', '나트륨', '색소']\n",
      "----------\n",
      "origin\n",
      "필리핀\n",
      "----------\n"
     ]
    }
   ],
   "source": [
    "dict1 = {\"name\" : \"건조망고\",\n",
    "        \"type\" : \"당절임\",\n",
    "        \"ingredient\" : [\"망고\", \"설탕\", \"나트륨\", \"색소\"],\n",
    "         \"origin\" : \"필리핀\"\n",
    "        }\n",
    "for i in dict1:\n",
    "    print(i)\n",
    "    print(dict1[i])\n",
    "    print(\"-\" * 10)\n"
   ]
  },
  {
   "cell_type": "markdown",
   "id": "fca89aee",
   "metadata": {},
   "source": [
    "## enumerate 함수"
   ]
  },
  {
   "cell_type": "code",
   "execution_count": 52,
   "id": "f1ca9437",
   "metadata": {},
   "outputs": [
    {
     "name": "stdout",
     "output_type": "stream",
     "text": [
      "0번째 요소는 요소1입니다\n",
      "1번째 요소는 요소2입니다\n",
      "2번째 요소는 요소3입니다\n"
     ]
    }
   ],
   "source": [
    "example_list = [\"요소1\", \"요소2\", \"요소3\"]\n",
    "\n",
    "for idx, value in enumerate(example_list):\n",
    "    print(f\"{idx}번째 요소는 {value}입니다\")"
   ]
  },
  {
   "cell_type": "code",
   "execution_count": 53,
   "id": "0ce7a838",
   "metadata": {},
   "outputs": [
    {
     "name": "stdout",
     "output_type": "stream",
     "text": [
      "(0, '요소1')\n",
      "(1, '요소2')\n",
      "(2, '요소3')\n"
     ]
    }
   ],
   "source": [
    "for i in enumerate(example_list):\n",
    "    print(i)"
   ]
  },
  {
   "cell_type": "markdown",
   "id": "8885ffda",
   "metadata": {},
   "source": [
    "# 리스트 내포(list comprehension)"
   ]
  },
  {
   "cell_type": "code",
   "execution_count": 59,
   "id": "9c6c688e",
   "metadata": {},
   "outputs": [
    {
     "name": "stdout",
     "output_type": "stream",
     "text": [
      "522 ns ± 5.01 ns per loop (mean ± std. dev. of 7 runs, 1,000,000 loops each)\n"
     ]
    }
   ],
   "source": [
    "%%timeit\n",
    "# 리스트 내포를 쓰지않았을 때\n",
    "result1 = []\n",
    "\n",
    "for num in range(10):\n",
    "    result1.append(num * 3)\n",
    "    \n",
    "result1"
   ]
  },
  {
   "cell_type": "code",
   "execution_count": 60,
   "id": "c3a9b81d",
   "metadata": {},
   "outputs": [
    {
     "name": "stdout",
     "output_type": "stream",
     "text": [
      "518 ns ± 2.73 ns per loop (mean ± std. dev. of 7 runs, 1,000,000 loops each)\n"
     ]
    }
   ],
   "source": [
    "%%timeit\n",
    "# 위의 코드를 리스트 내포를 사용하여 작성할 때\n",
    "result1 = [num * 3 for num in range(10)]\n",
    "\n",
    "result1"
   ]
  },
  {
   "cell_type": "code",
   "execution_count": 63,
   "id": "28dd0e0d",
   "metadata": {},
   "outputs": [
    {
     "data": {
      "text/plain": [
       "[0, 6, 12, 18, 24]"
      ]
     },
     "execution_count": 63,
     "metadata": {},
     "output_type": "execute_result"
    }
   ],
   "source": [
    "# 리스트 내포에 if 조건식 추가\n",
    "result = [num * 3 for num in range(10) if num % 2 == 0]\n",
    "result"
   ]
  },
  {
   "cell_type": "code",
   "execution_count": 81,
   "id": "0d76afce",
   "metadata": {},
   "outputs": [
    {
     "data": {
      "text/plain": [
       "166833"
      ]
     },
     "execution_count": 81,
     "metadata": {},
     "output_type": "execute_result"
    }
   ],
   "source": [
    "# 1. 1부터 1000까지의 3의 배수의 합 구하기\n",
    "tot = 0\n",
    "for i in range(1,1001):\n",
    "    if i % 3 == 0:\n",
    "        tot += i        \n",
    "tot\n",
    "\n",
    "tot = 0\n",
    "for i in range(0,1001,3):\n",
    "    tot += i\n",
    "    \n",
    "tot"
   ]
  },
  {
   "cell_type": "code",
   "execution_count": 88,
   "id": "9ec5c0f1",
   "metadata": {},
   "outputs": [
    {
     "name": "stdout",
     "output_type": "stream",
     "text": [
      "*\n",
      "**\n",
      "***\n",
      "****\n",
      "*****\n"
     ]
    }
   ],
   "source": [
    "# 2. 계단식으로 별 출력하기 (첫 줄에는 * 1개, 두번째 줄에는 * 2개, ... 다섯번째 줄에 * 5개)\n",
    "# *\n",
    "# **\n",
    "# ***\n",
    "# ****\n",
    "# *****\n",
    "\n",
    "for i in range(1,6):\n",
    "    print(\"*\" * i)\n",
    "    "
   ]
  },
  {
   "cell_type": "code",
   "execution_count": 94,
   "id": "5c88cf23",
   "metadata": {},
   "outputs": [
    {
     "name": "stdout",
     "output_type": "stream",
     "text": [
      "*\n",
      "**\n",
      "***\n",
      "****\n",
      "*****\n"
     ]
    }
   ],
   "source": [
    "for i in range(1,6):\n",
    "    for j in range(1,6):\n",
    "        if i >= j:\n",
    "            print(\"*\", end=\"\")\n",
    "    print(\"\")"
   ]
  },
  {
   "cell_type": "code",
   "execution_count": 102,
   "id": "0bfb7431",
   "metadata": {},
   "outputs": [
    {
     "data": {
      "text/plain": [
       "[2, 6, 10, 14, 18]"
      ]
     },
     "execution_count": 102,
     "metadata": {},
     "output_type": "execute_result"
    }
   ],
   "source": [
    "# 3. 1부터 10까지의 자연수 중 홀수만 2를 곱해서 리스트로 저장하기\n",
    "\n",
    "result = [num * 2 for num in range(1, 11) if num % 2 == 1]\n",
    "result"
   ]
  },
  {
   "cell_type": "code",
   "execution_count": null,
   "id": "f44f671b",
   "metadata": {},
   "outputs": [],
   "source": []
  },
  {
   "cell_type": "code",
   "execution_count": null,
   "id": "c792a2af",
   "metadata": {},
   "outputs": [],
   "source": []
  }
 ],
 "metadata": {
  "kernelspec": {
   "display_name": "Python 3 (ipykernel)",
   "language": "python",
   "name": "python3"
  },
  "language_info": {
   "codemirror_mode": {
    "name": "ipython",
    "version": 3
   },
   "file_extension": ".py",
   "mimetype": "text/x-python",
   "name": "python",
   "nbconvert_exporter": "python",
   "pygments_lexer": "ipython3",
   "version": "3.11.5"
  }
 },
 "nbformat": 4,
 "nbformat_minor": 5
}
