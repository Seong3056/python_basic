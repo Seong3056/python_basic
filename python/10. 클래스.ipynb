{
 "cells": [
  {
   "cell_type": "markdown",
   "id": "4836c97c",
   "metadata": {},
   "source": [
    "# 객체\n",
    "\n",
    "- 프로그램을 만들 때는 우선 \"어떤 데이터를 활용하는가?\"를 생각해야함\n",
    "     - 예) 병원 업무 프로그램을 만든다면 의사, 환자, 예약기록, 진료기록, 입퇴원 기록과 같은 데이터를 고려해야함\n",
    " - 여러가지 속성을 가질 수 있는 대상을 객체(object)라고 함"
   ]
  },
  {
   "cell_type": "markdown",
   "id": "c7919885",
   "metadata": {},
   "source": [
    "# 클래스의 개념\n",
    "- 객체를 만드는 도구\n",
    "- 클래스를 통해 여러 개의 객체를 만들 수 있음\n",
    "- 동일한 클래스에서도 서로 다른 값을 가진 객체가 만들어질 수 있음"
   ]
  },
  {
   "cell_type": "code",
   "execution_count": 3,
   "id": "13345a65",
   "metadata": {},
   "outputs": [
    {
     "name": "stdout",
     "output_type": "stream",
     "text": [
      "3\n",
      "7\n"
     ]
    }
   ],
   "source": [
    "# 계산기 예시 코드\n",
    "result = 0\n",
    "\n",
    "def cal_add(num):\n",
    "    global result \n",
    "    result += num\n",
    "    return result\n",
    "print(cal_add(3))\n",
    "print(cal_add(4))"
   ]
  },
  {
   "cell_type": "code",
   "execution_count": 4,
   "id": "ab90ad8c",
   "metadata": {},
   "outputs": [],
   "source": [
    "# 만약에 2대의 계산기가 필요한 상황이라면\n",
    "# 별도의 변수, 별도의 함수를 만들어야하는 상황"
   ]
  },
  {
   "cell_type": "code",
   "execution_count": 6,
   "id": "cf5183d1",
   "metadata": {},
   "outputs": [],
   "source": [
    "class Calculator:\n",
    "    def __init__(self):\n",
    "        self.result = 0\n",
    "        \n",
    "    def add(self,num):\n",
    "        self.result += num\n",
    "        return self.result"
   ]
  },
  {
   "cell_type": "code",
   "execution_count": 7,
   "id": "1603aa8e",
   "metadata": {},
   "outputs": [
    {
     "name": "stdout",
     "output_type": "stream",
     "text": [
      "3\n",
      "7\n",
      "3\n",
      "10\n"
     ]
    }
   ],
   "source": [
    "cal1 = Calculator()\n",
    "cal2 = Calculator()\n",
    "\n",
    "print(cal1.add(3))\n",
    "print(cal1.add(4))\n",
    "print(cal2.add(3))\n",
    "print(cal2.add(7))"
   ]
  },
  {
   "cell_type": "markdown",
   "id": "d8d24bb5",
   "metadata": {},
   "source": [
    "- 클래스 생성"
   ]
  },
  {
   "cell_type": "code",
   "execution_count": 9,
   "id": "f079c04b",
   "metadata": {},
   "outputs": [],
   "source": [
    "class WaffleMachine:\n",
    "    pass"
   ]
  },
  {
   "cell_type": "code",
   "execution_count": 11,
   "id": "1557ecf0",
   "metadata": {},
   "outputs": [],
   "source": [
    "# 객체   클래스()\n",
    "waffle = WaffleMachine()"
   ]
  },
  {
   "cell_type": "code",
   "execution_count": 12,
   "id": "2e15eafa",
   "metadata": {},
   "outputs": [
    {
     "data": {
      "text/plain": [
       "<__main__.WaffleMachine at 0x1a72b5b4510>"
      ]
     },
     "execution_count": 12,
     "metadata": {},
     "output_type": "execute_result"
    }
   ],
   "source": [
    "# 메모리의 0x1a72b5b4510에 저장된 WaffleMachine 객체\n",
    "waffle"
   ]
  },
  {
   "cell_type": "markdown",
   "id": "533e0b94",
   "metadata": {},
   "source": [
    "## 클래스의 구성\n",
    "\n",
    "- 클래스는 객체가 가져야 할 구성요소를 모두 가지고 있어야함\n",
    "    - 객체가 가져야할 값, 기능\n",
    "        - 값 : 이름, 나이, 연락처, 주소 등(변수)\n",
    "        - 기능 : 잔다, 먹는다, 공부한다, 달린다 등(함수)"
   ]
  },
  {
   "cell_type": "code",
   "execution_count": 13,
   "id": "12d4c518",
   "metadata": {},
   "outputs": [],
   "source": [
    "# 사칙연산 클래스\n",
    "class FourCal:\n",
    "    pass"
   ]
  },
  {
   "cell_type": "code",
   "execution_count": 14,
   "id": "18c03875",
   "metadata": {},
   "outputs": [
    {
     "data": {
      "text/plain": [
       "__main__.FourCal"
      ]
     },
     "execution_count": 14,
     "metadata": {},
     "output_type": "execute_result"
    }
   ],
   "source": [
    "cal = FourCal()\n",
    "type(cal)"
   ]
  },
  {
   "cell_type": "markdown",
   "id": "8ff636ea",
   "metadata": {},
   "source": [
    "### 인스턴스 변수와 인스턴스 메소드\n",
    "\n",
    "- 인스턴스 변수 : 클래스를 기반으로 만들어지는 모든 객체들이 각각 따로 저장하는 변수\n",
    "    - 모든 인스턴스 변수는 self라는 키워드를 붙임\n",
    "    - self는 자기자신을 나타내는 의미\n",
    "        - 자신이 가지고 있는 속성과 기능에 접근할 때는 self.식별자 형태로 접근\n",
    "\n",
    "- 인스턴스 메소드 : 클래스 내부에서 정의되는 함수\n",
    "    - 인스턴스 변수값에 따라서 각 객체마다 다르게 동작\n",
    "        - 첫 번째 매개변수로 self를 추가"
   ]
  },
  {
   "cell_type": "code",
   "execution_count": 16,
   "id": "ca357a14",
   "metadata": {},
   "outputs": [],
   "source": [
    "# 예시1. Person 클래스를 정의\n",
    "class Person:\n",
    "    def who_am_i(self, name, age, tel, address):\n",
    "        # 인스턴스 메소드 who_am_i\n",
    "        # 모든 Person클래스의 객체는 who_am_i() 메소드를 호출 가능\n",
    "        # self를 제외한 나머지 매개변수에 실제로 사용될 데이터가 전달\n",
    "        \n",
    "        self.name = name\n",
    "        # 인스턴스 변수 name\n",
    "        # = 오른쪽에 있는 name은 매개변수의 name\n",
    "        # who_am_i() 메소드를 호출할 때 전달된 name이 객체의 name이 됨\n",
    "        \n",
    "        self.age = age\n",
    "        self.tel = tel\n",
    "        self.address = address"
   ]
  },
  {
   "cell_type": "code",
   "execution_count": 20,
   "id": "7d155650",
   "metadata": {},
   "outputs": [],
   "source": [
    "# 객체 boy가 생성\n",
    "boy = Person()"
   ]
  },
  {
   "cell_type": "code",
   "execution_count": 22,
   "id": "c258f702",
   "metadata": {},
   "outputs": [],
   "source": [
    "boy.who_am_i(\"john\", 15, \"123-1234\", \"seoul\")"
   ]
  },
  {
   "cell_type": "code",
   "execution_count": 23,
   "id": "4b50d486",
   "metadata": {},
   "outputs": [
    {
     "data": {
      "text/plain": [
       "'john'"
      ]
     },
     "execution_count": 23,
     "metadata": {},
     "output_type": "execute_result"
    }
   ],
   "source": [
    "boy.name"
   ]
  },
  {
   "cell_type": "code",
   "execution_count": 24,
   "id": "1d9eb5bd",
   "metadata": {},
   "outputs": [],
   "source": [
    "girl = Person()"
   ]
  },
  {
   "cell_type": "code",
   "execution_count": 25,
   "id": "5eb6ed81",
   "metadata": {},
   "outputs": [],
   "source": [
    "girl.who_am_i(\"jupyter\", 29, \"234-5678\", \"busan\")"
   ]
  },
  {
   "cell_type": "code",
   "execution_count": 27,
   "id": "069982e9",
   "metadata": {},
   "outputs": [
    {
     "name": "stdout",
     "output_type": "stream",
     "text": [
      "john\n",
      "jupyter\n"
     ]
    }
   ],
   "source": [
    "print(boy.name)\n",
    "print(girl.name)"
   ]
  },
  {
   "cell_type": "code",
   "execution_count": 7,
   "id": "b0d05a63",
   "metadata": {},
   "outputs": [],
   "source": [
    "class Computer:\n",
    "    def set_spec(self, cpu, ram, vga, ssd):\n",
    "        self.cpu = cpu\n",
    "        self.ram = ram\n",
    "        self.vga = vga\n",
    "        self.ssd = ssd\n",
    "    def hardware_info(self):\n",
    "        print(f\" CPU = {self.cpu}\")\n",
    "        print(f\" RAM = {self.ram}\")\n",
    "        print(f\" VGA= {self.vga}\")\n",
    "        print(f\" SSD = {self.ssd}\")"
   ]
  },
  {
   "cell_type": "code",
   "execution_count": 10,
   "id": "bad9bf97",
   "metadata": {},
   "outputs": [
    {
     "name": "stdout",
     "output_type": "stream",
     "text": [
      " CPU = i3\n",
      " RAM = 4gb\n",
      " VGA= 1060\n",
      " SSD = 500gb\n"
     ]
    }
   ],
   "source": [
    "notebook = Computer()\n",
    "notebook.set_spec(\"i3\", \"4gb\", \"1060\", \"500gb\")\n",
    "notebook.hardware_info()"
   ]
  },
  {
   "cell_type": "code",
   "execution_count": 18,
   "id": "0a1fc697",
   "metadata": {},
   "outputs": [],
   "source": [
    "# 객체에서 사용할 인스턴스 변수 생성\n",
    "class FourCal:\n",
    "    def set_data(self, first, second):\n",
    "        self.first = first\n",
    "        self.second = second\n",
    "    \n",
    "    def add():\n",
    "        return self.first + self.second"
   ]
  },
  {
   "cell_type": "code",
   "execution_count": 19,
   "id": "733c6600",
   "metadata": {},
   "outputs": [],
   "source": [
    "cal = FourCal()"
   ]
  },
  {
   "cell_type": "code",
   "execution_count": 20,
   "id": "4f4190c8",
   "metadata": {},
   "outputs": [],
   "source": [
    "cal.set_data(4, 2)"
   ]
  },
  {
   "cell_type": "code",
   "execution_count": 21,
   "id": "42a63197",
   "metadata": {},
   "outputs": [
    {
     "name": "stdout",
     "output_type": "stream",
     "text": [
      "4\n",
      "2\n"
     ]
    }
   ],
   "source": [
    "print(cal.first)\n",
    "print(cal.second)"
   ]
  },
  {
   "cell_type": "code",
   "execution_count": 22,
   "id": "d746a984",
   "metadata": {},
   "outputs": [
    {
     "name": "stdout",
     "output_type": "stream",
     "text": [
      "3\n",
      "7\n"
     ]
    }
   ],
   "source": [
    "test_cal = FourCal()\n",
    "test_cal.set_data(3, 7)\n",
    "print(test_cal.first)\n",
    "print(test_cal.second)"
   ]
  },
  {
   "cell_type": "code",
   "execution_count": 23,
   "id": "5f409ed4",
   "metadata": {},
   "outputs": [
    {
     "name": "stdout",
     "output_type": "stream",
     "text": [
      "4\n"
     ]
    }
   ],
   "source": [
    "# 다른 객체의 영향을 받지 않고 원래의 값을 유지함\n",
    "print(cal.first)"
   ]
  },
  {
   "cell_type": "code",
   "execution_count": 28,
   "id": "d61b188c",
   "metadata": {},
   "outputs": [],
   "source": [
    "# 더하기 기능 추가히기\n",
    "class FourCal:\n",
    "    def set_data(self, first, second):\n",
    "        self.first = first\n",
    "        self.second = second\n",
    "    \n",
    "    # add 메소드 추가\n",
    "    # 각 객체의 first 왕 second의 합을 리턴\n",
    "    def add(self):\n",
    "        return self.first + self.second"
   ]
  },
  {
   "cell_type": "code",
   "execution_count": 29,
   "id": "567143e9",
   "metadata": {},
   "outputs": [
    {
     "name": "stdout",
     "output_type": "stream",
     "text": [
      "6\n"
     ]
    }
   ],
   "source": [
    "cal = FourCal()\n",
    "cal.set_data(1,5)\n",
    "print(cal.add())"
   ]
  },
  {
   "cell_type": "code",
   "execution_count": 42,
   "id": "4aa0ec2b",
   "metadata": {},
   "outputs": [],
   "source": [
    "# 사칙연산 기능 추가하기\n",
    "class FourCal:\n",
    "    def set_data(self, first, second):\n",
    "        self.first = first\n",
    "        self.second = second\n",
    "    \n",
    "    # add 메소드 추가\n",
    "    # 각 객체의 first 왕 second의 합을 리턴\n",
    "    def add(self):\n",
    "        return self.first + self.second\n",
    "    \n",
    "    def mul(self):\n",
    "        return self.first * self.second\n",
    "    \n",
    "    def sub(self):\n",
    "        return self.first - self.second\n",
    "    \n",
    "    def div(self):\n",
    "        return self.first / self.second"
   ]
  },
  {
   "cell_type": "code",
   "execution_count": 43,
   "id": "d37b995e",
   "metadata": {},
   "outputs": [],
   "source": [
    "cal1 = FourCal()\n",
    "cal2 = FourCal()\n",
    "\n",
    "cal1.set_data(4, 2)\n",
    "cal2.set_data(3, 8)\n"
   ]
  },
  {
   "cell_type": "code",
   "execution_count": 44,
   "id": "a2e68591",
   "metadata": {},
   "outputs": [
    {
     "name": "stdout",
     "output_type": "stream",
     "text": [
      "6\n",
      "2\n",
      "8\n",
      "2.0\n"
     ]
    }
   ],
   "source": [
    "print(cal1.add())\n",
    "print(cal1.sub())\n",
    "print(cal1.mul())\n",
    "print(cal1.div())"
   ]
  },
  {
   "cell_type": "code",
   "execution_count": 45,
   "id": "6d15d7e5",
   "metadata": {},
   "outputs": [
    {
     "name": "stdout",
     "output_type": "stream",
     "text": [
      "11\n",
      "-5\n",
      "24\n",
      "0.375\n"
     ]
    }
   ],
   "source": [
    "print(cal2.add())\n",
    "print(cal2.sub())\n",
    "print(cal2.mul())\n",
    "print(cal2.div())"
   ]
  },
  {
   "cell_type": "markdown",
   "id": "09b175e1",
   "metadata": {},
   "source": [
    "# 생성자\n",
    "\n",
    "- 객체가 생성될 때 자동으로 호출되는 메소드"
   ]
  },
  {
   "cell_type": "code",
   "execution_count": 46,
   "id": "9fd10852",
   "metadata": {},
   "outputs": [
    {
     "ename": "AttributeError",
     "evalue": "'FourCal' object has no attribute 'first'",
     "output_type": "error",
     "traceback": [
      "\u001b[1;31m---------------------------------------------------------------------------\u001b[0m",
      "\u001b[1;31mAttributeError\u001b[0m                            Traceback (most recent call last)",
      "Cell \u001b[1;32mIn[46], line 3\u001b[0m\n\u001b[0;32m      1\u001b[0m \u001b[38;5;66;03m# set_data 메소드를 실행해야만 first와 second가 생성됨\u001b[39;00m\n\u001b[0;32m      2\u001b[0m test_const \u001b[38;5;241m=\u001b[39m FourCal()\n\u001b[1;32m----> 3\u001b[0m test_const\u001b[38;5;241m.\u001b[39madd()\n",
      "Cell \u001b[1;32mIn[42], line 10\u001b[0m, in \u001b[0;36mFourCal.add\u001b[1;34m(self)\u001b[0m\n\u001b[0;32m      9\u001b[0m \u001b[38;5;28;01mdef\u001b[39;00m \u001b[38;5;21madd\u001b[39m(\u001b[38;5;28mself\u001b[39m):\n\u001b[1;32m---> 10\u001b[0m     \u001b[38;5;28;01mreturn\u001b[39;00m \u001b[38;5;28mself\u001b[39m\u001b[38;5;241m.\u001b[39mfirst \u001b[38;5;241m+\u001b[39m \u001b[38;5;28mself\u001b[39m\u001b[38;5;241m.\u001b[39msecond\n",
      "\u001b[1;31mAttributeError\u001b[0m: 'FourCal' object has no attribute 'first'"
     ]
    }
   ],
   "source": [
    "# set_data 메소드를 실행해야만 first와 second가 생성됨\n",
    "test_const = FourCal()\n",
    "test_const.add()"
   ]
  },
  {
   "cell_type": "code",
   "execution_count": 48,
   "id": "0664f9de",
   "metadata": {},
   "outputs": [],
   "source": [
    "# 생성자 추가하기\n",
    "class FourCal:\n",
    "    def __init__(self, first, second): # 생성자\n",
    "        self.set_data(first, second)\n",
    "        \n",
    "        \n",
    "    def set_data(self, first, second):\n",
    "        self.first = first\n",
    "        self.second = second\n",
    "    \n",
    "    # add 메소드 추가\n",
    "    # 각 객체의 first 왕 second의 합을 리턴\n",
    "    def add(self):\n",
    "        return self.first + self.second\n",
    "    \n",
    "    def mul(self):\n",
    "        return self.first * self.second\n",
    "    \n",
    "    def sub(self):\n",
    "        return self.first - self.second\n",
    "    \n",
    "    def div(self):\n",
    "        return self.first / self.second"
   ]
  },
  {
   "cell_type": "code",
   "execution_count": 49,
   "id": "bb2248a6",
   "metadata": {},
   "outputs": [
    {
     "ename": "TypeError",
     "evalue": "FourCal.__init__() missing 2 required positional arguments: 'first' and 'second'",
     "output_type": "error",
     "traceback": [
      "\u001b[1;31m---------------------------------------------------------------------------\u001b[0m",
      "\u001b[1;31mTypeError\u001b[0m                                 Traceback (most recent call last)",
      "Cell \u001b[1;32mIn[49], line 2\u001b[0m\n\u001b[0;32m      1\u001b[0m \u001b[38;5;66;03m# 생성자의 매개변수를 전달해야 객체를 생성할 수 있음\u001b[39;00m\n\u001b[1;32m----> 2\u001b[0m test_const \u001b[38;5;241m=\u001b[39m FourCal()\n",
      "\u001b[1;31mTypeError\u001b[0m: FourCal.__init__() missing 2 required positional arguments: 'first' and 'second'"
     ]
    }
   ],
   "source": [
    "# 생성자의 매개변수를 전달해야 객체를 생성할 수 있음\n",
    "test_const = FourCal()"
   ]
  },
  {
   "cell_type": "code",
   "execution_count": 52,
   "id": "fc660957",
   "metadata": {},
   "outputs": [],
   "source": [
    "test_const = FourCal(4, 2)"
   ]
  },
  {
   "cell_type": "code",
   "execution_count": 54,
   "id": "90f5e888",
   "metadata": {},
   "outputs": [
    {
     "name": "stdout",
     "output_type": "stream",
     "text": [
      "4\n",
      "2\n"
     ]
    }
   ],
   "source": [
    "print(test_const.first)\n",
    "print(test_const.second)"
   ]
  },
  {
   "cell_type": "code",
   "execution_count": 55,
   "id": "96eb617c",
   "metadata": {},
   "outputs": [
    {
     "name": "stdout",
     "output_type": "stream",
     "text": [
      "6\n",
      "2.0\n"
     ]
    }
   ],
   "source": [
    "print(test_const.add())\n",
    "print(test_const.div())"
   ]
  },
  {
   "cell_type": "code",
   "execution_count": null,
   "id": "5ef28ab9",
   "metadata": {},
   "outputs": [],
   "source": []
  },
  {
   "cell_type": "code",
   "execution_count": null,
   "id": "6d4db626",
   "metadata": {},
   "outputs": [],
   "source": []
  },
  {
   "cell_type": "code",
   "execution_count": null,
   "id": "b6d3e148",
   "metadata": {},
   "outputs": [],
   "source": []
  },
  {
   "cell_type": "code",
   "execution_count": null,
   "id": "c097921d",
   "metadata": {},
   "outputs": [],
   "source": []
  },
  {
   "cell_type": "code",
   "execution_count": null,
   "id": "e94f0729",
   "metadata": {},
   "outputs": [],
   "source": []
  },
  {
   "cell_type": "code",
   "execution_count": null,
   "id": "c36b9afe",
   "metadata": {},
   "outputs": [],
   "source": []
  },
  {
   "cell_type": "code",
   "execution_count": null,
   "id": "df65a7d0",
   "metadata": {},
   "outputs": [],
   "source": []
  },
  {
   "cell_type": "code",
   "execution_count": null,
   "id": "219325ab",
   "metadata": {},
   "outputs": [],
   "source": []
  },
  {
   "cell_type": "code",
   "execution_count": null,
   "id": "e7bab656",
   "metadata": {},
   "outputs": [],
   "source": []
  }
 ],
 "metadata": {
  "kernelspec": {
   "display_name": "Python 3 (ipykernel)",
   "language": "python",
   "name": "python3"
  },
  "language_info": {
   "codemirror_mode": {
    "name": "ipython",
    "version": 3
   },
   "file_extension": ".py",
   "mimetype": "text/x-python",
   "name": "python",
   "nbconvert_exporter": "python",
   "pygments_lexer": "ipython3",
   "version": "3.11.5"
  }
 },
 "nbformat": 4,
 "nbformat_minor": 5
}
