{
 "cells": [
  {
   "cell_type": "code",
   "execution_count": 1,
   "id": "dbf88c54",
   "metadata": {},
   "outputs": [
    {
     "data": {
      "text/plain": [
       "166833"
      ]
     },
     "execution_count": 1,
     "metadata": {},
     "output_type": "execute_result"
    }
   ],
   "source": [
    "# 1. 1부터 1000까지의 3의 배수의 합 구하기\n",
    "tot = 0\n",
    "for i in range(1,1001):\n",
    "    if i % 3 == 0:\n",
    "        tot += i        \n",
    "tot\n",
    "\n",
    "tot = 0\n",
    "for i in range(0,1001,3):\n",
    "    tot += i\n",
    "    \n",
    "tot"
   ]
  },
  {
   "cell_type": "code",
   "execution_count": 2,
   "id": "c2d9dc0d",
   "metadata": {},
   "outputs": [
    {
     "name": "stdout",
     "output_type": "stream",
     "text": [
      "*\n",
      "**\n",
      "***\n",
      "****\n",
      "*****\n"
     ]
    }
   ],
   "source": [
    "# 2. 계단식으로 별 출력하기 (첫 줄에는 * 1개, 두번째 줄에는 * 2개, ... 다섯번째 줄에 * 5개)\n",
    "# *\n",
    "# **\n",
    "# ***\n",
    "# ****\n",
    "# *****\n",
    "\n",
    "for i in range(1,6):\n",
    "    print(\"*\" * i)\n",
    "    "
   ]
  },
  {
   "cell_type": "code",
   "execution_count": 3,
   "id": "6134ac01",
   "metadata": {},
   "outputs": [
    {
     "name": "stdout",
     "output_type": "stream",
     "text": [
      "*\n",
      "**\n",
      "***\n",
      "****\n",
      "*****\n"
     ]
    }
   ],
   "source": [
    "for i in range(1,6):\n",
    "    for j in range(1,6):\n",
    "        if i >= j:\n",
    "            print(\"*\", end=\"\")\n",
    "    print(\"\")"
   ]
  },
  {
   "cell_type": "code",
   "execution_count": 4,
   "id": "e9d1e201",
   "metadata": {},
   "outputs": [
    {
     "data": {
      "text/plain": [
       "[2, 6, 10, 14, 18]"
      ]
     },
     "execution_count": 4,
     "metadata": {},
     "output_type": "execute_result"
    }
   ],
   "source": [
    "# 3. 1부터 10까지의 자연수 중 홀수만 2를 곱해서 리스트로 저장하기\n",
    "\n",
    "result = [i * 2 for i in range(1, 11) if i % 2 == 1]\n",
    "result\n",
    "\n",
    "[i * 2 for i in range(1, 11, 2)]"
   ]
  },
  {
   "cell_type": "code",
   "execution_count": 5,
   "id": "52cf859e",
   "metadata": {},
   "outputs": [
    {
     "data": {
      "text/plain": [
       "[2, 6, 10, 14, 18]"
      ]
     },
     "execution_count": 5,
     "metadata": {},
     "output_type": "execute_result"
    }
   ],
   "source": [
    "result = []\n",
    "\n",
    "for i in range(1, 11):\n",
    "    if i % 2 == 1:\n",
    "        result.append(i * 2)\n",
    "result"
   ]
  },
  {
   "cell_type": "code",
   "execution_count": 6,
   "id": "7369a539",
   "metadata": {},
   "outputs": [
    {
     "data": {
      "text/plain": [
       "[2, 6, 10, 14, 18]"
      ]
     },
     "execution_count": 6,
     "metadata": {},
     "output_type": "execute_result"
    }
   ],
   "source": [
    "result = []\n",
    "\n",
    "for i in range(1, 11, 2):\n",
    "    result.append(i * 2)\n",
    "    \n",
    "result"
   ]
  },
  {
   "cell_type": "code",
   "execution_count": 7,
   "id": "202c5ccf",
   "metadata": {},
   "outputs": [
    {
     "name": "stdout",
     "output_type": "stream",
     "text": [
      "50000 - 3\n",
      "10000 - 1\n",
      "5000 - 1\n",
      "1000 - 2\n",
      "500 - 1\n",
      "100 - 3\n",
      "50 - 0\n",
      "10 - 0\n"
     ]
    }
   ],
   "source": [
    "# 4. 화폐매수 구하기\n",
    "\n",
    "a = 167800 # 원 => 50000:3, 10000:0, 5000:1 .....\n",
    "b = [50000, 10000, 5000, 1000, 500, 100, 50, 10]\n",
    "\n",
    "for money in b:\n",
    "    print(f\"{money} - {int((a - a % money) / money)}\")\n",
    "    a %= money\n"
   ]
  },
  {
   "cell_type": "code",
   "execution_count": 8,
   "id": "b53baef4",
   "metadata": {},
   "outputs": [
    {
     "name": "stdout",
     "output_type": "stream",
     "text": [
      "50000 - 3\n",
      "10000 - 1\n",
      "5000 - 1\n",
      "1000 - 2\n",
      "500 - 1\n",
      "100 - 3\n",
      "50 - 0\n",
      "10 - 0\n"
     ]
    }
   ],
   "source": [
    "a = 167800 # 원 => 50000:3, 10000:0, 5000:1 .....\n",
    "b = [50000, 10000, 5000, 1000, 500, 100, 50, 10]\n",
    "\n",
    "for money in b:\n",
    "    print(f\"{money} - {a // money}\")\n",
    "    a -= a // money * money"
   ]
  },
  {
   "cell_type": "code",
   "execution_count": 12,
   "id": "d75c592c",
   "metadata": {},
   "outputs": [
    {
     "name": "stdout",
     "output_type": "stream",
     "text": [
      "y1 123\n",
      "y2 234\n",
      "y1 123\n",
      "y2 234\n"
     ]
    }
   ],
   "source": [
    "# 5. name과 data를 각각 리스트에 담기\n",
    "\n",
    "q5 = [{\"name\":\"y1\",\"data\":\"123\"},{\"name\":\"y2\",\"data\":\"234\"}]\n",
    "\n",
    "name = []\n",
    "data = []\n",
    "\n",
    "for value in q5:\n",
    "    name.append(value[\"name\"])\n",
    "    data.append(value[\"data\"])\n",
    "#     print(value[\"name\"],value[\"data\"])\n",
    "# i=0\n",
    "# while i < len(name):\n",
    "#     print(name[i],data[i])\n",
    "#     i+=1\n",
    "for i in range(len(name)):\n",
    "    print(name[i],data[i])\n",
    "\n",
    "for i in zip(name, data):\n",
    "    print(i[0], i[1])"
   ]
  },
  {
   "cell_type": "code",
   "execution_count": 17,
   "id": "28a02026",
   "metadata": {
    "scrolled": true
   },
   "outputs": [
    {
     "name": "stdout",
     "output_type": "stream",
     "text": [
      "a386 123 34\n",
      "a383 123 36\n"
     ]
    }
   ],
   "source": [
    "# 6. id, name, age를 각각 리스트에 담고 각각의 요소들을 짝지어 출력하기\n",
    "q6 = {\"ret\":{\"id\":\"a386\",\"name\":\"123\",\"age\":34},\"ret1\":{\"id\":\"a383\",\"name\":\"123\",\"age\":36}}\n",
    "\n",
    "id_list = []\n",
    "name = []\n",
    "age = []\n",
    "for data in q6:\n",
    "    id_list.append(q6[data][\"id\"])\n",
    "    name.append(q6[data][\"name\"])\n",
    "    age.append(q6[data][\"age\"])\n",
    "\n",
    "for i in zip(id_list, name, age):\n",
    "    print(i[0],i[1],i[2])"
   ]
  },
  {
   "cell_type": "code",
   "execution_count": 25,
   "id": "0069e6f7",
   "metadata": {
    "scrolled": true
   },
   "outputs": [
    {
     "name": "stdout",
     "output_type": "stream",
     "text": [
      "ret1\n",
      "a2001 123 34\n",
      "a2002 123 54\n",
      "a2003 123 36\n",
      "a2004 123 38\n",
      "a2005 123 17\n",
      "a2006 123 52\n",
      "a2007 123 33\n"
     ]
    }
   ],
   "source": [
    "# 7. id, name, age를 각각 리스트에 담고 각각의 요소들을 짝지어 출력하기\n",
    "q7 = {\n",
    "    \"ret\":[\n",
    "        {\"id\":\"a2001\",\"name\":\"123\",\"age\":34},\n",
    "        {\"id\":\"a2002\",\"name\":\"123\",\"age\":54},\n",
    "        {\"id\":\"a2003\",\"name\":\"123\",\"age\":36},\n",
    "        {\"id\":\"a2004\",\"name\":\"123\",\"age\":38}],\n",
    "    \"ret1\":[\n",
    "        {\"id\":\"a2005\",\"name\":\"123\",\"age\":17},\n",
    "        {\"id\":\"a2006\",\"name\":\"123\",\"age\":52},\n",
    "        {\"id\":\"a2007\",\"name\":\"123\",\"age\":33}]\n",
    "      }\n",
    "\n",
    "id_list = []\n",
    "name = []\n",
    "age = []\n",
    "\n",
    "for data_list in q7:\n",
    "    for data in q7[data_list]:\n",
    "        id_list.append(data[\"id\"])\n",
    "        name.append(data[\"name\"])\n",
    "        age.append(data[\"age\"])\n",
    "\n",
    "for i in zip(id_list, name, age):\n",
    "    print(i[0], i[1], i[2])"
   ]
  },
  {
   "cell_type": "code",
   "execution_count": 31,
   "id": "b7e27ce1",
   "metadata": {},
   "outputs": [
    {
     "name": "stdout",
     "output_type": "stream",
     "text": [
      "['AAA', 'BBB', 'CCC']\n",
      "['cat', 'dog', 'cat']\n",
      "[['tuna', 'catnip'], ['bones', 'carrots'], ['mice']]\n",
      "[['ham', 'zucchini'], ['tuna'], ['cookies']]\n"
     ]
    }
   ],
   "source": [
    "# 8. name, species, likes, dislikes 를 각각 리스트에 담고 각각의 요소들을 짝지어 출력하기\n",
    "\n",
    "q8 = [\n",
    "    {\n",
    "        \"name\":\"AAA\",\n",
    "         \"species\":\"cat\",\n",
    "         \"foods\":{\n",
    "             \"likes\":[\"tuna\",\"catnip\"],\n",
    "             \"dislikes\":[\"ham\",\"zucchini\"]}},\n",
    "    {\n",
    "        \"name\":\"BBB\",\n",
    "        \"species\":\"dog\",\n",
    "        \"foods\":{\n",
    "            \"likes\":[\"bones\",\"carrots\"],\n",
    "             \"dislikes\":[\"tuna\"]}},\n",
    "    {\n",
    "        \"name\":\"CCC\",\n",
    "        \"species\":\"cat\",\n",
    "        \"foods\":{\n",
    "            \"likes\":[\"mice\"],\n",
    "            \"dislikes\":[\"cookies\"]}}\n",
    "]\n",
    "\n",
    "name = []\n",
    "species = []\n",
    "likes = []\n",
    "dislikes = []\n",
    "\n",
    "for i in q8:\n",
    "    name.append(i[\"name\"])\n",
    "    species.append(i[\"species\"])\n",
    "    foods = i[\"foods\"]\n",
    "    likes.append(foods[\"likes\"])\n",
    "    dislikes.append(foods[\"dislikes\"])\n",
    "        \n",
    "\n",
    "print(name)\n",
    "print(species)\n",
    "print(likes)\n",
    "print(dislikes)"
   ]
  },
  {
   "cell_type": "code",
   "execution_count": 36,
   "id": "3925c28d",
   "metadata": {},
   "outputs": [
    {
     "name": "stdout",
     "output_type": "stream",
     "text": [
      "id1 가나다1 31\n",
      "id2 가나다2 32\n",
      "id3 가나다3 33\n",
      "id4 가나다4 34\n",
      "id5 가나다5 35\n"
     ]
    }
   ],
   "source": [
    "# 9. id, name, age를 각각 리스트에 담고 각각의 요소들을 짝지어 출력하기\n",
    "\n",
    "q9 = {\n",
    "    \"ret\":\"y\",\n",
    "    \"data\":[\n",
    "        {\"id\":\"id1\",\"name\":\"가나다1\",\"age\":31},\n",
    "        {\"id\":\"id2\",\"name\":\"가나다2\",\"age\":32},\n",
    "        {\"id\":\"id3\",\"name\":\"가나다3\",\"age\":33},\n",
    "        {\"id\":\"id4\",\"name\":\"가나다4\",\"age\":34},\n",
    "        {\"id\":\"id5\",\"name\":\"가나다5\",\"age\":35}\n",
    "    ]\n",
    "}\n",
    "\n",
    "id_list = []\n",
    "name = []\n",
    "age = []\n",
    "\n",
    "for i in q9[\"data\"]:\n",
    "    id_list.append(i[\"id\"])\n",
    "    name.append(i[\"name\"])\n",
    "    age.append(i[\"age\"])\n",
    "\n",
    "for i in zip(id_list, name, age):\n",
    "    print(i[0], i[1], i[2])"
   ]
  },
  {
   "cell_type": "code",
   "execution_count": 43,
   "id": "67ff1f72",
   "metadata": {},
   "outputs": [
    {
     "name": "stdout",
     "output_type": "stream",
     "text": [
      "id1 가나다1 31 50 90 69 209\n",
      "id2 가나다2 32 90 68 80 238\n",
      "id3 가나다3 33 70 76 60 206\n",
      "id4 가나다4 34 80 79 50 209\n",
      "id5 가나다5 35 80 78 90 248\n"
     ]
    }
   ],
   "source": [
    "# 10. id, name, age, math, eng, kor, (math, eng, kor)합계를 각각 리스트에 담고\n",
    "# 각각의 요소를 짝지어 출력하기\n",
    "\n",
    "q10 = {\n",
    "    \"ret\":\"y\",\n",
    "    \"data\":[\n",
    "        {\"id\":\"id1\",\"name\":\"가나다1\",\"age\":31,\"score\":{\"math\":50,\"eng\":90,\"kor\":69}},\n",
    "        {\"id\":\"id2\",\"name\":\"가나다2\",\"age\":32,\"score\":{\"math\":90,\"eng\":68,\"kor\":80}},\n",
    "        {\"id\":\"id3\",\"name\":\"가나다3\",\"age\":33,\"score\":{\"math\":70,\"eng\":76,\"kor\":60}},\n",
    "        {\"id\":\"id4\",\"name\":\"가나다4\",\"age\":34,\"score\":{\"math\":80,\"eng\":79,\"kor\":50}},\n",
    "        {\"id\":\"id5\",\"name\":\"가나다5\",\"age\":35,\"score\":{\"math\":80,\"eng\":78,\"kor\":90}}\n",
    "    ]\n",
    "}\n",
    "\n",
    "id_list = []\n",
    "name = []\n",
    "age = []\n",
    "math = []\n",
    "eng = []\n",
    "kor = []\n",
    "total = []\n",
    "\n",
    "for i in q10[\"data\"]:\n",
    "    id_list.append(i[\"id\"])\n",
    "    name.append(i[\"name\"])\n",
    "    age.append(i[\"age\"])\n",
    "    \n",
    "    score = i[\"score\"]\n",
    "    math.append(score[\"math\"])\n",
    "    eng.append(score[\"eng\"])\n",
    "    kor.append(score[\"kor\"])\n",
    "#    total.append(score[\"math\"] + score[\"eng\"] + score[\"kor\"])\n",
    "    total.append(math[-1] + eng[-1] + kor[-1])\n",
    "    \n",
    "for i in zip(id_list, name, age, math, eng, kor, total):\n",
    "    print(i[0], i[1], i[2], i[3], i[4], i[5], i[6])"
   ]
  },
  {
   "cell_type": "code",
   "execution_count": 49,
   "id": "a13dd95b",
   "metadata": {},
   "outputs": [
    {
     "name": "stdout",
     "output_type": "stream",
     "text": [
      "['미션임파서블:고스트프로토콜', '마이 웨이', '셜록홈즈 : 그림자 게임', '퍼펙트 게임', '프렌즈: 몬스터섬의비밀 ', '라이온 킹', '오싹한 연애', '극장판 포켓몬스터 베스트 위시「비크티니와 백의 영웅 레시라무」', '앨빈과 슈퍼밴드3', '극장판 포켓몬스터 베스트 위시 「비크티니와 흑의 영웅 제크로무」']\n"
     ]
    }
   ],
   "source": [
    "# 11. 영화 제목만 추출된 리스트 생성하기\n",
    "\n",
    "q11 = {\n",
    "    \"boxOfficeResult\":{\n",
    "        \"boxofficeType\":\"일별 박스오피스\",\n",
    "        \"showRange\":\"20120101~20120101\",\n",
    "        \"dailyBoxOfficeList\":[\n",
    "            {\"rnum\":\"1\",\n",
    "             \"rank\":\"1\",\n",
    "             \"rankInten\":\"0\",\n",
    "             \"rankOldAndNew\":\"OLD\",\n",
    "             \"movieCd\":\"20112207\",\n",
    "             \"movieNm\":\"미션임파서블:고스트프로토콜\",\n",
    "             \"openDt\":\"2011-12-15\",\n",
    "             \"salesAmt\":\"2776060500\",\n",
    "             \"salesShare\":\"36.3\",\n",
    "             \"salesInten\":\"-415699000\",\n",
    "             \"salesChange\":\"-13\",\n",
    "             \"salesAcc\":\"40541108500\",\n",
    "             \"audiCnt\":\"353274\",\n",
    "             \"audiInten\":\"-60106\",\n",
    "             \"audiChange\":\"-14.5\",\n",
    "             \"audiAcc\":\"5328435\",\n",
    "             \"scrnCnt\":\"697\",\"showCnt\":\"3223\"},\n",
    "            {\n",
    "                \"rnum\":\"2\",\"rank\":\"2\",\"rankInten\":\"1\",\"rankOldAndNew\":\"OLD\",\"movieCd\":\"20110295\",\"movieNm\":\"마이 웨이\",\"openDt\":\"2011-12-21\",\"salesAmt\":\"1189058500\",\"salesShare\":\"15.6\",\"salesInten\":\"-105894500\",\"salesChange\":\"-8.2\",\"salesAcc\":\"13002897500\",\"audiCnt\":\"153501\",\"audiInten\":\"-16465\",\"audiChange\":\"-9.7\",\"audiAcc\":\"1739543\",\"scrnCnt\":\"588\",\"showCnt\":\"2321\"},{\"rnum\":\"3\",\"rank\":\"3\",\"rankInten\":\"-1\",\"rankOldAndNew\":\"OLD\",\"movieCd\":\"20112621\",\"movieNm\":\"셜록홈즈 : 그림자 게임\",\"openDt\":\"2011-12-21\",\"salesAmt\":\"1176022500\",\"salesShare\":\"15.4\",\"salesInten\":\"-210328500\",\"salesChange\":\"-15.2\",\"salesAcc\":\"10678327500\",\"audiCnt\":\"153004\",\"audiInten\":\"-31283\",\"audiChange\":\"-17\",\"audiAcc\":\"1442861\",\"scrnCnt\":\"360\",\"showCnt\":\"1832\"},{\"rnum\":\"4\",\"rank\":\"4\",\"rankInten\":\"0\",\"rankOldAndNew\":\"OLD\",\"movieCd\":\"20113260\",\"movieNm\":\"퍼펙트 게임\",\"openDt\":\"2011-12-21\",\"salesAmt\":\"644532000\",\"salesShare\":\"8.4\",\"salesInten\":\"-75116500\",\"salesChange\":\"-10.4\",\"salesAcc\":\"6640940000\",\"audiCnt\":\"83644\",\"audiInten\":\"-12225\",\"audiChange\":\"-12.8\",\"audiAcc\":\"895416\",\"scrnCnt\":\"396\",\"showCnt\":\"1364\"},{\"rnum\":\"5\",\"rank\":\"5\",\"rankInten\":\"0\",\"rankOldAndNew\":\"OLD\",\"movieCd\":\"20113271\",\"movieNm\":\"프렌즈: 몬스터섬의비밀 \",\"openDt\":\"2011-12-29\",\"salesAmt\":\"436753500\",\"salesShare\":\"5.7\",\"salesInten\":\"-89051000\",\"salesChange\":\"-16.9\",\"salesAcc\":\"1523037000\",\"audiCnt\":\"55092\",\"audiInten\":\"-15568\",\"audiChange\":\"-22\",\"audiAcc\":\"202909\",\"scrnCnt\":\"290\",\"showCnt\":\"838\"},{\"rnum\":\"6\",\"rank\":\"6\",\"rankInten\":\"1\",\"rankOldAndNew\":\"OLD\",\"movieCd\":\"19940256\",\"movieNm\":\"라이온 킹\",\"openDt\":\"1994-07-02\",\"salesAmt\":\"507115500\",\"salesShare\":\"6.6\",\"salesInten\":\"-114593500\",\"salesChange\":\"-18.4\",\"salesAcc\":\"1841625000\",\"audiCnt\":\"45750\",\"audiInten\":\"-11699\",\"audiChange\":\"-20.4\",\"audiAcc\":\"171285\",\"scrnCnt\":\"244\",\"showCnt\":\"895\"},{\"rnum\":\"7\",\"rank\":\"7\",\"rankInten\":\"-1\",\"rankOldAndNew\":\"OLD\",\"movieCd\":\"20113381\",\"movieNm\":\"오싹한 연애\",\"openDt\":\"2011-12-01\",\"salesAmt\":\"344871000\",\"salesShare\":\"4.5\",\"salesInten\":\"-107005500\",\"salesChange\":\"-23.7\",\"salesAcc\":\"20634684500\",\"audiCnt\":\"45062\",\"audiInten\":\"-15926\",\"audiChange\":\"-26.1\",\"audiAcc\":\"2823060\",\"scrnCnt\":\"243\",\"showCnt\":\"839\"},{\"rnum\":\"8\",\"rank\":\"8\",\"rankInten\":\"0\",\"rankOldAndNew\":\"OLD\",\"movieCd\":\"20112709\",\"movieNm\":\"극장판 포켓몬스터 베스트 위시「비크티니와 백의 영웅 레시라무」\",\"openDt\":\"2011-12-22\",\"salesAmt\":\"167809500\",\"salesShare\":\"2.2\",\"salesInten\":\"-45900500\",\"salesChange\":\"-21.5\",\"salesAcc\":\"1897120000\",\"audiCnt\":\"24202\",\"audiInten\":\"-7756\",\"audiChange\":\"-24.3\",\"audiAcc\":\"285959\",\"scrnCnt\":\"186\",\"showCnt\":\"348\"},{\"rnum\":\"9\",\"rank\":\"9\",\"rankInten\":\"0\",\"rankOldAndNew\":\"OLD\",\"movieCd\":\"20113311\",\"movieNm\":\"앨빈과 슈퍼밴드3\",\"openDt\":\"2011-12-15\",\"salesAmt\":\"137030000\",\"salesShare\":\"1.8\",\"salesInten\":\"-35408000\",\"salesChange\":\"-20.5\",\"salesAcc\":\"3416675000\",\"audiCnt\":\"19729\",\"audiInten\":\"-6461\",\"audiChange\":\"-24.7\",\"audiAcc\":\"516289\",\"scrnCnt\":\"169\",\"showCnt\":\"359\"},{\"rnum\":\"10\",\"rank\":\"10\",\"rankInten\":\"0\",\"rankOldAndNew\":\"OLD\",\"movieCd\":\"20112708\",\"movieNm\":\"극장판 포켓몬스터 베스트 위시 「비크티니와 흑의 영웅 제크로무」\",\"openDt\":\"2011-12-22\",\"salesAmt\":\"125535500\",\"salesShare\":\"1.6\",\"salesInten\":\"-40756000\",\"salesChange\":\"-24.5\",\"salesAcc\":\"1595695000\",\"audiCnt\":\"17817\",\"audiInten\":\"-6554\",\"audiChange\":\"-26.9\",\"audiAcc\":\"235070\",\"scrnCnt\":\"175\",\"showCnt\":\"291\"}]}}\n",
    "movieNm_list = []\n",
    "for i in q11[\"boxOfficeResult\"][\"dailyBoxOfficeList\"]:\n",
    "    movieNm_list.append(i[\"movieNm\"])\n",
    "\n",
    "print(movieNm_list)"
   ]
  },
  {
   "cell_type": "code",
   "execution_count": 51,
   "id": "dd9783a2",
   "metadata": {},
   "outputs": [],
   "source": [
    "title = [i[\"movieNm\"] for i in q11[\"boxOfficeResult\"][\"dailyBoxOfficeList\"]]"
   ]
  },
  {
   "cell_type": "code",
   "execution_count": 58,
   "id": "a95749b7",
   "metadata": {},
   "outputs": [
    {
     "data": {
      "text/plain": [
       "{'name': '기사', 'hp': 200, 'mp': 30, 'level': 5}"
      ]
     },
     "execution_count": 58,
     "metadata": {},
     "output_type": "execute_result"
    }
   ],
   "source": [
    "# 12. 두 리스트를 조합해 하나의 딕셔너리 만들기\n",
    "key_list = [\"name\", \"hp\", \"mp\", \"level\"]\n",
    "value_list = [\"기사\", 200, 30, 5]\n",
    "charater = dict()\n",
    "\n",
    "for i in zip(key_list, value_list):\n",
    "    charater[i[0]] = i[1]\n",
    "\n",
    "charater"
   ]
  },
  {
   "cell_type": "code",
   "execution_count": 62,
   "id": "525d88f3",
   "metadata": {},
   "outputs": [
    {
     "data": {
      "text/plain": [
       "{'name': '기사', 'hp': 200, 'mp': 30, 'level': 5}"
      ]
     },
     "execution_count": 62,
     "metadata": {},
     "output_type": "execute_result"
    }
   ],
   "source": [
    "charater = {i[0] : i[1] for i in zip(key_list, value_list)}\n",
    "charater"
   ]
  },
  {
   "cell_type": "code",
   "execution_count": 63,
   "id": "26502e78",
   "metadata": {},
   "outputs": [
    {
     "data": {
      "text/plain": [
       "{'name': '기사', 'hp': 200, 'mp': 30, 'level': 5}"
      ]
     },
     "execution_count": 63,
     "metadata": {},
     "output_type": "execute_result"
    }
   ],
   "source": [
    "charater = dict(zip(key_list, value_list))\n",
    "charater"
   ]
  },
  {
   "cell_type": "code",
   "execution_count": 90,
   "id": "c5eeffac",
   "metadata": {},
   "outputs": [
    {
     "data": {
      "text/plain": [
       "{1: 3, 2: 4, 6: 1, 8: 2, 4: 3, 3: 3, 9: 3, 5: 2, 7: 2}"
      ]
     },
     "execution_count": 90,
     "metadata": {},
     "output_type": "execute_result"
    }
   ],
   "source": [
    "# 13. 리스트의 각 숫자가 몇 번 등장하는지 출력하는 코드 작성하기\n",
    "\n",
    "numbers = [1, 2, 6, 8, 4, 3, 2, 1, 9, 5, 4, 9, 7, 2, 1, 3, 5, 4, 8, 9, 7, 2, 3]\n",
    "count = dict()\n",
    "\n",
    "for i in numbers:        \n",
    "    count[i] = 0\n",
    "for i in numbers:\n",
    "    count[i] += 1\n",
    "count"
   ]
  },
  {
   "cell_type": "code",
   "execution_count": 95,
   "id": "4a04a84d",
   "metadata": {},
   "outputs": [
    {
     "name": "stdout",
     "output_type": "stream",
     "text": [
      "{1: 3, 2: 4, 3: 3, 4: 3, 5: 2, 6: 1, 7: 2, 8: 2, 9: 3}\n"
     ]
    }
   ],
   "source": [
    "count = dict()\n",
    "for i in set(numbers):\n",
    "    count[i] = numbers.count(i)\n",
    "    \n",
    "print(count)"
   ]
  },
  {
   "cell_type": "code",
   "execution_count": null,
   "id": "daab35a0",
   "metadata": {},
   "outputs": [],
   "source": [
    "count = {i : number.count(i) for i in set(numbers)}\n",
    "print(count)"
   ]
  },
  {
   "cell_type": "code",
   "execution_count": 98,
   "id": "7163dfdb",
   "metadata": {},
   "outputs": [
    {
     "data": {
      "text/plain": [
       "{1: 3, 2: 4, 6: 1, 8: 2, 4: 3, 3: 3, 9: 3, 5: 2, 7: 2}"
      ]
     },
     "execution_count": 98,
     "metadata": {},
     "output_type": "execute_result"
    }
   ],
   "source": [
    "# 하나하나 새는 방식\n",
    "numbers = [1, 2, 6, 8, 4, 3, 2, 1, 9, 5, 4, 9, 7, 2, 1, 3, 5, 4, 8, 9, 7, 2, 3]\n",
    "counter = dict()\n",
    "for num in numbers:\n",
    "    \n",
    "    if num in counter: # 해당 key 가 딕셔너리 안에 있다면\n",
    "        counter[num] = counter[num] + 1\n",
    "        \n",
    "    else: # 해당 key 가 딕셔너리 안에 없다면\n",
    "        counter[num] = 1\n",
    "\n",
    "counter"
   ]
  },
  {
   "cell_type": "code",
   "execution_count": 99,
   "id": "2c298c2c",
   "metadata": {},
   "outputs": [
    {
     "name": "stdout",
     "output_type": "stream",
     "text": [
      "{1: 3, 2: 4, 6: 1, 8: 2, 4: 3, 3: 3, 9: 3, 5: 2, 7: 2}\n"
     ]
    }
   ],
   "source": [
    "# 위 코드를 get() 메서드로 개선\n",
    "numbers = [1, 2, 6, 8, 4, 3, 2, 1, 9, 5, 4, 9, 7, 2, 1, 3, 5, 4, 8, 9, 7, 2, 3]\n",
    "counter = dict()\n",
    "\n",
    "for num in numbers:\n",
    "    counter[num] = counter.get(num, 0) + 1\n",
    "\n",
    "print(counter)"
   ]
  },
  {
   "cell_type": "code",
   "execution_count": null,
   "id": "7eeb20fc",
   "metadata": {},
   "outputs": [],
   "source": []
  },
  {
   "cell_type": "code",
   "execution_count": null,
   "id": "3730b8f9",
   "metadata": {},
   "outputs": [],
   "source": []
  },
  {
   "cell_type": "code",
   "execution_count": null,
   "id": "a7840097",
   "metadata": {},
   "outputs": [],
   "source": []
  },
  {
   "cell_type": "code",
   "execution_count": null,
   "id": "b698ddeb",
   "metadata": {},
   "outputs": [],
   "source": []
  },
  {
   "cell_type": "code",
   "execution_count": null,
   "id": "f01e297a",
   "metadata": {},
   "outputs": [],
   "source": []
  }
 ],
 "metadata": {
  "kernelspec": {
   "display_name": "Python 3 (ipykernel)",
   "language": "python",
   "name": "python3"
  },
  "language_info": {
   "codemirror_mode": {
    "name": "ipython",
    "version": 3
   },
   "file_extension": ".py",
   "mimetype": "text/x-python",
   "name": "python",
   "nbconvert_exporter": "python",
   "pygments_lexer": "ipython3",
   "version": "3.11.5"
  }
 },
 "nbformat": 4,
 "nbformat_minor": 5
}
