{
 "cells": [
  {
   "cell_type": "code",
   "execution_count": 1,
   "id": "dbf88c54",
   "metadata": {},
   "outputs": [
    {
     "data": {
      "text/plain": [
       "166833"
      ]
     },
     "execution_count": 1,
     "metadata": {},
     "output_type": "execute_result"
    }
   ],
   "source": [
    "# 1. 1부터 1000까지의 3의 배수의 합 구하기\n",
    "tot = 0\n",
    "for i in range(1,1001):\n",
    "    if i % 3 == 0:\n",
    "        tot += i        \n",
    "tot\n",
    "\n",
    "tot = 0\n",
    "for i in range(0,1001,3):\n",
    "    tot += i\n",
    "    \n",
    "tot"
   ]
  },
  {
   "cell_type": "code",
   "execution_count": 2,
   "id": "c2d9dc0d",
   "metadata": {},
   "outputs": [
    {
     "name": "stdout",
     "output_type": "stream",
     "text": [
      "*\n",
      "**\n",
      "***\n",
      "****\n",
      "*****\n"
     ]
    }
   ],
   "source": [
    "# 2. 계단식으로 별 출력하기 (첫 줄에는 * 1개, 두번째 줄에는 * 2개, ... 다섯번째 줄에 * 5개)\n",
    "# *\n",
    "# **\n",
    "# ***\n",
    "# ****\n",
    "# *****\n",
    "\n",
    "for i in range(1,6):\n",
    "    print(\"*\" * i)\n",
    "    "
   ]
  },
  {
   "cell_type": "code",
   "execution_count": 3,
   "id": "6134ac01",
   "metadata": {},
   "outputs": [
    {
     "name": "stdout",
     "output_type": "stream",
     "text": [
      "*\n",
      "**\n",
      "***\n",
      "****\n",
      "*****\n"
     ]
    }
   ],
   "source": [
    "for i in range(1,6):\n",
    "    for j in range(1,6):\n",
    "        if i >= j:\n",
    "            print(\"*\", end=\"\")\n",
    "    print(\"\")"
   ]
  },
  {
   "cell_type": "code",
   "execution_count": 4,
   "id": "e9d1e201",
   "metadata": {},
   "outputs": [
    {
     "data": {
      "text/plain": [
       "[2, 6, 10, 14, 18]"
      ]
     },
     "execution_count": 4,
     "metadata": {},
     "output_type": "execute_result"
    }
   ],
   "source": [
    "# 3. 1부터 10까지의 자연수 중 홀수만 2를 곱해서 리스트로 저장하기\n",
    "\n",
    "result = [i * 2 for i in range(1, 11) if i % 2 == 1]\n",
    "result\n",
    "\n",
    "[i * 2 for i in range(1, 11, 2)]"
   ]
  },
  {
   "cell_type": "code",
   "execution_count": 5,
   "id": "52cf859e",
   "metadata": {},
   "outputs": [
    {
     "data": {
      "text/plain": [
       "[2, 6, 10, 14, 18]"
      ]
     },
     "execution_count": 5,
     "metadata": {},
     "output_type": "execute_result"
    }
   ],
   "source": [
    "result = []\n",
    "\n",
    "for i in range(1, 11):\n",
    "    if i % 2 == 1:\n",
    "        result.append(i * 2)\n",
    "result"
   ]
  },
  {
   "cell_type": "code",
   "execution_count": 6,
   "id": "7369a539",
   "metadata": {},
   "outputs": [
    {
     "data": {
      "text/plain": [
       "[2, 6, 10, 14, 18]"
      ]
     },
     "execution_count": 6,
     "metadata": {},
     "output_type": "execute_result"
    }
   ],
   "source": [
    "result = []\n",
    "\n",
    "for i in range(1, 11, 2):\n",
    "    result.append(i * 2)\n",
    "    \n",
    "result"
   ]
  },
  {
   "cell_type": "code",
   "execution_count": 7,
   "id": "202c5ccf",
   "metadata": {},
   "outputs": [
    {
     "name": "stdout",
     "output_type": "stream",
     "text": [
      "50000 - 3\n",
      "10000 - 1\n",
      "5000 - 1\n",
      "1000 - 2\n",
      "500 - 1\n",
      "100 - 3\n",
      "50 - 0\n",
      "10 - 0\n"
     ]
    }
   ],
   "source": [
    "# 4. 화폐매수 구하기\n",
    "\n",
    "a = 167800 # 원 => 50000:3, 10000:0, 5000:1 .....\n",
    "b = [50000, 10000, 5000, 1000, 500, 100, 50, 10]\n",
    "\n",
    "for money in b:\n",
    "    print(f\"{money} - {int((a - a % money) / money)}\")\n",
    "    a %= money\n"
   ]
  },
  {
   "cell_type": "code",
   "execution_count": 8,
   "id": "b53baef4",
   "metadata": {},
   "outputs": [
    {
     "name": "stdout",
     "output_type": "stream",
     "text": [
      "50000 - 3\n",
      "10000 - 1\n",
      "5000 - 1\n",
      "1000 - 2\n",
      "500 - 1\n",
      "100 - 3\n",
      "50 - 0\n",
      "10 - 0\n"
     ]
    }
   ],
   "source": [
    "a = 167800 # 원 => 50000:3, 10000:0, 5000:1 .....\n",
    "b = [50000, 10000, 5000, 1000, 500, 100, 50, 10]\n",
    "\n",
    "for money in b:\n",
    "    print(f\"{money} - {a // money}\")\n",
    "    a -= a // money * money"
   ]
  },
  {
   "cell_type": "code",
   "execution_count": 12,
   "id": "d75c592c",
   "metadata": {},
   "outputs": [
    {
     "name": "stdout",
     "output_type": "stream",
     "text": [
      "y1 123\n",
      "y2 234\n",
      "y1 123\n",
      "y2 234\n"
     ]
    }
   ],
   "source": [
    "# 5. name과 data를 각각 리스트에 담기\n",
    "\n",
    "q5 = [{\"name\":\"y1\",\"data\":\"123\"},{\"name\":\"y2\",\"data\":\"234\"}]\n",
    "\n",
    "name = []\n",
    "data = []\n",
    "\n",
    "for value in q5:\n",
    "    name.append(value[\"name\"])\n",
    "    data.append(value[\"data\"])\n",
    "#     print(value[\"name\"],value[\"data\"])\n",
    "# i=0\n",
    "# while i < len(name):\n",
    "#     print(name[i],data[i])\n",
    "#     i+=1\n",
    "for i in range(len(name)):\n",
    "    print(name[i],data[i])\n",
    "\n",
    "for i in zip(name, data):\n",
    "    print(i[0], i[1])"
   ]
  },
  {
   "cell_type": "code",
   "execution_count": 17,
   "id": "28a02026",
   "metadata": {
    "scrolled": true
   },
   "outputs": [
    {
     "name": "stdout",
     "output_type": "stream",
     "text": [
      "a386 123 34\n",
      "a383 123 36\n"
     ]
    }
   ],
   "source": [
    "# 6. id, name, age를 각각 리스트에 담고 각각의 요소들을 짝지어 출력하기\n",
    "q6 = {\"ret\":{\"id\":\"a386\",\"name\":\"123\",\"age\":34},\"ret1\":{\"id\":\"a383\",\"name\":\"123\",\"age\":36}}\n",
    "\n",
    "id_list = []\n",
    "name = []\n",
    "age = []\n",
    "for data in q6:\n",
    "    id_list.append(q6[data][\"id\"])\n",
    "    name.append(q6[data][\"name\"])\n",
    "    age.append(q6[data][\"age\"])\n",
    "\n",
    "for i in zip(id_list, name, age):\n",
    "    print(i[0],i[1],i[2])"
   ]
  },
  {
   "cell_type": "code",
   "execution_count": 25,
   "id": "0069e6f7",
   "metadata": {
    "scrolled": true
   },
   "outputs": [
    {
     "name": "stdout",
     "output_type": "stream",
     "text": [
      "ret1\n",
      "a2001 123 34\n",
      "a2002 123 54\n",
      "a2003 123 36\n",
      "a2004 123 38\n",
      "a2005 123 17\n",
      "a2006 123 52\n",
      "a2007 123 33\n"
     ]
    }
   ],
   "source": [
    "# 7. id, name, age를 각각 리스트에 담고 각각의 요소들을 짝지어 출력하기\n",
    "q7 = {\n",
    "    \"ret\":[\n",
    "        {\"id\":\"a2001\",\"name\":\"123\",\"age\":34},\n",
    "        {\"id\":\"a2002\",\"name\":\"123\",\"age\":54},\n",
    "        {\"id\":\"a2003\",\"name\":\"123\",\"age\":36},\n",
    "        {\"id\":\"a2004\",\"name\":\"123\",\"age\":38}],\n",
    "    \"ret1\":[\n",
    "        {\"id\":\"a2005\",\"name\":\"123\",\"age\":17},\n",
    "        {\"id\":\"a2006\",\"name\":\"123\",\"age\":52},\n",
    "        {\"id\":\"a2007\",\"name\":\"123\",\"age\":33}]\n",
    "      }\n",
    "\n",
    "id_list = []\n",
    "name = []\n",
    "age = []\n",
    "\n",
    "for data_list in q7:\n",
    "    for data in q7[data_list]:\n",
    "        id_list.append(data[\"id\"])\n",
    "        name.append(data[\"name\"])\n",
    "        age.append(data[\"age\"])\n",
    "\n",
    "for i in zip(id_list, name, age):\n",
    "    print(i[0], i[1], i[2])"
   ]
  },
  {
   "cell_type": "code",
   "execution_count": null,
   "id": "f01e297a",
   "metadata": {},
   "outputs": [],
   "source": []
  }
 ],
 "metadata": {
  "kernelspec": {
   "display_name": "Python 3 (ipykernel)",
   "language": "python",
   "name": "python3"
  },
  "language_info": {
   "codemirror_mode": {
    "name": "ipython",
    "version": 3
   },
   "file_extension": ".py",
   "mimetype": "text/x-python",
   "name": "python",
   "nbconvert_exporter": "python",
   "pygments_lexer": "ipython3",
   "version": "3.11.5"
  }
 },
 "nbformat": 4,
 "nbformat_minor": 5
}
