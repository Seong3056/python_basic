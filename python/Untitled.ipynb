{
 "cells": [
  {
   "cell_type": "code",
   "execution_count": 4,
   "id": "f1cc9f3d",
   "metadata": {},
   "outputs": [
    {
     "ename": "TypeError",
     "evalue": "unhashable type: 'list'",
     "output_type": "error",
     "traceback": [
      "\u001b[1;31m---------------------------------------------------------------------------\u001b[0m",
      "\u001b[1;31mTypeError\u001b[0m                                 Traceback (most recent call last)",
      "Cell \u001b[1;32mIn[4], line 8\u001b[0m\n\u001b[0;32m      6\u001b[0m a[\u001b[38;5;124m\"\u001b[39m\u001b[38;5;124mname\u001b[39m\u001b[38;5;124m\"\u001b[39m] \u001b[38;5;241m=\u001b[39m \u001b[38;5;124m\"\u001b[39m\u001b[38;5;124mpython\u001b[39m\u001b[38;5;124m\"\u001b[39m\n\u001b[0;32m      7\u001b[0m a[(\u001b[38;5;124m\"\u001b[39m\u001b[38;5;124ma\u001b[39m\u001b[38;5;124m\"\u001b[39m,)] \u001b[38;5;241m=\u001b[39m \u001b[38;5;124m\"\u001b[39m\u001b[38;5;124m“python”\u001b[39m\u001b[38;5;124m\"\u001b[39m\n\u001b[1;32m----> 8\u001b[0m a[[\u001b[38;5;241m1\u001b[39m]] \u001b[38;5;241m=\u001b[39m \u001b[38;5;124m\"\u001b[39m\u001b[38;5;124m“python”\u001b[39m\u001b[38;5;124m\"\u001b[39m\n\u001b[0;32m      9\u001b[0m a[\u001b[38;5;241m250\u001b[39m] \u001b[38;5;241m=\u001b[39m \u001b[38;5;124m\"\u001b[39m\u001b[38;5;124m“python”\u001b[39m\u001b[38;5;124m\"\u001b[39m\n",
      "\u001b[1;31mTypeError\u001b[0m: unhashable type: 'list'"
     ]
    }
   ],
   "source": [
    "a = dict()\n",
    "\n",
    " \n",
    "\n",
    "\n",
    "a[\"name\"] = \"python\"\n",
    "a[(\"a\",)] = \"“python”\"\n",
    "a[[1]] = \"“python”\"\n",
    "a[250] = \"“python”\""
   ]
  },
  {
   "cell_type": "code",
   "execution_count": 6,
   "id": "14e78355",
   "metadata": {},
   "outputs": [
    {
     "name": "stdout",
     "output_type": "stream",
     "text": [
      "첫 번째 숫자를 입력하세요: 3\n",
      "두 번째 숫자를 입력하세요: 6\n",
      "두 수의 합은 9 입니다\n"
     ]
    }
   ],
   "source": [
    "input1 = int(input(\"첫 번째 숫자를 입력하세요: \"))\n",
    "\n",
    "input2 = int(input(\"두 번째 숫자를 입력하세요: \"))\n",
    "\n",
    " \n",
    "\n",
    "total = input1 + input2\n",
    "\n",
    "print(f\"두 수의 합은 {total} 입니다\")\n",
    "\n",
    " "
   ]
  },
  {
   "cell_type": "code",
   "execution_count": 102,
   "id": "f54efe1e",
   "metadata": {},
   "outputs": [
    {
     "name": "stdout",
     "output_type": "stream",
     "text": [
      "1 : 추가, 2 : 수정, 3 : 삭제, 4 : 목록조회, 0 : 종료 => 1\n",
      "id : a\n",
      "name : 1\n",
      "age : 1\n",
      "height : 1\n",
      "weight : 1\n",
      "\n",
      "1 : 추가, 2 : 수정, 3 : 삭제, 4 : 목록조회, 0 : 종료 => 2\n",
      "수정하려는 id : b\n",
      "name : 2\n",
      "age : 2\n",
      "height : 2\n",
      "weight : 2\n",
      "\"b\"의 데이터를 수정했습니다.\n",
      "\n",
      "1 : 추가, 2 : 수정, 3 : 삭제, 4 : 목록조회, 0 : 종료 => 4\n",
      "id\t name   \t age\t height\t weight\n",
      "a\t 가나다1    \t 61\t 165.4\t 60.2\n",
      "b\t 2       \t 2\t 2.0\t 2.0\n",
      "c\t 가나다3    \t 13\t 145.8\t 60.6\n",
      "d\t 가나다4    \t 44\t 165.7\t 44.5\n",
      "e\t 가나다5    \t 85\t 165.2\t 42.3\n",
      "a\t 1       \t 1\t 1.0\t 1.0\n",
      "\n",
      "1 : 추가, 2 : 수정, 3 : 삭제, 4 : 목록조회, 0 : 종료 => 0\n",
      "프로그램을 종료합니다.\n"
     ]
    }
   ],
   "source": [
    "member = {\n",
    "    \"ret\":\"y\",\n",
    "    \"data\":[\n",
    "        {\"id\":\"a\",\"name\":\"가나다1\",\"age\":61,\"height\":165.4,\"weight\":60.2},\n",
    "        {\"id\":\"b\",\"name\":\"가나다2\",\"age\":32,\"height\":185.4,\"weight\":80.3},\n",
    "        {\"id\":\"c\",\"name\":\"가나다3\",\"age\":13,\"height\":145.8,\"weight\":60.6},\n",
    "        {\"id\":\"d\",\"name\":\"가나다4\",\"age\":44,\"height\":165.7,\"weight\":44.5},\n",
    "        {\"id\":\"e\",\"name\":\"가나다5\",\"age\":85,\"height\":165.2,\"weight\":42.3}]}\n",
    "class Person:\n",
    "    def __init__(self, id, name, age, height, weight):\n",
    "        self.id = id\n",
    "        self.name = name\n",
    "        self.age = age\n",
    "        self.height = height\n",
    "        self.weight = weight\n",
    "\n",
    "db = []\n",
    "data = member[\"data\"]\n",
    "keys = [\"id\", \"name\", \"age\", \"height\", \"weight\"]\n",
    "\n",
    "while True :\n",
    "    db = []\n",
    "    for i in range(len(data)):\n",
    "        p = data[i]\n",
    "        db.append(Person(p[\"id\"],p[\"name\"],p[\"age\"],p[\"height\"],p[\"weight\"]))  \n",
    "    menu = int(input('1 : 추가, 2 : 수정, 3 : 삭제, 4 : 목록조회, 0 : 종료 => '))\n",
    "    \n",
    "    # 추가\n",
    "    if menu == 1: \n",
    "        temp = dict()\n",
    "        temp[\"id\"] = input(\"id : \")\n",
    "        temp[\"name\"] = input(\"name : \")\n",
    "        temp[\"age\"] = int(input(\"age : \"))\n",
    "        temp[\"height\"] = float(input(\"height : \"))\n",
    "        temp[\"weight\"] = float(input(\"weight : \"))            \n",
    "        data.append(temp)\n",
    "    \n",
    "    # 수정\n",
    "    elif menu == 2:\n",
    "        modId = input(\"수정하려는 id : \")\n",
    "        isId = False\n",
    "        for i in data:\n",
    "            if modId == i[\"id\"]:\n",
    "                i[\"name\"] = input(\"name : \")\n",
    "                i[\"age\"] = int(input(\"age : \"))\n",
    "                i[\"height\"] = float(input(\"height : \"))\n",
    "                i[\"weight\"] = float(input(\"weight : \"))\n",
    "                print(f\"\\\"{modId}\\\"의 데이터를 수정했습니다.\")\n",
    "                isId = True\n",
    "\n",
    "        if not isId:\n",
    "            print(f\"\\\"{modId}\\\"는 존재하지않는 아이디 입니다.\")\n",
    "            \n",
    "    # 삭제\n",
    "    elif menu == 3:    \n",
    "        delId = input(\"삭제하려는 id : \")\n",
    "        isId = False\n",
    "        index = 0\n",
    "        for i in data:\n",
    "            if delId == i[\"id\"]:\n",
    "                del data[index]\n",
    "                print(f\"\\\"{delId}\\\"의 데이터를 삭제했습니다.\")\n",
    "                isId = True\n",
    "                \n",
    "            index += 1\n",
    "        \n",
    "        if not isId:\n",
    "            print(f\"\\\"{delId}\\\"는 존재하지않는 아이디 입니다.\")\n",
    "            \n",
    "    # 목록조회\n",
    "    elif menu == 4:    \n",
    "        print(\"id\\t name   \\t age\\t height\\t weight\")\n",
    "        for i in data:\n",
    "            print(\"{0}\\t {1:8s}\\t {2}\\t {3}\\t {4}\".format(i[\"id\"],i[\"name\"],i[\"age\"],i[\"height\"],i[\"weight\"]))\n",
    "            \n",
    "    # 종료       \n",
    "    elif menu == 0:    \n",
    "        print(\"프로그램을 종료합니다.\")\n",
    "        break\n",
    "    \n",
    "    else:\n",
    "        print(\"올바른 항목을 선택해주세요(1, 2, 3, 4, 0)\")\n",
    "        \n",
    "\n",
    "    \n",
    "        \n",
    "    print(\"\")"
   ]
  },
  {
   "cell_type": "code",
   "execution_count": 103,
   "id": "886a304c",
   "metadata": {},
   "outputs": [
    {
     "name": "stdout",
     "output_type": "stream",
     "text": [
      "[<__main__.Person object at 0x00000246DE1899D0>, <__main__.Person object at 0x00000246DDD15990>, <__main__.Person object at 0x00000246DE81FB50>, <__main__.Person object at 0x00000246DE9B7810>, <__main__.Person object at 0x00000246DE9B7ED0>, <__main__.Person object at 0x00000246DE9B5950>]\n"
     ]
    }
   ],
   "source": [
    "print(db)"
   ]
  },
  {
   "cell_type": "code",
   "execution_count": 104,
   "id": "0f0dc730",
   "metadata": {},
   "outputs": [
    {
     "name": "stdout",
     "output_type": "stream",
     "text": [
      "a\n",
      "가나다1\n",
      "61\n",
      "165.4\n",
      "60.2\n",
      "b\n",
      "2\n",
      "2\n",
      "2.0\n",
      "2.0\n",
      "c\n",
      "가나다3\n",
      "13\n",
      "145.8\n",
      "60.6\n",
      "d\n",
      "가나다4\n",
      "44\n",
      "165.7\n",
      "44.5\n",
      "e\n",
      "가나다5\n",
      "85\n",
      "165.2\n",
      "42.3\n",
      "a\n",
      "1\n",
      "1\n",
      "1.0\n",
      "1.0\n"
     ]
    }
   ],
   "source": [
    "for i in range(len(db)):\n",
    "    print(db[i].id)\n",
    "    print(db[i].name)\n",
    "    print(db[i].age)\n",
    "    print(db[i].height)\n",
    "    print(db[i].weight)"
   ]
  },
  {
   "cell_type": "code",
   "execution_count": null,
   "id": "2d38b34d",
   "metadata": {},
   "outputs": [],
   "source": [
    "numbers = [2, 3, 3, 5]\n",
    "print(i)\n",
    "for i,n in enumerate(numbers):\n",
    "    print(i , n)\n",
    "    "
   ]
  },
  {
   "cell_type": "code",
   "execution_count": null,
   "id": "8cec8f12",
   "metadata": {},
   "outputs": [],
   "source": []
  }
 ],
 "metadata": {
  "kernelspec": {
   "display_name": "Python 3 (ipykernel)",
   "language": "python",
   "name": "python3"
  },
  "language_info": {
   "codemirror_mode": {
    "name": "ipython",
    "version": 3
   },
   "file_extension": ".py",
   "mimetype": "text/x-python",
   "name": "python",
   "nbconvert_exporter": "python",
   "pygments_lexer": "ipython3",
   "version": "3.11.5"
  }
 },
 "nbformat": 4,
 "nbformat_minor": 5
}
