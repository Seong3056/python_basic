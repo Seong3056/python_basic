{
 "cells": [
  {
   "cell_type": "markdown",
   "id": "83693b93",
   "metadata": {},
   "source": [
    "# 사용자 입력\n",
    "\n",
    "- 사용자가 값을 입력하게 하고 싶을 때"
   ]
  },
  {
   "cell_type": "markdown",
   "id": "f15cdf9e",
   "metadata": {},
   "source": [
    "## input()"
   ]
  },
  {
   "cell_type": "code",
   "execution_count": 4,
   "id": "cf3bf377",
   "metadata": {},
   "outputs": [
    {
     "name": "stdout",
     "output_type": "stream",
     "text": [
      "python\n"
     ]
    }
   ],
   "source": [
    "a = input()"
   ]
  },
  {
   "cell_type": "code",
   "execution_count": 5,
   "id": "76ec8862",
   "metadata": {},
   "outputs": [
    {
     "name": "stdout",
     "output_type": "stream",
     "text": [
      "python\n"
     ]
    }
   ],
   "source": [
    "print(a)"
   ]
  },
  {
   "cell_type": "code",
   "execution_count": 6,
   "id": "e5e78e36",
   "metadata": {},
   "outputs": [
    {
     "name": "stdout",
     "output_type": "stream",
     "text": [
      "숫자를 입력하세요 : 3\n"
     ]
    }
   ],
   "source": [
    "number = input(\"숫자를 입력하세요 : \")"
   ]
  },
  {
   "cell_type": "code",
   "execution_count": 7,
   "id": "e56358c8",
   "metadata": {},
   "outputs": [
    {
     "name": "stdout",
     "output_type": "stream",
     "text": [
      "3\n"
     ]
    }
   ],
   "source": [
    "print(number)"
   ]
  },
  {
   "cell_type": "code",
   "execution_count": 8,
   "id": "0abe97bf",
   "metadata": {},
   "outputs": [
    {
     "name": "stdout",
     "output_type": "stream",
     "text": [
      "<class 'str'>\n"
     ]
    }
   ],
   "source": [
    "# input은 입력되는 모든 데이터를 문자열로 취급함\n",
    "print(type(number))"
   ]
  },
  {
   "cell_type": "markdown",
   "id": "0a2e5170",
   "metadata": {},
   "source": [
    "# 파일 처리\n",
    "\n",
    "- 파일 처리를 위해서는 파일 열기(open)를 먼저 해야함\n",
    "    - 파일을 열면 파일 읽기(read) 또는 파일 쓰기(write)를 할 수 있음\n",
    "    - 파일 입력(읽기) : 파일의 내용을 읽어들이는 것\n",
    "    - 파일 출력(쓰기) : 파일에 새로운 내용을 추가하거나 새 파일을 생성하는 것\n",
    "    \n",
    "- 파일객체 = open(파일이름(겅로), 파일열기모드)"
   ]
  },
  {
   "cell_type": "code",
   "execution_count": 10,
   "id": "fe3961ea",
   "metadata": {},
   "outputs": [],
   "source": [
    "f = open(\"new_file.txt\", \"w\")\n",
    "f.close() # 파일 닫기"
   ]
  },
  {
   "cell_type": "markdown",
   "id": "e3945676",
   "metadata": {},
   "source": [
    "- 파일 열기 모드\n",
    "    - r (읽기)\n",
    "        - 파일을 읽기만 할 때\n",
    "        - 파일이 없으면 error\n",
    "        \n",
    "    - w (쓰기)\n",
    "        - 파일에 내용을 쓸 때\n",
    "        - 파일이 없으면 새로 만듦\n",
    "        - 기존 파일에 있던 데이터를 완전히 지우고 다시 씀\n",
    "        \n",
    "    - a (추가)\n",
    "        - 파일의 마지막에 새로운 내용을 추가할 때\n",
    "        - 파일이 없으면 새로 만듦"
   ]
  },
  {
   "cell_type": "code",
   "execution_count": 12,
   "id": "e407e804",
   "metadata": {},
   "outputs": [],
   "source": [
    "f = open(\"new_file.txt\", \"w\")\n",
    "\n",
    "for i in range(1, 11):\n",
    "    f.write(str(i) + \"\\n\")\n",
    "\n",
    "f.close()"
   ]
  },
  {
   "cell_type": "markdown",
   "id": "2bfbe176",
   "metadata": {},
   "source": [
    "## 파일 입력\n",
    "\n",
    "- readline()"
   ]
  },
  {
   "cell_type": "code",
   "execution_count": 13,
   "id": "de6c8e34",
   "metadata": {},
   "outputs": [
    {
     "name": "stdout",
     "output_type": "stream",
     "text": [
      "1\n",
      "\n"
     ]
    }
   ],
   "source": [
    "f = open(\"new_file.txt\", \"r\")\n",
    "\n",
    "# 파일의 첫 번째 줄을 읽음\n",
    "line = f.readline()\n",
    "\n",
    "print(line)\n",
    "\n",
    "f.close()"
   ]
  },
  {
   "cell_type": "code",
   "execution_count": 17,
   "id": "1e8f3690",
   "metadata": {},
   "outputs": [
    {
     "name": "stdout",
     "output_type": "stream",
     "text": [
      "1\n",
      "2\n",
      "3\n",
      "4\n",
      "5\n",
      "6\n",
      "7\n",
      "8\n",
      "9\n",
      "10\n"
     ]
    }
   ],
   "source": [
    "# 모든 줄을 읽고 싶다면 반복문 작성\n",
    "f = open(\"new_file.txt\", \"r\")\n",
    "\n",
    "while True:\n",
    "    line = f.readline()\n",
    "    \n",
    "    if not line:\n",
    "        break\n",
    "#     print(line)\n",
    "    # 빈 줄이 같이 출력되는 현상 개선\n",
    "    # ver1\n",
    "#     print(line, end=\"\")\n",
    "    # ver2\n",
    "    print(line.strip())\n",
    "f.close()"
   ]
  },
  {
   "cell_type": "markdown",
   "id": "e3ddb5d7",
   "metadata": {},
   "source": [
    "- readlines()\n",
    "    - 파일의 모든 줄을 읽어서 각각의 줄을 요소로 갖는 리스트가 반환됨"
   ]
  },
  {
   "cell_type": "code",
   "execution_count": 18,
   "id": "a1a1fdd6",
   "metadata": {},
   "outputs": [
    {
     "name": "stdout",
     "output_type": "stream",
     "text": [
      "1\n",
      "\n",
      "2\n",
      "\n",
      "3\n",
      "\n",
      "4\n",
      "\n",
      "5\n",
      "\n",
      "6\n",
      "\n",
      "7\n",
      "\n",
      "8\n",
      "\n",
      "9\n",
      "\n",
      "10\n",
      "\n"
     ]
    }
   ],
   "source": [
    "f = open(\"new_file.txt\", \"r\")\n",
    "\n",
    "lines = f.readlines()\n",
    "\n",
    "for line in lines:\n",
    "    print(line)\n",
    "    \n",
    "f.close()"
   ]
  },
  {
   "cell_type": "code",
   "execution_count": 19,
   "id": "02c10192",
   "metadata": {},
   "outputs": [
    {
     "data": {
      "text/plain": [
       "['1\\n', '2\\n', '3\\n', '4\\n', '5\\n', '6\\n', '7\\n', '8\\n', '9\\n', '10\\n']"
      ]
     },
     "execution_count": 19,
     "metadata": {},
     "output_type": "execute_result"
    }
   ],
   "source": [
    "lines"
   ]
  },
  {
   "cell_type": "markdown",
   "id": "95219a3a",
   "metadata": {},
   "source": [
    "- read()\n",
    "    - 파일 내용 전체를 문자열로 반환"
   ]
  },
  {
   "cell_type": "code",
   "execution_count": 20,
   "id": "602105a4",
   "metadata": {},
   "outputs": [
    {
     "name": "stdout",
     "output_type": "stream",
     "text": [
      "1\n",
      "2\n",
      "3\n",
      "4\n",
      "5\n",
      "6\n",
      "7\n",
      "8\n",
      "9\n",
      "10\n",
      "\n"
     ]
    }
   ],
   "source": [
    "f = open(\"new_file.txt\", \"r\")\n",
    "\n",
    "data = f.read()\n",
    "\n",
    "print(data)\n",
    "\n",
    "f.close()"
   ]
  },
  {
   "cell_type": "code",
   "execution_count": 21,
   "id": "24c33ba5",
   "metadata": {},
   "outputs": [
    {
     "data": {
      "text/plain": [
       "'1\\n2\\n3\\n4\\n5\\n6\\n7\\n8\\n9\\n10\\n'"
      ]
     },
     "execution_count": 21,
     "metadata": {},
     "output_type": "execute_result"
    }
   ],
   "source": [
    "data"
   ]
  },
  {
   "cell_type": "markdown",
   "id": "1a01c487",
   "metadata": {},
   "source": [
    "## 파일 수정"
   ]
  },
  {
   "cell_type": "code",
   "execution_count": 22,
   "id": "e1f7fc50",
   "metadata": {},
   "outputs": [],
   "source": [
    "f = open(\"new_file.txt\", \"a\")\n",
    "\n",
    "for i in range(11, 20):\n",
    "    f.write(str(i) + \"\\n\")\n",
    "\n",
    "f.close()"
   ]
  },
  {
   "cell_type": "markdown",
   "id": "fe1bda43",
   "metadata": {},
   "source": [
    "# with문\n",
    "\n",
    "- 파일 사용이 끝난 다음에는 반드시 close()로 파일을 닫아줘야 함\n",
    "- 자동으로 파일을 닫아주는 문법이 with문"
   ]
  },
  {
   "cell_type": "code",
   "execution_count": 23,
   "id": "02579800",
   "metadata": {},
   "outputs": [
    {
     "name": "stdout",
     "output_type": "stream",
     "text": [
      "1\n",
      "2\n",
      "3\n",
      "4\n",
      "5\n",
      "6\n",
      "7\n",
      "8\n",
      "9\n",
      "10\n",
      "11\n",
      "12\n",
      "13\n",
      "14\n",
      "15\n",
      "16\n",
      "17\n",
      "18\n",
      "19\n",
      "\n"
     ]
    }
   ],
   "source": [
    "with open(\"new_file.txt\", \"r\") as f:\n",
    "    data = f.read()\n",
    "    print(data)"
   ]
  },
  {
   "cell_type": "code",
   "execution_count": null,
   "id": "eb5a3ecc",
   "metadata": {},
   "outputs": [],
   "source": []
  },
  {
   "cell_type": "code",
   "execution_count": null,
   "id": "68f07bbc",
   "metadata": {},
   "outputs": [],
   "source": []
  },
  {
   "cell_type": "code",
   "execution_count": null,
   "id": "bd9530ec",
   "metadata": {},
   "outputs": [],
   "source": []
  },
  {
   "cell_type": "code",
   "execution_count": null,
   "id": "7cd0ceea",
   "metadata": {},
   "outputs": [],
   "source": []
  },
  {
   "cell_type": "code",
   "execution_count": null,
   "id": "ce5551ee",
   "metadata": {},
   "outputs": [],
   "source": []
  },
  {
   "cell_type": "code",
   "execution_count": null,
   "id": "61f74ed9",
   "metadata": {},
   "outputs": [],
   "source": []
  },
  {
   "cell_type": "code",
   "execution_count": null,
   "id": "966ae5ff",
   "metadata": {},
   "outputs": [],
   "source": []
  },
  {
   "cell_type": "code",
   "execution_count": null,
   "id": "b46b7ff8",
   "metadata": {},
   "outputs": [],
   "source": []
  },
  {
   "cell_type": "code",
   "execution_count": null,
   "id": "1be873df",
   "metadata": {},
   "outputs": [],
   "source": []
  },
  {
   "cell_type": "code",
   "execution_count": null,
   "id": "5eec0f16",
   "metadata": {},
   "outputs": [],
   "source": []
  },
  {
   "cell_type": "code",
   "execution_count": null,
   "id": "148fb8f7",
   "metadata": {},
   "outputs": [],
   "source": []
  },
  {
   "cell_type": "code",
   "execution_count": null,
   "id": "fa311fd1",
   "metadata": {},
   "outputs": [],
   "source": []
  },
  {
   "cell_type": "code",
   "execution_count": null,
   "id": "566621cf",
   "metadata": {},
   "outputs": [],
   "source": []
  },
  {
   "cell_type": "code",
   "execution_count": null,
   "id": "1fcadbdb",
   "metadata": {},
   "outputs": [],
   "source": []
  },
  {
   "cell_type": "code",
   "execution_count": null,
   "id": "fc36a265",
   "metadata": {},
   "outputs": [],
   "source": []
  }
 ],
 "metadata": {
  "kernelspec": {
   "display_name": "Python 3 (ipykernel)",
   "language": "python",
   "name": "python3"
  },
  "language_info": {
   "codemirror_mode": {
    "name": "ipython",
    "version": 3
   },
   "file_extension": ".py",
   "mimetype": "text/x-python",
   "name": "python",
   "nbconvert_exporter": "python",
   "pygments_lexer": "ipython3",
   "version": "3.11.5"
  }
 },
 "nbformat": 4,
 "nbformat_minor": 5
}
