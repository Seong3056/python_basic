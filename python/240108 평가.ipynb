{
 "cells": [
  {
   "cell_type": "code",
   "execution_count": 6,
   "id": "73e30761",
   "metadata": {},
   "outputs": [
    {
     "data": {
      "text/plain": [
       "'a'"
      ]
     },
     "execution_count": 6,
     "metadata": {},
     "output_type": "execute_result"
    }
   ],
   "source": [
    "ord('b')\n",
    "chr(97)"
   ]
  },
  {
   "cell_type": "code",
   "execution_count": 12,
   "id": "469543de",
   "metadata": {},
   "outputs": [],
   "source": [
    "with open(\"new_file.txt\", \"w\") as f:\n",
    "    for i in range(97, 123):\n",
    "        f.write(chr(i) + \"\\n\")"
   ]
  },
  {
   "cell_type": "code",
   "execution_count": 140,
   "id": "da77b7b1",
   "metadata": {},
   "outputs": [],
   "source": [
    "with open(\"new_file.txt\", \"w\") as f:\n",
    "    for i in range(ord('a'), ord('z') + 1):\n",
    "        f.write(chr(i) + \"\\n\" if chr(i) !='z' else chr(i))"
   ]
  },
  {
   "cell_type": "code",
   "execution_count": 14,
   "id": "53024f39",
   "metadata": {},
   "outputs": [
    {
     "data": {
      "text/plain": [
       "123"
      ]
     },
     "execution_count": 14,
     "metadata": {},
     "output_type": "execute_result"
    }
   ],
   "source": [
    "ord('z') + 1"
   ]
  },
  {
   "cell_type": "code",
   "execution_count": 20,
   "id": "2cd6d36d",
   "metadata": {},
   "outputs": [
    {
     "name": "stdout",
     "output_type": "stream",
     "text": [
      "490 -170 250 1020 80 620 210 "
     ]
    }
   ],
   "source": [
    "x = [49, -17, 25, 102, 8, 62, 21]\n",
    "for i in x:\n",
    "    print(f\"{i * 10}\", end=\" \")"
   ]
  },
  {
   "cell_type": "code",
   "execution_count": 134,
   "id": "f80456e1",
   "metadata": {},
   "outputs": [
    {
     "name": "stdout",
     "output_type": "stream",
     "text": [
      "*\n",
      "***\n",
      "*****\n",
      "***\n",
      "*\n"
     ]
    }
   ],
   "source": [
    "# *\n",
    "# ***\n",
    "# *****\n",
    "# ***\n",
    "# *\n",
    "# for i in range(10):\n",
    "#     if i % 2 == 1:\n",
    "#         print(i//2)\n",
    "#         if i ==1:\n",
    "#             print(\"*\")\n",
    "#         elif i == 3:\n",
    "#             print(\"*\"*3)\n",
    "#         elif i == 5:\n",
    "#             print(\"*\"*5)\n",
    "\n",
    "# 0 1 2 1 0\n",
    "# 3 2 1 2 3\n",
    "# 3 1 -1 1 3\n",
    "for i in range(1,10):\n",
    "    if i % 2 == 1:        \n",
    "        if i <= 5:\n",
    "            print(\"*\" * i)\n",
    "        else:\n",
    "            print(\"*\" * (10-i))"
   ]
  },
  {
   "cell_type": "code",
   "execution_count": 41,
   "id": "69ac225c",
   "metadata": {},
   "outputs": [
    {
     "data": {
      "text/plain": [
       "'nav51!'"
      ]
     },
     "execution_count": 41,
     "metadata": {},
     "output_type": "execute_result"
    }
   ],
   "source": [
    "# - 사이트 주소 예시 : http://naver.com, http://daum.net, http://google.com, http://youtube.com\n",
    "\n",
    " \n",
    "\n",
    "# - 규칙1 : http:// 부분은 제외한다\n",
    "\n",
    "# - 규칙2 : 처음 만나는 점(.) 부터는 제외한다\n",
    "\n",
    "# - 규칙3 : 남은 글자 중 처음 세 자리 + 글자 개수 + 글자 내 \"e\"의 개수 + \"!\" 로 비밀번호를 구성한다\n",
    "\n",
    "# - 규칙에 따라 http://naver.com 의 비밀번호를 생성하면 nav51! 가 된다\n",
    "\n",
    "# - 함수의 입력값으로는 사이트 주소가 들어가고, 반환값으로 생성된 비밀번호가 나온다\n",
    "address = \"http://naver.com\"\n",
    "def MakePassword(address):    \n",
    "    address = address.replace(\"http://\",\"\")\n",
    "    address = address[:address.find(\".\")]\n",
    "    password = address[:3] + str(len(address)) + str(address.count(\"e\")) + \"!\"\n",
    "    return password\n",
    "MakePassword(address)"
   ]
  },
  {
   "cell_type": "code",
   "execution_count": 44,
   "id": "d34962a3",
   "metadata": {},
   "outputs": [
    {
     "data": {
      "text/plain": [
       "[[1, 4, 7], [2, 5, 8], [3, 6, 9]]"
      ]
     },
     "execution_count": 44,
     "metadata": {},
     "output_type": "execute_result"
    }
   ],
   "source": [
    "numbers = [1, 2, 3, 4, 5, 6, 7, 8, 9]\n",
    "\n",
    "output = [[], [], []]\n",
    "\n",
    "\n",
    "[0, 3],[1, 4],[2, 5]\n",
    "for i in numbers:\n",
    "    output[(i-1)%3].append(i)\n",
    "output\n",
    "    \n",
    "        "
   ]
  },
  {
   "cell_type": "code",
   "execution_count": null,
   "id": "530a3c51",
   "metadata": {},
   "outputs": [],
   "source": []
  }
 ],
 "metadata": {
  "kernelspec": {
   "display_name": "Python 3 (ipykernel)",
   "language": "python",
   "name": "python3"
  },
  "language_info": {
   "codemirror_mode": {
    "name": "ipython",
    "version": 3
   },
   "file_extension": ".py",
   "mimetype": "text/x-python",
   "name": "python",
   "nbconvert_exporter": "python",
   "pygments_lexer": "ipython3",
   "version": "3.11.5"
  }
 },
 "nbformat": 4,
 "nbformat_minor": 5
}
